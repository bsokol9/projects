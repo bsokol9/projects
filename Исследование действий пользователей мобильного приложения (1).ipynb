{
 "cells": [
  {
   "cell_type": "markdown",
   "metadata": {},
   "source": [
    "# Исследование действий пользователей мобильного приложения"
   ]
  },
  {
   "cell_type": "markdown",
   "metadata": {},
   "source": [
    "В моём распоряжении данные стартапа, который занимается продажей продуктов питания. Мне нужно изучить воронку продаж, узнайте, как пользователи доходят до покупки. Сколько пользователей доходит до покупки, а сколько — «застревает» на предыдущих шагах и на каких именно. В том числе провести A/A/B тестирование\n",
    "\n",
    "**Цель исследования:** Определить, как будет влиять новый шрифт на пользователей и ответить на вопрос, будет ли она эффективным с точки зрения продаваемости\n",
    "\n",
    "**Ход исследования:** Данные о действиях пользователей я получу из файла '/datasets/logs_exp.csv'. Данные могут быть необработанны или с какими-нибудь нарушениями, поэтому для начала нам понадобится обзор данных и последующая предобработка (если потребуется).\n",
    "\n",
    "Проверю данные на ошибки и влияющие на моё исследование и недочеты. После на предобработки попытюась исправить в максимально эффективной форме. Далее создам необходимы столбцы и приступлю к исследованию. Как итог хотел бы сделать заключение о своих этапах работы. Она пройдет в \"n\" этапов:\n",
    "\n",
    "1. Обзор данных;\n",
    "\n",
    "2. Предобработка данных;\n",
    "\n",
    "3. Анализ данных;\n",
    "\n",
    "4. Проверка гипотез; \n",
    "\n",
    "5. Вывод.\n"
   ]
  },
  {
   "cell_type": "code",
   "execution_count": 1,
   "metadata": {},
   "outputs": [],
   "source": [
    "#импорт бибилиотек\n",
    "import pandas as pd\n",
    "import scipy.stats as stats\n",
    "import datetime as dt\n",
    "import numpy as np\n",
    "import matplotlib.pyplot as plt\n",
    "from datetime import datetime\n",
    "from scipy import stats as st\n",
    "import numpy as np\n",
    "import math as mth\n",
    "import statistics\n",
    "import plotly.express as px"
   ]
  },
  {
   "cell_type": "markdown",
   "metadata": {},
   "source": [
    "# Шаг 1"
   ]
  },
  {
   "cell_type": "code",
   "execution_count": 2,
   "metadata": {},
   "outputs": [
    {
     "data": {
      "text/html": [
       "<div>\n",
       "<style scoped>\n",
       "    .dataframe tbody tr th:only-of-type {\n",
       "        vertical-align: middle;\n",
       "    }\n",
       "\n",
       "    .dataframe tbody tr th {\n",
       "        vertical-align: top;\n",
       "    }\n",
       "\n",
       "    .dataframe thead th {\n",
       "        text-align: right;\n",
       "    }\n",
       "</style>\n",
       "<table border=\"1\" class=\"dataframe\">\n",
       "  <thead>\n",
       "    <tr style=\"text-align: right;\">\n",
       "      <th></th>\n",
       "      <th>EventName</th>\n",
       "      <th>DeviceIDHash</th>\n",
       "      <th>EventTimestamp</th>\n",
       "      <th>ExpId</th>\n",
       "    </tr>\n",
       "  </thead>\n",
       "  <tbody>\n",
       "    <tr>\n",
       "      <th>0</th>\n",
       "      <td>MainScreenAppear</td>\n",
       "      <td>4575588528974610257</td>\n",
       "      <td>1564029816</td>\n",
       "      <td>246</td>\n",
       "    </tr>\n",
       "    <tr>\n",
       "      <th>1</th>\n",
       "      <td>MainScreenAppear</td>\n",
       "      <td>7416695313311560658</td>\n",
       "      <td>1564053102</td>\n",
       "      <td>246</td>\n",
       "    </tr>\n",
       "    <tr>\n",
       "      <th>2</th>\n",
       "      <td>PaymentScreenSuccessful</td>\n",
       "      <td>3518123091307005509</td>\n",
       "      <td>1564054127</td>\n",
       "      <td>248</td>\n",
       "    </tr>\n",
       "    <tr>\n",
       "      <th>3</th>\n",
       "      <td>CartScreenAppear</td>\n",
       "      <td>3518123091307005509</td>\n",
       "      <td>1564054127</td>\n",
       "      <td>248</td>\n",
       "    </tr>\n",
       "    <tr>\n",
       "      <th>4</th>\n",
       "      <td>PaymentScreenSuccessful</td>\n",
       "      <td>6217807653094995999</td>\n",
       "      <td>1564055322</td>\n",
       "      <td>248</td>\n",
       "    </tr>\n",
       "    <tr>\n",
       "      <th>...</th>\n",
       "      <td>...</td>\n",
       "      <td>...</td>\n",
       "      <td>...</td>\n",
       "      <td>...</td>\n",
       "    </tr>\n",
       "    <tr>\n",
       "      <th>244121</th>\n",
       "      <td>MainScreenAppear</td>\n",
       "      <td>4599628364049201812</td>\n",
       "      <td>1565212345</td>\n",
       "      <td>247</td>\n",
       "    </tr>\n",
       "    <tr>\n",
       "      <th>244122</th>\n",
       "      <td>MainScreenAppear</td>\n",
       "      <td>5849806612437486590</td>\n",
       "      <td>1565212439</td>\n",
       "      <td>246</td>\n",
       "    </tr>\n",
       "    <tr>\n",
       "      <th>244123</th>\n",
       "      <td>MainScreenAppear</td>\n",
       "      <td>5746969938801999050</td>\n",
       "      <td>1565212483</td>\n",
       "      <td>246</td>\n",
       "    </tr>\n",
       "    <tr>\n",
       "      <th>244124</th>\n",
       "      <td>MainScreenAppear</td>\n",
       "      <td>5746969938801999050</td>\n",
       "      <td>1565212498</td>\n",
       "      <td>246</td>\n",
       "    </tr>\n",
       "    <tr>\n",
       "      <th>244125</th>\n",
       "      <td>OffersScreenAppear</td>\n",
       "      <td>5746969938801999050</td>\n",
       "      <td>1565212517</td>\n",
       "      <td>246</td>\n",
       "    </tr>\n",
       "  </tbody>\n",
       "</table>\n",
       "<p>244126 rows × 4 columns</p>\n",
       "</div>"
      ],
      "text/plain": [
       "                      EventName         DeviceIDHash  EventTimestamp  ExpId\n",
       "0              MainScreenAppear  4575588528974610257      1564029816    246\n",
       "1              MainScreenAppear  7416695313311560658      1564053102    246\n",
       "2       PaymentScreenSuccessful  3518123091307005509      1564054127    248\n",
       "3              CartScreenAppear  3518123091307005509      1564054127    248\n",
       "4       PaymentScreenSuccessful  6217807653094995999      1564055322    248\n",
       "...                         ...                  ...             ...    ...\n",
       "244121         MainScreenAppear  4599628364049201812      1565212345    247\n",
       "244122         MainScreenAppear  5849806612437486590      1565212439    246\n",
       "244123         MainScreenAppear  5746969938801999050      1565212483    246\n",
       "244124         MainScreenAppear  5746969938801999050      1565212498    246\n",
       "244125       OffersScreenAppear  5746969938801999050      1565212517    246\n",
       "\n",
       "[244126 rows x 4 columns]"
      ]
     },
     "execution_count": 2,
     "metadata": {},
     "output_type": "execute_result"
    }
   ],
   "source": [
    "data = pd.read_csv(r'C:\\Users\\Богдан\\Downloads\\logs_exp.csv', '\\t')\n",
    "pd.set_option(\"max_colwidth\", 300)\n",
    "data"
   ]
  },
  {
   "cell_type": "code",
   "execution_count": 3,
   "metadata": {},
   "outputs": [
    {
     "name": "stdout",
     "output_type": "stream",
     "text": [
      "<class 'pandas.core.frame.DataFrame'>\n",
      "RangeIndex: 244126 entries, 0 to 244125\n",
      "Data columns (total 4 columns):\n",
      " #   Column          Non-Null Count   Dtype \n",
      "---  ------          --------------   ----- \n",
      " 0   EventName       244126 non-null  object\n",
      " 1   DeviceIDHash    244126 non-null  int64 \n",
      " 2   EventTimestamp  244126 non-null  int64 \n",
      " 3   ExpId           244126 non-null  int64 \n",
      "dtypes: int64(3), object(1)\n",
      "memory usage: 7.5+ MB\n"
     ]
    }
   ],
   "source": [
    "data.info()"
   ]
  },
  {
   "cell_type": "markdown",
   "metadata": {},
   "source": [
    "# Шаг 2"
   ]
  },
  {
   "cell_type": "code",
   "execution_count": 4,
   "metadata": {},
   "outputs": [
    {
     "data": {
      "text/html": [
       "<div>\n",
       "<style scoped>\n",
       "    .dataframe tbody tr th:only-of-type {\n",
       "        vertical-align: middle;\n",
       "    }\n",
       "\n",
       "    .dataframe tbody tr th {\n",
       "        vertical-align: top;\n",
       "    }\n",
       "\n",
       "    .dataframe thead th {\n",
       "        text-align: right;\n",
       "    }\n",
       "</style>\n",
       "<table border=\"1\" class=\"dataframe\">\n",
       "  <thead>\n",
       "    <tr style=\"text-align: right;\">\n",
       "      <th></th>\n",
       "      <th>event_name</th>\n",
       "      <th>device_id_hash</th>\n",
       "      <th>event_time_stamp</th>\n",
       "      <th>exp_id</th>\n",
       "    </tr>\n",
       "  </thead>\n",
       "  <tbody>\n",
       "    <tr>\n",
       "      <th>0</th>\n",
       "      <td>MainScreenAppear</td>\n",
       "      <td>4575588528974610257</td>\n",
       "      <td>1564029816</td>\n",
       "      <td>246</td>\n",
       "    </tr>\n",
       "    <tr>\n",
       "      <th>1</th>\n",
       "      <td>MainScreenAppear</td>\n",
       "      <td>7416695313311560658</td>\n",
       "      <td>1564053102</td>\n",
       "      <td>246</td>\n",
       "    </tr>\n",
       "    <tr>\n",
       "      <th>2</th>\n",
       "      <td>PaymentScreenSuccessful</td>\n",
       "      <td>3518123091307005509</td>\n",
       "      <td>1564054127</td>\n",
       "      <td>248</td>\n",
       "    </tr>\n",
       "    <tr>\n",
       "      <th>3</th>\n",
       "      <td>CartScreenAppear</td>\n",
       "      <td>3518123091307005509</td>\n",
       "      <td>1564054127</td>\n",
       "      <td>248</td>\n",
       "    </tr>\n",
       "    <tr>\n",
       "      <th>4</th>\n",
       "      <td>PaymentScreenSuccessful</td>\n",
       "      <td>6217807653094995999</td>\n",
       "      <td>1564055322</td>\n",
       "      <td>248</td>\n",
       "    </tr>\n",
       "    <tr>\n",
       "      <th>...</th>\n",
       "      <td>...</td>\n",
       "      <td>...</td>\n",
       "      <td>...</td>\n",
       "      <td>...</td>\n",
       "    </tr>\n",
       "    <tr>\n",
       "      <th>244121</th>\n",
       "      <td>MainScreenAppear</td>\n",
       "      <td>4599628364049201812</td>\n",
       "      <td>1565212345</td>\n",
       "      <td>247</td>\n",
       "    </tr>\n",
       "    <tr>\n",
       "      <th>244122</th>\n",
       "      <td>MainScreenAppear</td>\n",
       "      <td>5849806612437486590</td>\n",
       "      <td>1565212439</td>\n",
       "      <td>246</td>\n",
       "    </tr>\n",
       "    <tr>\n",
       "      <th>244123</th>\n",
       "      <td>MainScreenAppear</td>\n",
       "      <td>5746969938801999050</td>\n",
       "      <td>1565212483</td>\n",
       "      <td>246</td>\n",
       "    </tr>\n",
       "    <tr>\n",
       "      <th>244124</th>\n",
       "      <td>MainScreenAppear</td>\n",
       "      <td>5746969938801999050</td>\n",
       "      <td>1565212498</td>\n",
       "      <td>246</td>\n",
       "    </tr>\n",
       "    <tr>\n",
       "      <th>244125</th>\n",
       "      <td>OffersScreenAppear</td>\n",
       "      <td>5746969938801999050</td>\n",
       "      <td>1565212517</td>\n",
       "      <td>246</td>\n",
       "    </tr>\n",
       "  </tbody>\n",
       "</table>\n",
       "<p>244126 rows × 4 columns</p>\n",
       "</div>"
      ],
      "text/plain": [
       "                     event_name       device_id_hash  event_time_stamp  exp_id\n",
       "0              MainScreenAppear  4575588528974610257        1564029816     246\n",
       "1              MainScreenAppear  7416695313311560658        1564053102     246\n",
       "2       PaymentScreenSuccessful  3518123091307005509        1564054127     248\n",
       "3              CartScreenAppear  3518123091307005509        1564054127     248\n",
       "4       PaymentScreenSuccessful  6217807653094995999        1564055322     248\n",
       "...                         ...                  ...               ...     ...\n",
       "244121         MainScreenAppear  4599628364049201812        1565212345     247\n",
       "244122         MainScreenAppear  5849806612437486590        1565212439     246\n",
       "244123         MainScreenAppear  5746969938801999050        1565212483     246\n",
       "244124         MainScreenAppear  5746969938801999050        1565212498     246\n",
       "244125       OffersScreenAppear  5746969938801999050        1565212517     246\n",
       "\n",
       "[244126 rows x 4 columns]"
      ]
     },
     "execution_count": 4,
     "metadata": {},
     "output_type": "execute_result"
    }
   ],
   "source": [
    "#замена названий столбцов\n",
    "data = data.rename(columns = {'EventName' : 'event_name', 'DeviceIDHash' : 'device_id_hash', 'EventTimestamp' : 'event_time_stamp', 'ExpId' : 'exp_id'})\n",
    "data"
   ]
  },
  {
   "cell_type": "code",
   "execution_count": 5,
   "metadata": {},
   "outputs": [
    {
     "name": "stdout",
     "output_type": "stream",
     "text": [
      "event_name          0\n",
      "device_id_hash      0\n",
      "event_time_stamp    0\n",
      "exp_id              0\n",
      "dtype: int64\n"
     ]
    }
   ],
   "source": [
    "#пропуски в файле\n",
    "null = data.isnull().sum()\n",
    "print(null)"
   ]
  },
  {
   "cell_type": "code",
   "execution_count": 6,
   "metadata": {},
   "outputs": [
    {
     "name": "stdout",
     "output_type": "stream",
     "text": [
      "<class 'pandas.core.frame.DataFrame'>\n",
      "RangeIndex: 244126 entries, 0 to 244125\n",
      "Data columns (total 4 columns):\n",
      " #   Column            Non-Null Count   Dtype \n",
      "---  ------            --------------   ----- \n",
      " 0   event_name        244126 non-null  object\n",
      " 1   device_id_hash    244126 non-null  int64 \n",
      " 2   event_time_stamp  244126 non-null  int64 \n",
      " 3   exp_id            244126 non-null  int64 \n",
      "dtypes: int64(3), object(1)\n",
      "memory usage: 7.5+ MB\n"
     ]
    }
   ],
   "source": [
    "#проверка типов данных\n",
    "data_info = data.info()"
   ]
  },
  {
   "cell_type": "code",
   "execution_count": 7,
   "metadata": {},
   "outputs": [],
   "source": [
    "#замена типа данных\n",
    "data['event_time_stamp'] = pd.to_datetime(data['event_time_stamp'], unit='s')\n"
   ]
  },
  {
   "cell_type": "code",
   "execution_count": 8,
   "metadata": {},
   "outputs": [
    {
     "data": {
      "text/html": [
       "<div>\n",
       "<style scoped>\n",
       "    .dataframe tbody tr th:only-of-type {\n",
       "        vertical-align: middle;\n",
       "    }\n",
       "\n",
       "    .dataframe tbody tr th {\n",
       "        vertical-align: top;\n",
       "    }\n",
       "\n",
       "    .dataframe thead th {\n",
       "        text-align: right;\n",
       "    }\n",
       "</style>\n",
       "<table border=\"1\" class=\"dataframe\">\n",
       "  <thead>\n",
       "    <tr style=\"text-align: right;\">\n",
       "      <th></th>\n",
       "      <th>event_name</th>\n",
       "      <th>device_id_hash</th>\n",
       "      <th>event_time_stamp</th>\n",
       "      <th>exp_id</th>\n",
       "    </tr>\n",
       "  </thead>\n",
       "  <tbody>\n",
       "    <tr>\n",
       "      <th>0</th>\n",
       "      <td>MainScreenAppear</td>\n",
       "      <td>4575588528974610257</td>\n",
       "      <td>2019-07-25 04:43:36</td>\n",
       "      <td>246</td>\n",
       "    </tr>\n",
       "    <tr>\n",
       "      <th>1</th>\n",
       "      <td>MainScreenAppear</td>\n",
       "      <td>7416695313311560658</td>\n",
       "      <td>2019-07-25 11:11:42</td>\n",
       "      <td>246</td>\n",
       "    </tr>\n",
       "    <tr>\n",
       "      <th>2</th>\n",
       "      <td>PaymentScreenSuccessful</td>\n",
       "      <td>3518123091307005509</td>\n",
       "      <td>2019-07-25 11:28:47</td>\n",
       "      <td>248</td>\n",
       "    </tr>\n",
       "    <tr>\n",
       "      <th>3</th>\n",
       "      <td>CartScreenAppear</td>\n",
       "      <td>3518123091307005509</td>\n",
       "      <td>2019-07-25 11:28:47</td>\n",
       "      <td>248</td>\n",
       "    </tr>\n",
       "    <tr>\n",
       "      <th>4</th>\n",
       "      <td>PaymentScreenSuccessful</td>\n",
       "      <td>6217807653094995999</td>\n",
       "      <td>2019-07-25 11:48:42</td>\n",
       "      <td>248</td>\n",
       "    </tr>\n",
       "    <tr>\n",
       "      <th>...</th>\n",
       "      <td>...</td>\n",
       "      <td>...</td>\n",
       "      <td>...</td>\n",
       "      <td>...</td>\n",
       "    </tr>\n",
       "    <tr>\n",
       "      <th>244121</th>\n",
       "      <td>MainScreenAppear</td>\n",
       "      <td>4599628364049201812</td>\n",
       "      <td>2019-08-07 21:12:25</td>\n",
       "      <td>247</td>\n",
       "    </tr>\n",
       "    <tr>\n",
       "      <th>244122</th>\n",
       "      <td>MainScreenAppear</td>\n",
       "      <td>5849806612437486590</td>\n",
       "      <td>2019-08-07 21:13:59</td>\n",
       "      <td>246</td>\n",
       "    </tr>\n",
       "    <tr>\n",
       "      <th>244123</th>\n",
       "      <td>MainScreenAppear</td>\n",
       "      <td>5746969938801999050</td>\n",
       "      <td>2019-08-07 21:14:43</td>\n",
       "      <td>246</td>\n",
       "    </tr>\n",
       "    <tr>\n",
       "      <th>244124</th>\n",
       "      <td>MainScreenAppear</td>\n",
       "      <td>5746969938801999050</td>\n",
       "      <td>2019-08-07 21:14:58</td>\n",
       "      <td>246</td>\n",
       "    </tr>\n",
       "    <tr>\n",
       "      <th>244125</th>\n",
       "      <td>OffersScreenAppear</td>\n",
       "      <td>5746969938801999050</td>\n",
       "      <td>2019-08-07 21:15:17</td>\n",
       "      <td>246</td>\n",
       "    </tr>\n",
       "  </tbody>\n",
       "</table>\n",
       "<p>244126 rows × 4 columns</p>\n",
       "</div>"
      ],
      "text/plain": [
       "                     event_name       device_id_hash    event_time_stamp  \\\n",
       "0              MainScreenAppear  4575588528974610257 2019-07-25 04:43:36   \n",
       "1              MainScreenAppear  7416695313311560658 2019-07-25 11:11:42   \n",
       "2       PaymentScreenSuccessful  3518123091307005509 2019-07-25 11:28:47   \n",
       "3              CartScreenAppear  3518123091307005509 2019-07-25 11:28:47   \n",
       "4       PaymentScreenSuccessful  6217807653094995999 2019-07-25 11:48:42   \n",
       "...                         ...                  ...                 ...   \n",
       "244121         MainScreenAppear  4599628364049201812 2019-08-07 21:12:25   \n",
       "244122         MainScreenAppear  5849806612437486590 2019-08-07 21:13:59   \n",
       "244123         MainScreenAppear  5746969938801999050 2019-08-07 21:14:43   \n",
       "244124         MainScreenAppear  5746969938801999050 2019-08-07 21:14:58   \n",
       "244125       OffersScreenAppear  5746969938801999050 2019-08-07 21:15:17   \n",
       "\n",
       "        exp_id  \n",
       "0          246  \n",
       "1          246  \n",
       "2          248  \n",
       "3          248  \n",
       "4          248  \n",
       "...        ...  \n",
       "244121     247  \n",
       "244122     246  \n",
       "244123     246  \n",
       "244124     246  \n",
       "244125     246  \n",
       "\n",
       "[244126 rows x 4 columns]"
      ]
     },
     "execution_count": 8,
     "metadata": {},
     "output_type": "execute_result"
    }
   ],
   "source": [
    "data"
   ]
  },
  {
   "cell_type": "code",
   "execution_count": 9,
   "metadata": {},
   "outputs": [
    {
     "name": "stdout",
     "output_type": "stream",
     "text": [
      "<class 'pandas.core.frame.DataFrame'>\n",
      "RangeIndex: 244126 entries, 0 to 244125\n",
      "Data columns (total 4 columns):\n",
      " #   Column            Non-Null Count   Dtype         \n",
      "---  ------            --------------   -----         \n",
      " 0   event_name        244126 non-null  object        \n",
      " 1   device_id_hash    244126 non-null  int64         \n",
      " 2   event_time_stamp  244126 non-null  datetime64[ns]\n",
      " 3   exp_id            244126 non-null  int64         \n",
      "dtypes: datetime64[ns](1), int64(2), object(1)\n",
      "memory usage: 7.5+ MB\n"
     ]
    }
   ],
   "source": [
    "data.info()"
   ]
  },
  {
   "cell_type": "markdown",
   "metadata": {},
   "source": [
    "Пропуски в данных отсутсвуют. Произвел замену типа только у одного стоолбца, так как он не соотвествовал временному типу"
   ]
  },
  {
   "cell_type": "code",
   "execution_count": 10,
   "metadata": {
    "scrolled": false
   },
   "outputs": [
    {
     "data": {
      "text/html": [
       "<div>\n",
       "<style scoped>\n",
       "    .dataframe tbody tr th:only-of-type {\n",
       "        vertical-align: middle;\n",
       "    }\n",
       "\n",
       "    .dataframe tbody tr th {\n",
       "        vertical-align: top;\n",
       "    }\n",
       "\n",
       "    .dataframe thead th {\n",
       "        text-align: right;\n",
       "    }\n",
       "</style>\n",
       "<table border=\"1\" class=\"dataframe\">\n",
       "  <thead>\n",
       "    <tr style=\"text-align: right;\">\n",
       "      <th></th>\n",
       "      <th>event_name</th>\n",
       "      <th>device_id_hash</th>\n",
       "      <th>event_time_stamp</th>\n",
       "      <th>exp_id</th>\n",
       "      <th>date</th>\n",
       "    </tr>\n",
       "  </thead>\n",
       "  <tbody>\n",
       "    <tr>\n",
       "      <th>0</th>\n",
       "      <td>MainScreenAppear</td>\n",
       "      <td>4575588528974610257</td>\n",
       "      <td>2019-07-25 04:43:36</td>\n",
       "      <td>246</td>\n",
       "      <td>2019-07-25</td>\n",
       "    </tr>\n",
       "    <tr>\n",
       "      <th>1</th>\n",
       "      <td>MainScreenAppear</td>\n",
       "      <td>7416695313311560658</td>\n",
       "      <td>2019-07-25 11:11:42</td>\n",
       "      <td>246</td>\n",
       "      <td>2019-07-25</td>\n",
       "    </tr>\n",
       "    <tr>\n",
       "      <th>2</th>\n",
       "      <td>PaymentScreenSuccessful</td>\n",
       "      <td>3518123091307005509</td>\n",
       "      <td>2019-07-25 11:28:47</td>\n",
       "      <td>248</td>\n",
       "      <td>2019-07-25</td>\n",
       "    </tr>\n",
       "    <tr>\n",
       "      <th>3</th>\n",
       "      <td>CartScreenAppear</td>\n",
       "      <td>3518123091307005509</td>\n",
       "      <td>2019-07-25 11:28:47</td>\n",
       "      <td>248</td>\n",
       "      <td>2019-07-25</td>\n",
       "    </tr>\n",
       "    <tr>\n",
       "      <th>4</th>\n",
       "      <td>PaymentScreenSuccessful</td>\n",
       "      <td>6217807653094995999</td>\n",
       "      <td>2019-07-25 11:48:42</td>\n",
       "      <td>248</td>\n",
       "      <td>2019-07-25</td>\n",
       "    </tr>\n",
       "    <tr>\n",
       "      <th>...</th>\n",
       "      <td>...</td>\n",
       "      <td>...</td>\n",
       "      <td>...</td>\n",
       "      <td>...</td>\n",
       "      <td>...</td>\n",
       "    </tr>\n",
       "    <tr>\n",
       "      <th>244121</th>\n",
       "      <td>MainScreenAppear</td>\n",
       "      <td>4599628364049201812</td>\n",
       "      <td>2019-08-07 21:12:25</td>\n",
       "      <td>247</td>\n",
       "      <td>2019-08-07</td>\n",
       "    </tr>\n",
       "    <tr>\n",
       "      <th>244122</th>\n",
       "      <td>MainScreenAppear</td>\n",
       "      <td>5849806612437486590</td>\n",
       "      <td>2019-08-07 21:13:59</td>\n",
       "      <td>246</td>\n",
       "      <td>2019-08-07</td>\n",
       "    </tr>\n",
       "    <tr>\n",
       "      <th>244123</th>\n",
       "      <td>MainScreenAppear</td>\n",
       "      <td>5746969938801999050</td>\n",
       "      <td>2019-08-07 21:14:43</td>\n",
       "      <td>246</td>\n",
       "      <td>2019-08-07</td>\n",
       "    </tr>\n",
       "    <tr>\n",
       "      <th>244124</th>\n",
       "      <td>MainScreenAppear</td>\n",
       "      <td>5746969938801999050</td>\n",
       "      <td>2019-08-07 21:14:58</td>\n",
       "      <td>246</td>\n",
       "      <td>2019-08-07</td>\n",
       "    </tr>\n",
       "    <tr>\n",
       "      <th>244125</th>\n",
       "      <td>OffersScreenAppear</td>\n",
       "      <td>5746969938801999050</td>\n",
       "      <td>2019-08-07 21:15:17</td>\n",
       "      <td>246</td>\n",
       "      <td>2019-08-07</td>\n",
       "    </tr>\n",
       "  </tbody>\n",
       "</table>\n",
       "<p>244126 rows × 5 columns</p>\n",
       "</div>"
      ],
      "text/plain": [
       "                     event_name       device_id_hash    event_time_stamp  \\\n",
       "0              MainScreenAppear  4575588528974610257 2019-07-25 04:43:36   \n",
       "1              MainScreenAppear  7416695313311560658 2019-07-25 11:11:42   \n",
       "2       PaymentScreenSuccessful  3518123091307005509 2019-07-25 11:28:47   \n",
       "3              CartScreenAppear  3518123091307005509 2019-07-25 11:28:47   \n",
       "4       PaymentScreenSuccessful  6217807653094995999 2019-07-25 11:48:42   \n",
       "...                         ...                  ...                 ...   \n",
       "244121         MainScreenAppear  4599628364049201812 2019-08-07 21:12:25   \n",
       "244122         MainScreenAppear  5849806612437486590 2019-08-07 21:13:59   \n",
       "244123         MainScreenAppear  5746969938801999050 2019-08-07 21:14:43   \n",
       "244124         MainScreenAppear  5746969938801999050 2019-08-07 21:14:58   \n",
       "244125       OffersScreenAppear  5746969938801999050 2019-08-07 21:15:17   \n",
       "\n",
       "        exp_id       date  \n",
       "0          246 2019-07-25  \n",
       "1          246 2019-07-25  \n",
       "2          248 2019-07-25  \n",
       "3          248 2019-07-25  \n",
       "4          248 2019-07-25  \n",
       "...        ...        ...  \n",
       "244121     247 2019-08-07  \n",
       "244122     246 2019-08-07  \n",
       "244123     246 2019-08-07  \n",
       "244124     246 2019-08-07  \n",
       "244125     246 2019-08-07  \n",
       "\n",
       "[244126 rows x 5 columns]"
      ]
     },
     "execution_count": 10,
     "metadata": {},
     "output_type": "execute_result"
    }
   ],
   "source": [
    "#добавление столбца дат\n",
    "data['date'] = pd.to_datetime(data['event_time_stamp']). dt.normalize ()\n",
    "data"
   ]
  },
  {
   "cell_type": "code",
   "execution_count": 11,
   "metadata": {},
   "outputs": [
    {
     "name": "stdout",
     "output_type": "stream",
     "text": [
      "Кол-во дубликатов встретившихся в сете: 413\n"
     ]
    }
   ],
   "source": [
    "print('Кол-во дубликатов встретившихся в сете:', data.duplicated().sum())"
   ]
  },
  {
   "cell_type": "code",
   "execution_count": 12,
   "metadata": {},
   "outputs": [
    {
     "data": {
      "text/html": [
       "<div>\n",
       "<style scoped>\n",
       "    .dataframe tbody tr th:only-of-type {\n",
       "        vertical-align: middle;\n",
       "    }\n",
       "\n",
       "    .dataframe tbody tr th {\n",
       "        vertical-align: top;\n",
       "    }\n",
       "\n",
       "    .dataframe thead th {\n",
       "        text-align: right;\n",
       "    }\n",
       "</style>\n",
       "<table border=\"1\" class=\"dataframe\">\n",
       "  <thead>\n",
       "    <tr style=\"text-align: right;\">\n",
       "      <th></th>\n",
       "      <th>event_name</th>\n",
       "      <th>device_id_hash</th>\n",
       "      <th>event_time_stamp</th>\n",
       "      <th>exp_id</th>\n",
       "      <th>date</th>\n",
       "    </tr>\n",
       "  </thead>\n",
       "  <tbody>\n",
       "    <tr>\n",
       "      <th>0</th>\n",
       "      <td>MainScreenAppear</td>\n",
       "      <td>4575588528974610257</td>\n",
       "      <td>2019-07-25 04:43:36</td>\n",
       "      <td>246</td>\n",
       "      <td>2019-07-25</td>\n",
       "    </tr>\n",
       "    <tr>\n",
       "      <th>1</th>\n",
       "      <td>MainScreenAppear</td>\n",
       "      <td>7416695313311560658</td>\n",
       "      <td>2019-07-25 11:11:42</td>\n",
       "      <td>246</td>\n",
       "      <td>2019-07-25</td>\n",
       "    </tr>\n",
       "    <tr>\n",
       "      <th>2</th>\n",
       "      <td>PaymentScreenSuccessful</td>\n",
       "      <td>3518123091307005509</td>\n",
       "      <td>2019-07-25 11:28:47</td>\n",
       "      <td>248</td>\n",
       "      <td>2019-07-25</td>\n",
       "    </tr>\n",
       "    <tr>\n",
       "      <th>3</th>\n",
       "      <td>CartScreenAppear</td>\n",
       "      <td>3518123091307005509</td>\n",
       "      <td>2019-07-25 11:28:47</td>\n",
       "      <td>248</td>\n",
       "      <td>2019-07-25</td>\n",
       "    </tr>\n",
       "    <tr>\n",
       "      <th>4</th>\n",
       "      <td>PaymentScreenSuccessful</td>\n",
       "      <td>6217807653094995999</td>\n",
       "      <td>2019-07-25 11:48:42</td>\n",
       "      <td>248</td>\n",
       "      <td>2019-07-25</td>\n",
       "    </tr>\n",
       "    <tr>\n",
       "      <th>...</th>\n",
       "      <td>...</td>\n",
       "      <td>...</td>\n",
       "      <td>...</td>\n",
       "      <td>...</td>\n",
       "      <td>...</td>\n",
       "    </tr>\n",
       "    <tr>\n",
       "      <th>244121</th>\n",
       "      <td>MainScreenAppear</td>\n",
       "      <td>4599628364049201812</td>\n",
       "      <td>2019-08-07 21:12:25</td>\n",
       "      <td>247</td>\n",
       "      <td>2019-08-07</td>\n",
       "    </tr>\n",
       "    <tr>\n",
       "      <th>244122</th>\n",
       "      <td>MainScreenAppear</td>\n",
       "      <td>5849806612437486590</td>\n",
       "      <td>2019-08-07 21:13:59</td>\n",
       "      <td>246</td>\n",
       "      <td>2019-08-07</td>\n",
       "    </tr>\n",
       "    <tr>\n",
       "      <th>244123</th>\n",
       "      <td>MainScreenAppear</td>\n",
       "      <td>5746969938801999050</td>\n",
       "      <td>2019-08-07 21:14:43</td>\n",
       "      <td>246</td>\n",
       "      <td>2019-08-07</td>\n",
       "    </tr>\n",
       "    <tr>\n",
       "      <th>244124</th>\n",
       "      <td>MainScreenAppear</td>\n",
       "      <td>5746969938801999050</td>\n",
       "      <td>2019-08-07 21:14:58</td>\n",
       "      <td>246</td>\n",
       "      <td>2019-08-07</td>\n",
       "    </tr>\n",
       "    <tr>\n",
       "      <th>244125</th>\n",
       "      <td>OffersScreenAppear</td>\n",
       "      <td>5746969938801999050</td>\n",
       "      <td>2019-08-07 21:15:17</td>\n",
       "      <td>246</td>\n",
       "      <td>2019-08-07</td>\n",
       "    </tr>\n",
       "  </tbody>\n",
       "</table>\n",
       "<p>243713 rows × 5 columns</p>\n",
       "</div>"
      ],
      "text/plain": [
       "                     event_name       device_id_hash    event_time_stamp  \\\n",
       "0              MainScreenAppear  4575588528974610257 2019-07-25 04:43:36   \n",
       "1              MainScreenAppear  7416695313311560658 2019-07-25 11:11:42   \n",
       "2       PaymentScreenSuccessful  3518123091307005509 2019-07-25 11:28:47   \n",
       "3              CartScreenAppear  3518123091307005509 2019-07-25 11:28:47   \n",
       "4       PaymentScreenSuccessful  6217807653094995999 2019-07-25 11:48:42   \n",
       "...                         ...                  ...                 ...   \n",
       "244121         MainScreenAppear  4599628364049201812 2019-08-07 21:12:25   \n",
       "244122         MainScreenAppear  5849806612437486590 2019-08-07 21:13:59   \n",
       "244123         MainScreenAppear  5746969938801999050 2019-08-07 21:14:43   \n",
       "244124         MainScreenAppear  5746969938801999050 2019-08-07 21:14:58   \n",
       "244125       OffersScreenAppear  5746969938801999050 2019-08-07 21:15:17   \n",
       "\n",
       "        exp_id       date  \n",
       "0          246 2019-07-25  \n",
       "1          246 2019-07-25  \n",
       "2          248 2019-07-25  \n",
       "3          248 2019-07-25  \n",
       "4          248 2019-07-25  \n",
       "...        ...        ...  \n",
       "244121     247 2019-08-07  \n",
       "244122     246 2019-08-07  \n",
       "244123     246 2019-08-07  \n",
       "244124     246 2019-08-07  \n",
       "244125     246 2019-08-07  \n",
       "\n",
       "[243713 rows x 5 columns]"
      ]
     },
     "execution_count": 12,
     "metadata": {},
     "output_type": "execute_result"
    }
   ],
   "source": [
    "data = data.drop_duplicates()\n",
    "data"
   ]
  },
  {
   "cell_type": "code",
   "execution_count": 13,
   "metadata": {},
   "outputs": [
    {
     "name": "stdout",
     "output_type": "stream",
     "text": [
      "Кол-во пересечений в сете: device_id_hash    0\n",
      "exp_id            0\n",
      "dtype: int64\n"
     ]
    }
   ],
   "source": [
    "print('Кол-во пересечений в сете:', data.groupby('device_id_hash')['exp_id'].nunique().reset_index().query('exp_id > 1').count())"
   ]
  },
  {
   "cell_type": "markdown",
   "metadata": {},
   "source": [
    "**Вывод:** В данном шаге была проделана работа по замене названий столбцов, так как изначльный формат был не совсем удобен в работе (был не в \"змеинном\" формате). Так же я проделал работу по поиску и удалению дубликатов и пустых строк. И для удобной работы заменил тип данных дат вдобавок дабаленному столбцу только с датой"
   ]
  },
  {
   "cell_type": "markdown",
   "metadata": {},
   "source": [
    "# Шаг 3"
   ]
  },
  {
   "cell_type": "code",
   "execution_count": 14,
   "metadata": {},
   "outputs": [
    {
     "data": {
      "text/html": [
       "<div>\n",
       "<style scoped>\n",
       "    .dataframe tbody tr th:only-of-type {\n",
       "        vertical-align: middle;\n",
       "    }\n",
       "\n",
       "    .dataframe tbody tr th {\n",
       "        vertical-align: top;\n",
       "    }\n",
       "\n",
       "    .dataframe thead th {\n",
       "        text-align: right;\n",
       "    }\n",
       "</style>\n",
       "<table border=\"1\" class=\"dataframe\">\n",
       "  <thead>\n",
       "    <tr style=\"text-align: right;\">\n",
       "      <th></th>\n",
       "      <th>event_name</th>\n",
       "      <th>device_id_hash</th>\n",
       "      <th>event_time_stamp</th>\n",
       "      <th>exp_id</th>\n",
       "      <th>date</th>\n",
       "    </tr>\n",
       "  </thead>\n",
       "  <tbody>\n",
       "    <tr>\n",
       "      <th>0</th>\n",
       "      <td>MainScreenAppear</td>\n",
       "      <td>4575588528974610257</td>\n",
       "      <td>2019-07-25 04:43:36</td>\n",
       "      <td>246</td>\n",
       "      <td>2019-07-25</td>\n",
       "    </tr>\n",
       "    <tr>\n",
       "      <th>1</th>\n",
       "      <td>MainScreenAppear</td>\n",
       "      <td>7416695313311560658</td>\n",
       "      <td>2019-07-25 11:11:42</td>\n",
       "      <td>246</td>\n",
       "      <td>2019-07-25</td>\n",
       "    </tr>\n",
       "    <tr>\n",
       "      <th>2</th>\n",
       "      <td>PaymentScreenSuccessful</td>\n",
       "      <td>3518123091307005509</td>\n",
       "      <td>2019-07-25 11:28:47</td>\n",
       "      <td>248</td>\n",
       "      <td>2019-07-25</td>\n",
       "    </tr>\n",
       "    <tr>\n",
       "      <th>3</th>\n",
       "      <td>CartScreenAppear</td>\n",
       "      <td>3518123091307005509</td>\n",
       "      <td>2019-07-25 11:28:47</td>\n",
       "      <td>248</td>\n",
       "      <td>2019-07-25</td>\n",
       "    </tr>\n",
       "    <tr>\n",
       "      <th>4</th>\n",
       "      <td>PaymentScreenSuccessful</td>\n",
       "      <td>6217807653094995999</td>\n",
       "      <td>2019-07-25 11:48:42</td>\n",
       "      <td>248</td>\n",
       "      <td>2019-07-25</td>\n",
       "    </tr>\n",
       "    <tr>\n",
       "      <th>...</th>\n",
       "      <td>...</td>\n",
       "      <td>...</td>\n",
       "      <td>...</td>\n",
       "      <td>...</td>\n",
       "      <td>...</td>\n",
       "    </tr>\n",
       "    <tr>\n",
       "      <th>244121</th>\n",
       "      <td>MainScreenAppear</td>\n",
       "      <td>4599628364049201812</td>\n",
       "      <td>2019-08-07 21:12:25</td>\n",
       "      <td>247</td>\n",
       "      <td>2019-08-07</td>\n",
       "    </tr>\n",
       "    <tr>\n",
       "      <th>244122</th>\n",
       "      <td>MainScreenAppear</td>\n",
       "      <td>5849806612437486590</td>\n",
       "      <td>2019-08-07 21:13:59</td>\n",
       "      <td>246</td>\n",
       "      <td>2019-08-07</td>\n",
       "    </tr>\n",
       "    <tr>\n",
       "      <th>244123</th>\n",
       "      <td>MainScreenAppear</td>\n",
       "      <td>5746969938801999050</td>\n",
       "      <td>2019-08-07 21:14:43</td>\n",
       "      <td>246</td>\n",
       "      <td>2019-08-07</td>\n",
       "    </tr>\n",
       "    <tr>\n",
       "      <th>244124</th>\n",
       "      <td>MainScreenAppear</td>\n",
       "      <td>5746969938801999050</td>\n",
       "      <td>2019-08-07 21:14:58</td>\n",
       "      <td>246</td>\n",
       "      <td>2019-08-07</td>\n",
       "    </tr>\n",
       "    <tr>\n",
       "      <th>244125</th>\n",
       "      <td>OffersScreenAppear</td>\n",
       "      <td>5746969938801999050</td>\n",
       "      <td>2019-08-07 21:15:17</td>\n",
       "      <td>246</td>\n",
       "      <td>2019-08-07</td>\n",
       "    </tr>\n",
       "  </tbody>\n",
       "</table>\n",
       "<p>243713 rows × 5 columns</p>\n",
       "</div>"
      ],
      "text/plain": [
       "                     event_name       device_id_hash    event_time_stamp  \\\n",
       "0              MainScreenAppear  4575588528974610257 2019-07-25 04:43:36   \n",
       "1              MainScreenAppear  7416695313311560658 2019-07-25 11:11:42   \n",
       "2       PaymentScreenSuccessful  3518123091307005509 2019-07-25 11:28:47   \n",
       "3              CartScreenAppear  3518123091307005509 2019-07-25 11:28:47   \n",
       "4       PaymentScreenSuccessful  6217807653094995999 2019-07-25 11:48:42   \n",
       "...                         ...                  ...                 ...   \n",
       "244121         MainScreenAppear  4599628364049201812 2019-08-07 21:12:25   \n",
       "244122         MainScreenAppear  5849806612437486590 2019-08-07 21:13:59   \n",
       "244123         MainScreenAppear  5746969938801999050 2019-08-07 21:14:43   \n",
       "244124         MainScreenAppear  5746969938801999050 2019-08-07 21:14:58   \n",
       "244125       OffersScreenAppear  5746969938801999050 2019-08-07 21:15:17   \n",
       "\n",
       "        exp_id       date  \n",
       "0          246 2019-07-25  \n",
       "1          246 2019-07-25  \n",
       "2          248 2019-07-25  \n",
       "3          248 2019-07-25  \n",
       "4          248 2019-07-25  \n",
       "...        ...        ...  \n",
       "244121     247 2019-08-07  \n",
       "244122     246 2019-08-07  \n",
       "244123     246 2019-08-07  \n",
       "244124     246 2019-08-07  \n",
       "244125     246 2019-08-07  \n",
       "\n",
       "[243713 rows x 5 columns]"
      ]
     },
     "execution_count": 14,
     "metadata": {},
     "output_type": "execute_result"
    }
   ],
   "source": [
    "data"
   ]
  },
  {
   "cell_type": "code",
   "execution_count": 15,
   "metadata": {},
   "outputs": [
    {
     "name": "stdout",
     "output_type": "stream",
     "text": [
      "Количество событий в логе: 243713\n"
     ]
    }
   ],
   "source": [
    "#кол-во событий в логе\n",
    "total_ev_log = data['event_name'].count()\n",
    "print('Количество событий в логе:', total_ev_log)"
   ]
  },
  {
   "cell_type": "code",
   "execution_count": 16,
   "metadata": {},
   "outputs": [
    {
     "name": "stdout",
     "output_type": "stream",
     "text": [
      "Количество пользователей в логе: 7551\n"
     ]
    }
   ],
   "source": [
    "#кол-во пользователей в логе\n",
    "user_ev_log = data['device_id_hash'].nunique()\n",
    "print('Количество пользователей в логе:', user_ev_log)"
   ]
  },
  {
   "cell_type": "code",
   "execution_count": 17,
   "metadata": {},
   "outputs": [
    {
     "name": "stdout",
     "output_type": "stream",
     "text": [
      "Среднее кол-во событий на одного пользователя: 32\n"
     ]
    }
   ],
   "source": [
    "#среднее кол-во событий на пользователя\n",
    "mean_ev_log = round(total_ev_log / user_ev_log)\n",
    "print('Среднее кол-во событий на одного пользователя:', mean_ev_log)"
   ]
  },
  {
   "cell_type": "code",
   "execution_count": 18,
   "metadata": {},
   "outputs": [
    {
     "data": {
      "text/html": [
       "<div>\n",
       "<style scoped>\n",
       "    .dataframe tbody tr th:only-of-type {\n",
       "        vertical-align: middle;\n",
       "    }\n",
       "\n",
       "    .dataframe tbody tr th {\n",
       "        vertical-align: top;\n",
       "    }\n",
       "\n",
       "    .dataframe thead th {\n",
       "        text-align: right;\n",
       "    }\n",
       "</style>\n",
       "<table border=\"1\" class=\"dataframe\">\n",
       "  <thead>\n",
       "    <tr style=\"text-align: right;\">\n",
       "      <th></th>\n",
       "      <th>event_name</th>\n",
       "    </tr>\n",
       "    <tr>\n",
       "      <th>device_id_hash</th>\n",
       "      <th></th>\n",
       "    </tr>\n",
       "  </thead>\n",
       "  <tbody>\n",
       "    <tr>\n",
       "      <th>6888746892508752</th>\n",
       "      <td>1</td>\n",
       "    </tr>\n",
       "    <tr>\n",
       "      <th>6909561520679493</th>\n",
       "      <td>5</td>\n",
       "    </tr>\n",
       "    <tr>\n",
       "      <th>6922444491712477</th>\n",
       "      <td>47</td>\n",
       "    </tr>\n",
       "    <tr>\n",
       "      <th>7435777799948366</th>\n",
       "      <td>6</td>\n",
       "    </tr>\n",
       "    <tr>\n",
       "      <th>7702139951469979</th>\n",
       "      <td>137</td>\n",
       "    </tr>\n",
       "    <tr>\n",
       "      <th>...</th>\n",
       "      <td>...</td>\n",
       "    </tr>\n",
       "    <tr>\n",
       "      <th>9217594193087726423</th>\n",
       "      <td>9</td>\n",
       "    </tr>\n",
       "    <tr>\n",
       "      <th>9219463515465815368</th>\n",
       "      <td>17</td>\n",
       "    </tr>\n",
       "    <tr>\n",
       "      <th>9220879493065341500</th>\n",
       "      <td>7</td>\n",
       "    </tr>\n",
       "    <tr>\n",
       "      <th>9221926045299980007</th>\n",
       "      <td>7</td>\n",
       "    </tr>\n",
       "    <tr>\n",
       "      <th>9222603179720523844</th>\n",
       "      <td>59</td>\n",
       "    </tr>\n",
       "  </tbody>\n",
       "</table>\n",
       "<p>7551 rows × 1 columns</p>\n",
       "</div>"
      ],
      "text/plain": [
       "                     event_name\n",
       "device_id_hash                 \n",
       "6888746892508752              1\n",
       "6909561520679493              5\n",
       "6922444491712477             47\n",
       "7435777799948366              6\n",
       "7702139951469979            137\n",
       "...                         ...\n",
       "9217594193087726423           9\n",
       "9219463515465815368          17\n",
       "9220879493065341500           7\n",
       "9221926045299980007           7\n",
       "9222603179720523844          59\n",
       "\n",
       "[7551 rows x 1 columns]"
      ]
     },
     "execution_count": 18,
     "metadata": {},
     "output_type": "execute_result"
    }
   ],
   "source": [
    "data_pvt =  data.pivot_table(index = 'device_id_hash', values = 'event_name', aggfunc = 'count')\n",
    "data_pvt"
   ]
  },
  {
   "cell_type": "code",
   "execution_count": 19,
   "metadata": {},
   "outputs": [
    {
     "data": {
      "image/png": "[encoded data removed]",
      "text/plain": [
       "<Figure size 1440x720 with 1 Axes>"
      ]
     },
     "metadata": {
      "needs_background": "light"
     },
     "output_type": "display_data"
    }
   ],
   "source": [
    "plt.figure(figsize=(20, 10))\n",
    "data_pvt.boxplot(column=['event_name'], grid= False , color='black');"
   ]
  },
  {
   "cell_type": "code",
   "execution_count": 20,
   "metadata": {},
   "outputs": [
    {
     "data": {
      "text/plain": [
       "event_name    20.0\n",
       "dtype: float64"
      ]
     },
     "execution_count": 20,
     "metadata": {},
     "output_type": "execute_result"
    }
   ],
   "source": [
    "data_pvt.median()"
   ]
  },
  {
   "cell_type": "markdown",
   "metadata": {},
   "source": [
    "**Вывод:** Нашел среднее значение событиый на одного пользователя, и оно равно 32. Проведя небольшое дополнительное исследование и построив график boxplot, было обнаруженно, что а) выбросы точно есть; б) среднее значение отличается от медианного (20). Значит, можем сделать вывод, что выбросы критично влияют на средний показатель одного пользователя (12 единиц)"
   ]
  },
  {
   "cell_type": "code",
   "execution_count": 21,
   "metadata": {},
   "outputs": [
    {
     "name": "stdout",
     "output_type": "stream",
     "text": [
      "Дата первого события в логе: 2019-07-25 04:43:36\n",
      "Дата последнего события в логе: 2019-08-07 21:15:17\n"
     ]
    }
   ],
   "source": [
    "#дата первого и последнего события\n",
    "date_min = data['event_time_stamp'].min()\n",
    "date_max = data['event_time_stamp'].max()\n",
    "\n",
    "print('Дата первого события в логе:', date_min)\n",
    "print('Дата последнего события в логе:', date_max)"
   ]
  },
  {
   "cell_type": "markdown",
   "metadata": {},
   "source": [
    "**Даты первых событий и последних сгруппированных по событиям**"
   ]
  },
  {
   "cell_type": "code",
   "execution_count": 22,
   "metadata": {},
   "outputs": [
    {
     "data": {
      "text/html": [
       "<div>\n",
       "<style scoped>\n",
       "    .dataframe tbody tr th:only-of-type {\n",
       "        vertical-align: middle;\n",
       "    }\n",
       "\n",
       "    .dataframe tbody tr th {\n",
       "        vertical-align: top;\n",
       "    }\n",
       "\n",
       "    .dataframe thead tr th {\n",
       "        text-align: left;\n",
       "    }\n",
       "\n",
       "    .dataframe thead tr:last-of-type th {\n",
       "        text-align: right;\n",
       "    }\n",
       "</style>\n",
       "<table border=\"1\" class=\"dataframe\">\n",
       "  <thead>\n",
       "    <tr>\n",
       "      <th></th>\n",
       "      <th colspan=\"2\" halign=\"left\">event_time_stamp</th>\n",
       "    </tr>\n",
       "    <tr>\n",
       "      <th></th>\n",
       "      <th>first</th>\n",
       "      <th>last</th>\n",
       "    </tr>\n",
       "    <tr>\n",
       "      <th>event_name</th>\n",
       "      <th></th>\n",
       "      <th></th>\n",
       "    </tr>\n",
       "  </thead>\n",
       "  <tbody>\n",
       "    <tr>\n",
       "      <th>CartScreenAppear</th>\n",
       "      <td>2019-07-25 11:28:47</td>\n",
       "      <td>2019-08-07 21:07:08</td>\n",
       "    </tr>\n",
       "    <tr>\n",
       "      <th>MainScreenAppear</th>\n",
       "      <td>2019-07-25 04:43:36</td>\n",
       "      <td>2019-08-07 21:14:58</td>\n",
       "    </tr>\n",
       "    <tr>\n",
       "      <th>OffersScreenAppear</th>\n",
       "      <td>2019-07-25 14:50:42</td>\n",
       "      <td>2019-08-07 21:15:17</td>\n",
       "    </tr>\n",
       "    <tr>\n",
       "      <th>PaymentScreenSuccessful</th>\n",
       "      <td>2019-07-25 11:28:47</td>\n",
       "      <td>2019-08-07 21:07:08</td>\n",
       "    </tr>\n",
       "    <tr>\n",
       "      <th>Tutorial</th>\n",
       "      <td>2019-07-26 18:03:59</td>\n",
       "      <td>2019-08-07 20:23:52</td>\n",
       "    </tr>\n",
       "  </tbody>\n",
       "</table>\n",
       "</div>"
      ],
      "text/plain": [
       "                           event_time_stamp                    \n",
       "                                      first                last\n",
       "event_name                                                     \n",
       "CartScreenAppear        2019-07-25 11:28:47 2019-08-07 21:07:08\n",
       "MainScreenAppear        2019-07-25 04:43:36 2019-08-07 21:14:58\n",
       "OffersScreenAppear      2019-07-25 14:50:42 2019-08-07 21:15:17\n",
       "PaymentScreenSuccessful 2019-07-25 11:28:47 2019-08-07 21:07:08\n",
       "Tutorial                2019-07-26 18:03:59 2019-08-07 20:23:52"
      ]
     },
     "execution_count": 22,
     "metadata": {},
     "output_type": "execute_result"
    }
   ],
   "source": [
    "data.groupby('event_name').agg({'event_time_stamp' : ['first', 'last']})"
   ]
  },
  {
   "cell_type": "markdown",
   "metadata": {},
   "source": [
    "**График по датам**"
   ]
  },
  {
   "cell_type": "code",
   "execution_count": 23,
   "metadata": {},
   "outputs": [
    {
     "data": {
      "text/plain": [
       "Text(0, 0.5, 'Кол-во человек')"
      ]
     },
     "execution_count": 23,
     "metadata": {},
     "output_type": "execute_result"
    },
    {
     "data": {
      "image/png": "[encoded data removed]",
      "text/plain": [
       "<Figure size 1440x720 with 1 Axes>"
      ]
     },
     "metadata": {
      "needs_background": "light"
     },
     "output_type": "display_data"
    }
   ],
   "source": [
    "plt.figure(figsize=(20, 10))\n",
    "#plt.xticks(rotation=90)\n",
    "plt.grid()\n",
    "\n",
    "plt.hist(data['event_time_stamp'], bins = 50, histtype='step', color = 'purple', linewidth= 3)\n",
    "plt.title('График времени к кол-ву людей')\n",
    "plt.xlabel('Дни')\n",
    "plt.ylabel('Кол-во человек')\n",
    "#plt.legend();"
   ]
  },
  {
   "cell_type": "code",
   "execution_count": 24,
   "metadata": {},
   "outputs": [
    {
     "data": {
      "text/plain": [
       "243713"
      ]
     },
     "execution_count": 24,
     "metadata": {},
     "output_type": "execute_result"
    }
   ],
   "source": [
    "#кол-во событий в логе\n",
    "len_data = len(data)\n",
    "len_data"
   ]
  },
  {
   "cell_type": "markdown",
   "metadata": {},
   "source": [
    "**Кол-во пользователей и сколько раз их отнесли к группе исследования**"
   ]
  },
  {
   "cell_type": "code",
   "execution_count": 25,
   "metadata": {},
   "outputs": [
    {
     "data": {
      "text/html": [
       "<div>\n",
       "<style scoped>\n",
       "    .dataframe tbody tr th:only-of-type {\n",
       "        vertical-align: middle;\n",
       "    }\n",
       "\n",
       "    .dataframe tbody tr th {\n",
       "        vertical-align: top;\n",
       "    }\n",
       "\n",
       "    .dataframe thead tr th {\n",
       "        text-align: left;\n",
       "    }\n",
       "\n",
       "    .dataframe thead tr:last-of-type th {\n",
       "        text-align: right;\n",
       "    }\n",
       "</style>\n",
       "<table border=\"1\" class=\"dataframe\">\n",
       "  <thead>\n",
       "    <tr>\n",
       "      <th></th>\n",
       "      <th colspan=\"2\" halign=\"left\">device_id_hash</th>\n",
       "    </tr>\n",
       "    <tr>\n",
       "      <th></th>\n",
       "      <th>nunique</th>\n",
       "      <th>count</th>\n",
       "    </tr>\n",
       "    <tr>\n",
       "      <th>exp_id</th>\n",
       "      <th></th>\n",
       "      <th></th>\n",
       "    </tr>\n",
       "  </thead>\n",
       "  <tbody>\n",
       "    <tr>\n",
       "      <th>246</th>\n",
       "      <td>2489</td>\n",
       "      <td>80181</td>\n",
       "    </tr>\n",
       "    <tr>\n",
       "      <th>247</th>\n",
       "      <td>2520</td>\n",
       "      <td>77950</td>\n",
       "    </tr>\n",
       "    <tr>\n",
       "      <th>248</th>\n",
       "      <td>2542</td>\n",
       "      <td>85582</td>\n",
       "    </tr>\n",
       "  </tbody>\n",
       "</table>\n",
       "</div>"
      ],
      "text/plain": [
       "       device_id_hash       \n",
       "              nunique  count\n",
       "exp_id                      \n",
       "246              2489  80181\n",
       "247              2520  77950\n",
       "248              2542  85582"
      ]
     },
     "execution_count": 25,
     "metadata": {},
     "output_type": "execute_result"
    }
   ],
   "source": [
    "\n",
    "data.groupby('exp_id').agg({'device_id_hash' : ['nunique', 'count']})"
   ]
  },
  {
   "cell_type": "code",
   "execution_count": 26,
   "metadata": {},
   "outputs": [
    {
     "data": {
      "text/html": [
       "<div>\n",
       "<style scoped>\n",
       "    .dataframe tbody tr th:only-of-type {\n",
       "        vertical-align: middle;\n",
       "    }\n",
       "\n",
       "    .dataframe tbody tr th {\n",
       "        vertical-align: top;\n",
       "    }\n",
       "\n",
       "    .dataframe thead th {\n",
       "        text-align: right;\n",
       "    }\n",
       "</style>\n",
       "<table border=\"1\" class=\"dataframe\">\n",
       "  <thead>\n",
       "    <tr style=\"text-align: right;\">\n",
       "      <th></th>\n",
       "      <th>device_id_hash</th>\n",
       "    </tr>\n",
       "    <tr>\n",
       "      <th>exp_id</th>\n",
       "      <th></th>\n",
       "    </tr>\n",
       "  </thead>\n",
       "  <tbody>\n",
       "    <tr>\n",
       "      <th>246</th>\n",
       "      <td>2489</td>\n",
       "    </tr>\n",
       "    <tr>\n",
       "      <th>247</th>\n",
       "      <td>2520</td>\n",
       "    </tr>\n",
       "    <tr>\n",
       "      <th>248</th>\n",
       "      <td>2542</td>\n",
       "    </tr>\n",
       "  </tbody>\n",
       "</table>\n",
       "</div>"
      ],
      "text/plain": [
       "        device_id_hash\n",
       "exp_id                \n",
       "246               2489\n",
       "247               2520\n",
       "248               2542"
      ]
     },
     "execution_count": 26,
     "metadata": {},
     "output_type": "execute_result"
    }
   ],
   "source": [
    "data_users_log = data.groupby('exp_id').agg({'device_id_hash' : 'nunique'})\n",
    "data_users_log"
   ]
  },
  {
   "cell_type": "markdown",
   "metadata": {},
   "source": [
    "**События и пользователи, которые отбрасываем**"
   ]
  },
  {
   "cell_type": "code",
   "execution_count": 27,
   "metadata": {},
   "outputs": [
    {
     "data": {
      "text/html": [
       "<div>\n",
       "<style scoped>\n",
       "    .dataframe tbody tr th:only-of-type {\n",
       "        vertical-align: middle;\n",
       "    }\n",
       "\n",
       "    .dataframe tbody tr th {\n",
       "        vertical-align: top;\n",
       "    }\n",
       "\n",
       "    .dataframe thead th {\n",
       "        text-align: right;\n",
       "    }\n",
       "</style>\n",
       "<table border=\"1\" class=\"dataframe\">\n",
       "  <thead>\n",
       "    <tr style=\"text-align: right;\">\n",
       "      <th></th>\n",
       "      <th>index</th>\n",
       "      <th>event_name</th>\n",
       "      <th>device_id_hash</th>\n",
       "      <th>event_time_stamp</th>\n",
       "      <th>exp_id</th>\n",
       "      <th>date</th>\n",
       "    </tr>\n",
       "  </thead>\n",
       "  <tbody>\n",
       "    <tr>\n",
       "      <th>0</th>\n",
       "      <td>2828</td>\n",
       "      <td>Tutorial</td>\n",
       "      <td>3737462046622621720</td>\n",
       "      <td>2019-08-01 00:07:28</td>\n",
       "      <td>246</td>\n",
       "      <td>2019-08-01</td>\n",
       "    </tr>\n",
       "    <tr>\n",
       "      <th>1</th>\n",
       "      <td>2829</td>\n",
       "      <td>MainScreenAppear</td>\n",
       "      <td>3737462046622621720</td>\n",
       "      <td>2019-08-01 00:08:00</td>\n",
       "      <td>246</td>\n",
       "      <td>2019-08-01</td>\n",
       "    </tr>\n",
       "    <tr>\n",
       "      <th>2</th>\n",
       "      <td>2830</td>\n",
       "      <td>MainScreenAppear</td>\n",
       "      <td>3737462046622621720</td>\n",
       "      <td>2019-08-01 00:08:55</td>\n",
       "      <td>246</td>\n",
       "      <td>2019-08-01</td>\n",
       "    </tr>\n",
       "    <tr>\n",
       "      <th>3</th>\n",
       "      <td>2831</td>\n",
       "      <td>OffersScreenAppear</td>\n",
       "      <td>3737462046622621720</td>\n",
       "      <td>2019-08-01 00:08:58</td>\n",
       "      <td>246</td>\n",
       "      <td>2019-08-01</td>\n",
       "    </tr>\n",
       "    <tr>\n",
       "      <th>4</th>\n",
       "      <td>2832</td>\n",
       "      <td>MainScreenAppear</td>\n",
       "      <td>1433840883824088890</td>\n",
       "      <td>2019-08-01 00:08:59</td>\n",
       "      <td>247</td>\n",
       "      <td>2019-08-01</td>\n",
       "    </tr>\n",
       "    <tr>\n",
       "      <th>...</th>\n",
       "      <td>...</td>\n",
       "      <td>...</td>\n",
       "      <td>...</td>\n",
       "      <td>...</td>\n",
       "      <td>...</td>\n",
       "      <td>...</td>\n",
       "    </tr>\n",
       "    <tr>\n",
       "      <th>240882</th>\n",
       "      <td>244121</td>\n",
       "      <td>MainScreenAppear</td>\n",
       "      <td>4599628364049201812</td>\n",
       "      <td>2019-08-07 21:12:25</td>\n",
       "      <td>247</td>\n",
       "      <td>2019-08-07</td>\n",
       "    </tr>\n",
       "    <tr>\n",
       "      <th>240883</th>\n",
       "      <td>244122</td>\n",
       "      <td>MainScreenAppear</td>\n",
       "      <td>5849806612437486590</td>\n",
       "      <td>2019-08-07 21:13:59</td>\n",
       "      <td>246</td>\n",
       "      <td>2019-08-07</td>\n",
       "    </tr>\n",
       "    <tr>\n",
       "      <th>240884</th>\n",
       "      <td>244123</td>\n",
       "      <td>MainScreenAppear</td>\n",
       "      <td>5746969938801999050</td>\n",
       "      <td>2019-08-07 21:14:43</td>\n",
       "      <td>246</td>\n",
       "      <td>2019-08-07</td>\n",
       "    </tr>\n",
       "    <tr>\n",
       "      <th>240885</th>\n",
       "      <td>244124</td>\n",
       "      <td>MainScreenAppear</td>\n",
       "      <td>5746969938801999050</td>\n",
       "      <td>2019-08-07 21:14:58</td>\n",
       "      <td>246</td>\n",
       "      <td>2019-08-07</td>\n",
       "    </tr>\n",
       "    <tr>\n",
       "      <th>240886</th>\n",
       "      <td>244125</td>\n",
       "      <td>OffersScreenAppear</td>\n",
       "      <td>5746969938801999050</td>\n",
       "      <td>2019-08-07 21:15:17</td>\n",
       "      <td>246</td>\n",
       "      <td>2019-08-07</td>\n",
       "    </tr>\n",
       "  </tbody>\n",
       "</table>\n",
       "<p>240887 rows × 6 columns</p>\n",
       "</div>"
      ],
      "text/plain": [
       "         index          event_name       device_id_hash    event_time_stamp  \\\n",
       "0         2828            Tutorial  3737462046622621720 2019-08-01 00:07:28   \n",
       "1         2829    MainScreenAppear  3737462046622621720 2019-08-01 00:08:00   \n",
       "2         2830    MainScreenAppear  3737462046622621720 2019-08-01 00:08:55   \n",
       "3         2831  OffersScreenAppear  3737462046622621720 2019-08-01 00:08:58   \n",
       "4         2832    MainScreenAppear  1433840883824088890 2019-08-01 00:08:59   \n",
       "...        ...                 ...                  ...                 ...   \n",
       "240882  244121    MainScreenAppear  4599628364049201812 2019-08-07 21:12:25   \n",
       "240883  244122    MainScreenAppear  5849806612437486590 2019-08-07 21:13:59   \n",
       "240884  244123    MainScreenAppear  5746969938801999050 2019-08-07 21:14:43   \n",
       "240885  244124    MainScreenAppear  5746969938801999050 2019-08-07 21:14:58   \n",
       "240886  244125  OffersScreenAppear  5746969938801999050 2019-08-07 21:15:17   \n",
       "\n",
       "        exp_id       date  \n",
       "0          246 2019-08-01  \n",
       "1          246 2019-08-01  \n",
       "2          246 2019-08-01  \n",
       "3          246 2019-08-01  \n",
       "4          247 2019-08-01  \n",
       "...        ...        ...  \n",
       "240882     247 2019-08-07  \n",
       "240883     246 2019-08-07  \n",
       "240884     246 2019-08-07  \n",
       "240885     246 2019-08-07  \n",
       "240886     246 2019-08-07  \n",
       "\n",
       "[240887 rows x 6 columns]"
      ]
     },
     "execution_count": 27,
     "metadata": {},
     "output_type": "execute_result"
    }
   ],
   "source": [
    "data = data.loc[data['date'] > '2019-07-31'].reset_index()\n",
    "data"
   ]
  },
  {
   "cell_type": "markdown",
   "metadata": {},
   "source": [
    "**График для проверки удаления ненужных строк**"
   ]
  },
  {
   "cell_type": "code",
   "execution_count": 28,
   "metadata": {},
   "outputs": [
    {
     "data": {
      "text/plain": [
       "Text(0, 0.5, 'Кол-во человек')"
      ]
     },
     "execution_count": 28,
     "metadata": {},
     "output_type": "execute_result"
    },
    {
     "data": {
      "image/png": "[encoded data removed]",
      "text/plain": [
       "<Figure size 1440x720 with 1 Axes>"
      ]
     },
     "metadata": {
      "needs_background": "light"
     },
     "output_type": "display_data"
    }
   ],
   "source": [
    "plt.figure(figsize=(20, 10))\n",
    "#plt.xticks(rotation=90)\n",
    "plt.grid()\n",
    "\n",
    "plt.hist(data['event_time_stamp'], bins = 50, histtype='step', color = 'green', linewidth= 3)\n",
    "plt.title('График времени к кол-ву людей')\n",
    "plt.xlabel('Дни')\n",
    "plt.ylabel('Кол-во человек')"
   ]
  },
  {
   "cell_type": "code",
   "execution_count": 29,
   "metadata": {
    "scrolled": true
   },
   "outputs": [
    {
     "name": "stdout",
     "output_type": "stream",
     "text": [
      "Дата первого события в логе после удаления не нужной части: 2019-08-01 00:07:28\n",
      "Дата последнего события в логе после удаления не нужной части: 2019-08-07 21:15:17\n"
     ]
    }
   ],
   "source": [
    "print('Дата первого события в логе после удаления не нужной части:', data['event_time_stamp'].min())\n",
    "print('Дата последнего события в логе после удаления не нужной части:',data['event_time_stamp'].max())"
   ]
  },
  {
   "cell_type": "markdown",
   "metadata": {},
   "source": [
    "**Проверка**"
   ]
  },
  {
   "cell_type": "code",
   "execution_count": 30,
   "metadata": {},
   "outputs": [
    {
     "data": {
      "text/plain": [
       "240887"
      ]
     },
     "execution_count": 30,
     "metadata": {},
     "output_type": "execute_result"
    }
   ],
   "source": [
    "len(data.loc[data['date'] > '2019-07-31'])"
   ]
  },
  {
   "cell_type": "code",
   "execution_count": 31,
   "metadata": {},
   "outputs": [
    {
     "name": "stdout",
     "output_type": "stream",
     "text": [
      "Кол-во сессий, которые исключил: 2826\n"
     ]
    }
   ],
   "source": [
    "print('Кол-во сессий, которые исключил:', len_data - len(data.loc[data['date'] > '2019-07-31']))"
   ]
  },
  {
   "cell_type": "markdown",
   "metadata": {},
   "source": [
    "**Кол-во исключенных пользователей по группам исследования**"
   ]
  },
  {
   "cell_type": "code",
   "execution_count": 32,
   "metadata": {},
   "outputs": [
    {
     "data": {
      "text/html": [
       "<div>\n",
       "<style scoped>\n",
       "    .dataframe tbody tr th:only-of-type {\n",
       "        vertical-align: middle;\n",
       "    }\n",
       "\n",
       "    .dataframe tbody tr th {\n",
       "        vertical-align: top;\n",
       "    }\n",
       "\n",
       "    .dataframe thead th {\n",
       "        text-align: right;\n",
       "    }\n",
       "</style>\n",
       "<table border=\"1\" class=\"dataframe\">\n",
       "  <thead>\n",
       "    <tr style=\"text-align: right;\">\n",
       "      <th></th>\n",
       "      <th>device_id_hash</th>\n",
       "    </tr>\n",
       "    <tr>\n",
       "      <th>exp_id</th>\n",
       "      <th></th>\n",
       "    </tr>\n",
       "  </thead>\n",
       "  <tbody>\n",
       "    <tr>\n",
       "      <th>246</th>\n",
       "      <td>5</td>\n",
       "    </tr>\n",
       "    <tr>\n",
       "      <th>247</th>\n",
       "      <td>7</td>\n",
       "    </tr>\n",
       "    <tr>\n",
       "      <th>248</th>\n",
       "      <td>5</td>\n",
       "    </tr>\n",
       "  </tbody>\n",
       "</table>\n",
       "</div>"
      ],
      "text/plain": [
       "        device_id_hash\n",
       "exp_id                \n",
       "246                  5\n",
       "247                  7\n",
       "248                  5"
      ]
     },
     "execution_count": 32,
     "metadata": {},
     "output_type": "execute_result"
    }
   ],
   "source": [
    "dr_sum = data_users_log - data.groupby('exp_id').agg({'device_id_hash' : 'nunique'})\n",
    "dr_sum"
   ]
  },
  {
   "cell_type": "code",
   "execution_count": 33,
   "metadata": {},
   "outputs": [
    {
     "name": "stdout",
     "output_type": "stream",
     "text": [
      "Кол-во пользователей исключенных из исследования: device_id_hash    17\n",
      "dtype: int64\n"
     ]
    }
   ],
   "source": [
    "print('Кол-во пользователей исключенных из исследования:',dr_sum.sum())"
   ]
  },
  {
   "cell_type": "markdown",
   "metadata": {},
   "source": [
    "**Кол-во исключенных пользователей по группам исследования в процентах**"
   ]
  },
  {
   "cell_type": "code",
   "execution_count": 34,
   "metadata": {},
   "outputs": [
    {
     "data": {
      "text/html": [
       "<div>\n",
       "<style scoped>\n",
       "    .dataframe tbody tr th:only-of-type {\n",
       "        vertical-align: middle;\n",
       "    }\n",
       "\n",
       "    .dataframe tbody tr th {\n",
       "        vertical-align: top;\n",
       "    }\n",
       "\n",
       "    .dataframe thead th {\n",
       "        text-align: right;\n",
       "    }\n",
       "</style>\n",
       "<table border=\"1\" class=\"dataframe\">\n",
       "  <thead>\n",
       "    <tr style=\"text-align: right;\">\n",
       "      <th></th>\n",
       "      <th>device_id_hash</th>\n",
       "    </tr>\n",
       "    <tr>\n",
       "      <th>exp_id</th>\n",
       "      <th></th>\n",
       "    </tr>\n",
       "  </thead>\n",
       "  <tbody>\n",
       "    <tr>\n",
       "      <th>246</th>\n",
       "      <td>0.20</td>\n",
       "    </tr>\n",
       "    <tr>\n",
       "      <th>247</th>\n",
       "      <td>0.28</td>\n",
       "    </tr>\n",
       "    <tr>\n",
       "      <th>248</th>\n",
       "      <td>0.20</td>\n",
       "    </tr>\n",
       "  </tbody>\n",
       "</table>\n",
       "</div>"
      ],
      "text/plain": [
       "        device_id_hash\n",
       "exp_id                \n",
       "246               0.20\n",
       "247               0.28\n",
       "248               0.20"
      ]
     },
     "execution_count": 34,
     "metadata": {},
     "output_type": "execute_result"
    }
   ],
   "source": [
    "dr_round = round((data_users_log - data.groupby('exp_id').agg({'device_id_hash' : 'nunique'}))*100 / data_users_log, 2)\n",
    "\n",
    "dr_round"
   ]
  },
  {
   "cell_type": "code",
   "execution_count": 35,
   "metadata": {},
   "outputs": [
    {
     "name": "stdout",
     "output_type": "stream",
     "text": [
      "Кол-во пользователей исключенных из исследования в процентном соотношении: device_id_hash    0.68\n",
      "dtype: float64\n"
     ]
    }
   ],
   "source": [
    "print('Кол-во пользователей исключенных из исследования в процентном соотношении:', dr_round.sum())"
   ]
  },
  {
   "cell_type": "markdown",
   "metadata": {},
   "source": [
    "**Проверка на наличие трех групп и кол-ва пользователей в них**"
   ]
  },
  {
   "cell_type": "code",
   "execution_count": 36,
   "metadata": {},
   "outputs": [
    {
     "data": {
      "text/html": [
       "<div>\n",
       "<style scoped>\n",
       "    .dataframe tbody tr th:only-of-type {\n",
       "        vertical-align: middle;\n",
       "    }\n",
       "\n",
       "    .dataframe tbody tr th {\n",
       "        vertical-align: top;\n",
       "    }\n",
       "\n",
       "    .dataframe thead tr th {\n",
       "        text-align: left;\n",
       "    }\n",
       "\n",
       "    .dataframe thead tr:last-of-type th {\n",
       "        text-align: right;\n",
       "    }\n",
       "</style>\n",
       "<table border=\"1\" class=\"dataframe\">\n",
       "  <thead>\n",
       "    <tr>\n",
       "      <th></th>\n",
       "      <th colspan=\"2\" halign=\"left\">device_id_hash</th>\n",
       "    </tr>\n",
       "    <tr>\n",
       "      <th></th>\n",
       "      <th>nunique</th>\n",
       "      <th>count</th>\n",
       "    </tr>\n",
       "    <tr>\n",
       "      <th>exp_id</th>\n",
       "      <th></th>\n",
       "      <th></th>\n",
       "    </tr>\n",
       "  </thead>\n",
       "  <tbody>\n",
       "    <tr>\n",
       "      <th>246</th>\n",
       "      <td>2484</td>\n",
       "      <td>79302</td>\n",
       "    </tr>\n",
       "    <tr>\n",
       "      <th>247</th>\n",
       "      <td>2513</td>\n",
       "      <td>77022</td>\n",
       "    </tr>\n",
       "    <tr>\n",
       "      <th>248</th>\n",
       "      <td>2537</td>\n",
       "      <td>84563</td>\n",
       "    </tr>\n",
       "  </tbody>\n",
       "</table>\n",
       "</div>"
      ],
      "text/plain": [
       "       device_id_hash       \n",
       "              nunique  count\n",
       "exp_id                      \n",
       "246              2484  79302\n",
       "247              2513  77022\n",
       "248              2537  84563"
      ]
     },
     "execution_count": 36,
     "metadata": {},
     "output_type": "execute_result"
    }
   ],
   "source": [
    "data.groupby('exp_id').agg({'device_id_hash' : ['nunique', 'count']})"
   ]
  },
  {
   "cell_type": "markdown",
   "metadata": {},
   "source": [
    "**Процентное отношение исходных сессий, к сессиям после удаления**"
   ]
  },
  {
   "cell_type": "code",
   "execution_count": 37,
   "metadata": {},
   "outputs": [
    {
     "name": "stdout",
     "output_type": "stream",
     "text": [
      "Кол-во пользователей в %, которые я откинул: 1.16\n"
     ]
    }
   ],
   "source": [
    "per_log_users = round((len_data - len(data.loc[data['date'] > '2019-07-31']))*100 / len_data, 2)\n",
    "print('Кол-во пользователей в %, которые я откинул:', per_log_users)"
   ]
  },
  {
   "cell_type": "markdown",
   "metadata": {},
   "source": [
    "**Вывод:** Построив график, видно, что основная часть событий происходит в диапазоне дат 2019-08-01 - 2019-08-07. Опираясь на гистограмму и выше написанное можно отбросить данные от 2019-07-25 по 2019-07-31 даты. \n",
    "\n",
    "Сделав удаление данных, получаем \"новый\" лог, с кол-ом данных сессий на 2828 меньше, чем было изначально. После преобразований сделал проверку, и действительно остались данные за вы бранный период, и тот, что отображен на гистограмме. Так же была проведена проверка процентного и количественного соотношения отброшенных пользователей к изначальному кол-ву, и оно составило 0,68%, что является маленьким результатом и не повлияет на общий результат, а в количественном плане было удалено 17 пользователей из 7 551"
   ]
  },
  {
   "cell_type": "markdown",
   "metadata": {},
   "source": [
    "# Шаг 4"
   ]
  },
  {
   "cell_type": "markdown",
   "metadata": {},
   "source": [
    "**Пункт 1. Частота появления события**\n"
   ]
  },
  {
   "cell_type": "code",
   "execution_count": 38,
   "metadata": {},
   "outputs": [
    {
     "data": {
      "text/html": [
       "<div>\n",
       "<style scoped>\n",
       "    .dataframe tbody tr th:only-of-type {\n",
       "        vertical-align: middle;\n",
       "    }\n",
       "\n",
       "    .dataframe tbody tr th {\n",
       "        vertical-align: top;\n",
       "    }\n",
       "\n",
       "    .dataframe thead th {\n",
       "        text-align: right;\n",
       "    }\n",
       "</style>\n",
       "<table border=\"1\" class=\"dataframe\">\n",
       "  <thead>\n",
       "    <tr style=\"text-align: right;\">\n",
       "      <th></th>\n",
       "      <th>index</th>\n",
       "      <th>event_name</th>\n",
       "      <th>device_id_hash</th>\n",
       "      <th>event_time_stamp</th>\n",
       "      <th>exp_id</th>\n",
       "      <th>date</th>\n",
       "    </tr>\n",
       "  </thead>\n",
       "  <tbody>\n",
       "    <tr>\n",
       "      <th>0</th>\n",
       "      <td>2828</td>\n",
       "      <td>Tutorial</td>\n",
       "      <td>3737462046622621720</td>\n",
       "      <td>2019-08-01 00:07:28</td>\n",
       "      <td>246</td>\n",
       "      <td>2019-08-01</td>\n",
       "    </tr>\n",
       "    <tr>\n",
       "      <th>1</th>\n",
       "      <td>2829</td>\n",
       "      <td>MainScreenAppear</td>\n",
       "      <td>3737462046622621720</td>\n",
       "      <td>2019-08-01 00:08:00</td>\n",
       "      <td>246</td>\n",
       "      <td>2019-08-01</td>\n",
       "    </tr>\n",
       "    <tr>\n",
       "      <th>2</th>\n",
       "      <td>2830</td>\n",
       "      <td>MainScreenAppear</td>\n",
       "      <td>3737462046622621720</td>\n",
       "      <td>2019-08-01 00:08:55</td>\n",
       "      <td>246</td>\n",
       "      <td>2019-08-01</td>\n",
       "    </tr>\n",
       "    <tr>\n",
       "      <th>3</th>\n",
       "      <td>2831</td>\n",
       "      <td>OffersScreenAppear</td>\n",
       "      <td>3737462046622621720</td>\n",
       "      <td>2019-08-01 00:08:58</td>\n",
       "      <td>246</td>\n",
       "      <td>2019-08-01</td>\n",
       "    </tr>\n",
       "    <tr>\n",
       "      <th>4</th>\n",
       "      <td>2832</td>\n",
       "      <td>MainScreenAppear</td>\n",
       "      <td>1433840883824088890</td>\n",
       "      <td>2019-08-01 00:08:59</td>\n",
       "      <td>247</td>\n",
       "      <td>2019-08-01</td>\n",
       "    </tr>\n",
       "    <tr>\n",
       "      <th>...</th>\n",
       "      <td>...</td>\n",
       "      <td>...</td>\n",
       "      <td>...</td>\n",
       "      <td>...</td>\n",
       "      <td>...</td>\n",
       "      <td>...</td>\n",
       "    </tr>\n",
       "    <tr>\n",
       "      <th>240882</th>\n",
       "      <td>244121</td>\n",
       "      <td>MainScreenAppear</td>\n",
       "      <td>4599628364049201812</td>\n",
       "      <td>2019-08-07 21:12:25</td>\n",
       "      <td>247</td>\n",
       "      <td>2019-08-07</td>\n",
       "    </tr>\n",
       "    <tr>\n",
       "      <th>240883</th>\n",
       "      <td>244122</td>\n",
       "      <td>MainScreenAppear</td>\n",
       "      <td>5849806612437486590</td>\n",
       "      <td>2019-08-07 21:13:59</td>\n",
       "      <td>246</td>\n",
       "      <td>2019-08-07</td>\n",
       "    </tr>\n",
       "    <tr>\n",
       "      <th>240884</th>\n",
       "      <td>244123</td>\n",
       "      <td>MainScreenAppear</td>\n",
       "      <td>5746969938801999050</td>\n",
       "      <td>2019-08-07 21:14:43</td>\n",
       "      <td>246</td>\n",
       "      <td>2019-08-07</td>\n",
       "    </tr>\n",
       "    <tr>\n",
       "      <th>240885</th>\n",
       "      <td>244124</td>\n",
       "      <td>MainScreenAppear</td>\n",
       "      <td>5746969938801999050</td>\n",
       "      <td>2019-08-07 21:14:58</td>\n",
       "      <td>246</td>\n",
       "      <td>2019-08-07</td>\n",
       "    </tr>\n",
       "    <tr>\n",
       "      <th>240886</th>\n",
       "      <td>244125</td>\n",
       "      <td>OffersScreenAppear</td>\n",
       "      <td>5746969938801999050</td>\n",
       "      <td>2019-08-07 21:15:17</td>\n",
       "      <td>246</td>\n",
       "      <td>2019-08-07</td>\n",
       "    </tr>\n",
       "  </tbody>\n",
       "</table>\n",
       "<p>240887 rows × 6 columns</p>\n",
       "</div>"
      ],
      "text/plain": [
       "         index          event_name       device_id_hash    event_time_stamp  \\\n",
       "0         2828            Tutorial  3737462046622621720 2019-08-01 00:07:28   \n",
       "1         2829    MainScreenAppear  3737462046622621720 2019-08-01 00:08:00   \n",
       "2         2830    MainScreenAppear  3737462046622621720 2019-08-01 00:08:55   \n",
       "3         2831  OffersScreenAppear  3737462046622621720 2019-08-01 00:08:58   \n",
       "4         2832    MainScreenAppear  1433840883824088890 2019-08-01 00:08:59   \n",
       "...        ...                 ...                  ...                 ...   \n",
       "240882  244121    MainScreenAppear  4599628364049201812 2019-08-07 21:12:25   \n",
       "240883  244122    MainScreenAppear  5849806612437486590 2019-08-07 21:13:59   \n",
       "240884  244123    MainScreenAppear  5746969938801999050 2019-08-07 21:14:43   \n",
       "240885  244124    MainScreenAppear  5746969938801999050 2019-08-07 21:14:58   \n",
       "240886  244125  OffersScreenAppear  5746969938801999050 2019-08-07 21:15:17   \n",
       "\n",
       "        exp_id       date  \n",
       "0          246 2019-08-01  \n",
       "1          246 2019-08-01  \n",
       "2          246 2019-08-01  \n",
       "3          246 2019-08-01  \n",
       "4          247 2019-08-01  \n",
       "...        ...        ...  \n",
       "240882     247 2019-08-07  \n",
       "240883     246 2019-08-07  \n",
       "240884     246 2019-08-07  \n",
       "240885     246 2019-08-07  \n",
       "240886     246 2019-08-07  \n",
       "\n",
       "[240887 rows x 6 columns]"
      ]
     },
     "execution_count": 38,
     "metadata": {},
     "output_type": "execute_result"
    }
   ],
   "source": [
    "data"
   ]
  },
  {
   "cell_type": "code",
   "execution_count": 39,
   "metadata": {},
   "outputs": [
    {
     "data": {
      "text/html": [
       "<div>\n",
       "<style scoped>\n",
       "    .dataframe tbody tr th:only-of-type {\n",
       "        vertical-align: middle;\n",
       "    }\n",
       "\n",
       "    .dataframe tbody tr th {\n",
       "        vertical-align: top;\n",
       "    }\n",
       "\n",
       "    .dataframe thead tr th {\n",
       "        text-align: left;\n",
       "    }\n",
       "\n",
       "    .dataframe thead tr:last-of-type th {\n",
       "        text-align: right;\n",
       "    }\n",
       "</style>\n",
       "<table border=\"1\" class=\"dataframe\">\n",
       "  <thead>\n",
       "    <tr>\n",
       "      <th></th>\n",
       "      <th colspan=\"2\" halign=\"left\">device_id_hash</th>\n",
       "    </tr>\n",
       "    <tr>\n",
       "      <th></th>\n",
       "      <th>users_nunique_event</th>\n",
       "      <th>count_event</th>\n",
       "    </tr>\n",
       "    <tr>\n",
       "      <th>event_name</th>\n",
       "      <th></th>\n",
       "      <th></th>\n",
       "    </tr>\n",
       "  </thead>\n",
       "  <tbody>\n",
       "    <tr>\n",
       "      <th>CartScreenAppear</th>\n",
       "      <td>3734</td>\n",
       "      <td>42303</td>\n",
       "    </tr>\n",
       "    <tr>\n",
       "      <th>MainScreenAppear</th>\n",
       "      <td>7419</td>\n",
       "      <td>117328</td>\n",
       "    </tr>\n",
       "    <tr>\n",
       "      <th>OffersScreenAppear</th>\n",
       "      <td>4593</td>\n",
       "      <td>46333</td>\n",
       "    </tr>\n",
       "    <tr>\n",
       "      <th>PaymentScreenSuccessful</th>\n",
       "      <td>3539</td>\n",
       "      <td>33918</td>\n",
       "    </tr>\n",
       "    <tr>\n",
       "      <th>Tutorial</th>\n",
       "      <td>840</td>\n",
       "      <td>1005</td>\n",
       "    </tr>\n",
       "  </tbody>\n",
       "</table>\n",
       "</div>"
      ],
      "text/plain": [
       "                             device_id_hash            \n",
       "                        users_nunique_event count_event\n",
       "event_name                                             \n",
       "CartScreenAppear                       3734       42303\n",
       "MainScreenAppear                       7419      117328\n",
       "OffersScreenAppear                     4593       46333\n",
       "PaymentScreenSuccessful                3539       33918\n",
       "Tutorial                                840        1005"
      ]
     },
     "execution_count": 39,
     "metadata": {},
     "output_type": "execute_result"
    }
   ],
   "source": [
    "data_log_sort = data.groupby('event_name').agg({'device_id_hash' : ['nunique', 'count']}).rename(columns={'nunique' : 'users_nunique_event', 'count' : 'count_event'})\n",
    "data_log_sort\n",
    "#.sort_values(by = 'nunique' ,ascending = False)"
   ]
  },
  {
   "cell_type": "code",
   "execution_count": 40,
   "metadata": {},
   "outputs": [
    {
     "data": {
      "text/plain": [
       "240887"
      ]
     },
     "execution_count": 40,
     "metadata": {},
     "output_type": "execute_result"
    }
   ],
   "source": [
    "data_log_sum = data['event_name'].count()\n",
    "data_log_sum"
   ]
  },
  {
   "cell_type": "code",
   "execution_count": 41,
   "metadata": {},
   "outputs": [
    {
     "data": {
      "text/html": [
       "<div>\n",
       "<style scoped>\n",
       "    .dataframe tbody tr th:only-of-type {\n",
       "        vertical-align: middle;\n",
       "    }\n",
       "\n",
       "    .dataframe tbody tr th {\n",
       "        vertical-align: top;\n",
       "    }\n",
       "\n",
       "    .dataframe thead th {\n",
       "        text-align: right;\n",
       "    }\n",
       "</style>\n",
       "<table border=\"1\" class=\"dataframe\">\n",
       "  <thead>\n",
       "    <tr style=\"text-align: right;\">\n",
       "      <th></th>\n",
       "      <th>device_id_hash</th>\n",
       "    </tr>\n",
       "    <tr>\n",
       "      <th>event_name</th>\n",
       "      <th></th>\n",
       "    </tr>\n",
       "  </thead>\n",
       "  <tbody>\n",
       "    <tr>\n",
       "      <th>MainScreenAppear</th>\n",
       "      <td>117328</td>\n",
       "    </tr>\n",
       "    <tr>\n",
       "      <th>OffersScreenAppear</th>\n",
       "      <td>46333</td>\n",
       "    </tr>\n",
       "    <tr>\n",
       "      <th>CartScreenAppear</th>\n",
       "      <td>42303</td>\n",
       "    </tr>\n",
       "    <tr>\n",
       "      <th>PaymentScreenSuccessful</th>\n",
       "      <td>33918</td>\n",
       "    </tr>\n",
       "    <tr>\n",
       "      <th>Tutorial</th>\n",
       "      <td>1005</td>\n",
       "    </tr>\n",
       "  </tbody>\n",
       "</table>\n",
       "</div>"
      ],
      "text/plain": [
       "                         device_id_hash\n",
       "event_name                             \n",
       "MainScreenAppear                 117328\n",
       "OffersScreenAppear                46333\n",
       "CartScreenAppear                  42303\n",
       "PaymentScreenSuccessful           33918\n",
       "Tutorial                           1005"
      ]
     },
     "execution_count": 41,
     "metadata": {},
     "output_type": "execute_result"
    }
   ],
   "source": [
    "data_log_count = data.pivot_table(index = 'event_name', values = 'device_id_hash', aggfunc = 'count').sort_values(by = 'device_id_hash', ascending = False)\n",
    "data_log_count"
   ]
  },
  {
   "cell_type": "code",
   "execution_count": 42,
   "metadata": {},
   "outputs": [
    {
     "data": {
      "text/html": [
       "<div>\n",
       "<style scoped>\n",
       "    .dataframe tbody tr th:only-of-type {\n",
       "        vertical-align: middle;\n",
       "    }\n",
       "\n",
       "    .dataframe tbody tr th {\n",
       "        vertical-align: top;\n",
       "    }\n",
       "\n",
       "    .dataframe thead th {\n",
       "        text-align: right;\n",
       "    }\n",
       "</style>\n",
       "<table border=\"1\" class=\"dataframe\">\n",
       "  <thead>\n",
       "    <tr style=\"text-align: right;\">\n",
       "      <th></th>\n",
       "      <th>device_id_hash</th>\n",
       "    </tr>\n",
       "    <tr>\n",
       "      <th>event_name</th>\n",
       "      <th></th>\n",
       "    </tr>\n",
       "  </thead>\n",
       "  <tbody>\n",
       "    <tr>\n",
       "      <th>MainScreenAppear</th>\n",
       "      <td>48.71</td>\n",
       "    </tr>\n",
       "    <tr>\n",
       "      <th>OffersScreenAppear</th>\n",
       "      <td>19.23</td>\n",
       "    </tr>\n",
       "    <tr>\n",
       "      <th>CartScreenAppear</th>\n",
       "      <td>17.56</td>\n",
       "    </tr>\n",
       "    <tr>\n",
       "      <th>PaymentScreenSuccessful</th>\n",
       "      <td>14.08</td>\n",
       "    </tr>\n",
       "    <tr>\n",
       "      <th>Tutorial</th>\n",
       "      <td>0.42</td>\n",
       "    </tr>\n",
       "  </tbody>\n",
       "</table>\n",
       "</div>"
      ],
      "text/plain": [
       "                         device_id_hash\n",
       "event_name                             \n",
       "MainScreenAppear                  48.71\n",
       "OffersScreenAppear                19.23\n",
       "CartScreenAppear                  17.56\n",
       "PaymentScreenSuccessful           14.08\n",
       "Tutorial                           0.42"
      ]
     },
     "execution_count": 42,
     "metadata": {},
     "output_type": "execute_result"
    }
   ],
   "source": [
    "data_log_per = round(data_log_count*100 / data_log_sum, 2)\n",
    "data_log_per"
   ]
  },
  {
   "cell_type": "markdown",
   "metadata": {},
   "source": [
    "**Вывод:** Частота появления каждого события относительно общего числа событий приведена на графике, где больше всего появляется событие \"MainScreenAppear\""
   ]
  },
  {
   "cell_type": "markdown",
   "metadata": {},
   "source": [
    "**Пункт 2. Кол-во событий совершившие пользователем**"
   ]
  },
  {
   "cell_type": "code",
   "execution_count": 43,
   "metadata": {},
   "outputs": [
    {
     "data": {
      "text/plain": [
       "7534"
      ]
     },
     "execution_count": 43,
     "metadata": {},
     "output_type": "execute_result"
    }
   ],
   "source": [
    "#кол-во уникальных пользователей в логе\n",
    "data_user_nunique = data['device_id_hash'].nunique()\n",
    "data_user_nunique"
   ]
  },
  {
   "cell_type": "code",
   "execution_count": 44,
   "metadata": {},
   "outputs": [
    {
     "data": {
      "text/html": [
       "<div>\n",
       "<style scoped>\n",
       "    .dataframe tbody tr th:only-of-type {\n",
       "        vertical-align: middle;\n",
       "    }\n",
       "\n",
       "    .dataframe tbody tr th {\n",
       "        vertical-align: top;\n",
       "    }\n",
       "\n",
       "    .dataframe thead th {\n",
       "        text-align: right;\n",
       "    }\n",
       "</style>\n",
       "<table border=\"1\" class=\"dataframe\">\n",
       "  <thead>\n",
       "    <tr style=\"text-align: right;\">\n",
       "      <th></th>\n",
       "      <th>device_id_hash</th>\n",
       "    </tr>\n",
       "    <tr>\n",
       "      <th>event_name</th>\n",
       "      <th></th>\n",
       "    </tr>\n",
       "  </thead>\n",
       "  <tbody>\n",
       "    <tr>\n",
       "      <th>MainScreenAppear</th>\n",
       "      <td>7419</td>\n",
       "    </tr>\n",
       "    <tr>\n",
       "      <th>OffersScreenAppear</th>\n",
       "      <td>4593</td>\n",
       "    </tr>\n",
       "    <tr>\n",
       "      <th>CartScreenAppear</th>\n",
       "      <td>3734</td>\n",
       "    </tr>\n",
       "    <tr>\n",
       "      <th>PaymentScreenSuccessful</th>\n",
       "      <td>3539</td>\n",
       "    </tr>\n",
       "    <tr>\n",
       "      <th>Tutorial</th>\n",
       "      <td>840</td>\n",
       "    </tr>\n",
       "  </tbody>\n",
       "</table>\n",
       "</div>"
      ],
      "text/plain": [
       "                         device_id_hash\n",
       "event_name                             \n",
       "MainScreenAppear                   7419\n",
       "OffersScreenAppear                 4593\n",
       "CartScreenAppear                   3734\n",
       "PaymentScreenSuccessful            3539\n",
       "Tutorial                            840"
      ]
     },
     "execution_count": 44,
     "metadata": {},
     "output_type": "execute_result"
    }
   ],
   "source": [
    "#кол-во пользователей по событиям\n",
    "data_users_nunique_tbl = data.pivot_table(index = 'event_name', values = 'device_id_hash', aggfunc = 'nunique').sort_values(by = 'device_id_hash', ascending = False)\n",
    "data_users_nunique_tbl"
   ]
  },
  {
   "cell_type": "code",
   "execution_count": 45,
   "metadata": {
    "scrolled": true
   },
   "outputs": [
    {
     "data": {
      "text/html": [
       "<div>\n",
       "<style scoped>\n",
       "    .dataframe tbody tr th:only-of-type {\n",
       "        vertical-align: middle;\n",
       "    }\n",
       "\n",
       "    .dataframe tbody tr th {\n",
       "        vertical-align: top;\n",
       "    }\n",
       "\n",
       "    .dataframe thead th {\n",
       "        text-align: right;\n",
       "    }\n",
       "</style>\n",
       "<table border=\"1\" class=\"dataframe\">\n",
       "  <thead>\n",
       "    <tr style=\"text-align: right;\">\n",
       "      <th></th>\n",
       "      <th>device_id_hash</th>\n",
       "    </tr>\n",
       "    <tr>\n",
       "      <th>event_name</th>\n",
       "      <th></th>\n",
       "    </tr>\n",
       "  </thead>\n",
       "  <tbody>\n",
       "    <tr>\n",
       "      <th>MainScreenAppear</th>\n",
       "      <td>0.98</td>\n",
       "    </tr>\n",
       "    <tr>\n",
       "      <th>OffersScreenAppear</th>\n",
       "      <td>0.61</td>\n",
       "    </tr>\n",
       "    <tr>\n",
       "      <th>CartScreenAppear</th>\n",
       "      <td>0.50</td>\n",
       "    </tr>\n",
       "    <tr>\n",
       "      <th>PaymentScreenSuccessful</th>\n",
       "      <td>0.47</td>\n",
       "    </tr>\n",
       "    <tr>\n",
       "      <th>Tutorial</th>\n",
       "      <td>0.11</td>\n",
       "    </tr>\n",
       "  </tbody>\n",
       "</table>\n",
       "</div>"
      ],
      "text/plain": [
       "                         device_id_hash\n",
       "event_name                             \n",
       "MainScreenAppear                   0.98\n",
       "OffersScreenAppear                 0.61\n",
       "CartScreenAppear                   0.50\n",
       "PaymentScreenSuccessful            0.47\n",
       "Tutorial                           0.11"
      ]
     },
     "execution_count": 45,
     "metadata": {},
     "output_type": "execute_result"
    }
   ],
   "source": [
    "#доля пользователей, которые совершили хотя бы одно событие\n",
    "round(data_users_nunique_tbl / data_user_nunique, 2)"
   ]
  },
  {
   "cell_type": "markdown",
   "metadata": {},
   "source": [
    "**Пункт 3. Предположение о происхождении каждого события**"
   ]
  },
  {
   "cell_type": "code",
   "execution_count": 46,
   "metadata": {},
   "outputs": [
    {
     "data": {
      "text/html": [
       "<div>\n",
       "<style scoped>\n",
       "    .dataframe tbody tr th:only-of-type {\n",
       "        vertical-align: middle;\n",
       "    }\n",
       "\n",
       "    .dataframe tbody tr th {\n",
       "        vertical-align: top;\n",
       "    }\n",
       "\n",
       "    .dataframe thead th {\n",
       "        text-align: right;\n",
       "    }\n",
       "</style>\n",
       "<table border=\"1\" class=\"dataframe\">\n",
       "  <thead>\n",
       "    <tr style=\"text-align: right;\">\n",
       "      <th></th>\n",
       "      <th>device_id_hash</th>\n",
       "    </tr>\n",
       "    <tr>\n",
       "      <th>event_name</th>\n",
       "      <th></th>\n",
       "    </tr>\n",
       "  </thead>\n",
       "  <tbody>\n",
       "    <tr>\n",
       "      <th>MainScreenAppear</th>\n",
       "      <td>7419</td>\n",
       "    </tr>\n",
       "    <tr>\n",
       "      <th>OffersScreenAppear</th>\n",
       "      <td>4593</td>\n",
       "    </tr>\n",
       "    <tr>\n",
       "      <th>CartScreenAppear</th>\n",
       "      <td>3734</td>\n",
       "    </tr>\n",
       "    <tr>\n",
       "      <th>PaymentScreenSuccessful</th>\n",
       "      <td>3539</td>\n",
       "    </tr>\n",
       "    <tr>\n",
       "      <th>Tutorial</th>\n",
       "      <td>840</td>\n",
       "    </tr>\n",
       "  </tbody>\n",
       "</table>\n",
       "</div>"
      ],
      "text/plain": [
       "                         device_id_hash\n",
       "event_name                             \n",
       "MainScreenAppear                   7419\n",
       "OffersScreenAppear                 4593\n",
       "CartScreenAppear                   3734\n",
       "PaymentScreenSuccessful            3539\n",
       "Tutorial                            840"
      ]
     },
     "execution_count": 46,
     "metadata": {},
     "output_type": "execute_result"
    }
   ],
   "source": [
    "data_users_nunique_tbl"
   ]
  },
  {
   "cell_type": "code",
   "execution_count": 47,
   "metadata": {},
   "outputs": [
    {
     "data": {
      "text/html": [
       "<div>\n",
       "<style scoped>\n",
       "    .dataframe tbody tr th:only-of-type {\n",
       "        vertical-align: middle;\n",
       "    }\n",
       "\n",
       "    .dataframe tbody tr th {\n",
       "        vertical-align: top;\n",
       "    }\n",
       "\n",
       "    .dataframe thead th {\n",
       "        text-align: right;\n",
       "    }\n",
       "</style>\n",
       "<table border=\"1\" class=\"dataframe\">\n",
       "  <thead>\n",
       "    <tr style=\"text-align: right;\">\n",
       "      <th></th>\n",
       "      <th>device_id_hash</th>\n",
       "    </tr>\n",
       "    <tr>\n",
       "      <th>event_name</th>\n",
       "      <th></th>\n",
       "    </tr>\n",
       "  </thead>\n",
       "  <tbody>\n",
       "    <tr>\n",
       "      <th>MainScreenAppear</th>\n",
       "      <td>7419</td>\n",
       "    </tr>\n",
       "    <tr>\n",
       "      <th>OffersScreenAppear</th>\n",
       "      <td>4593</td>\n",
       "    </tr>\n",
       "    <tr>\n",
       "      <th>CartScreenAppear</th>\n",
       "      <td>3734</td>\n",
       "    </tr>\n",
       "    <tr>\n",
       "      <th>PaymentScreenSuccessful</th>\n",
       "      <td>3539</td>\n",
       "    </tr>\n",
       "  </tbody>\n",
       "</table>\n",
       "</div>"
      ],
      "text/plain": [
       "                         device_id_hash\n",
       "event_name                             \n",
       "MainScreenAppear                   7419\n",
       "OffersScreenAppear                 4593\n",
       "CartScreenAppear                   3734\n",
       "PaymentScreenSuccessful            3539"
      ]
     },
     "execution_count": 47,
     "metadata": {},
     "output_type": "execute_result"
    }
   ],
   "source": [
    "data_users_nunique_tbl_t = data_users_nunique_tbl.T\n",
    "del data_users_nunique_tbl_t[data_users_nunique_tbl_t.columns[4]]\n",
    "data_users_nunique_tbl = data_users_nunique_tbl_t.T\n",
    "data_users_nunique_tbl"
   ]
  },
  {
   "cell_type": "markdown",
   "metadata": {},
   "source": [
    "**Предположение:** Я могу предположить, что, во-первых, почему событие \"MainScreenAppear (появление главного экрана)\" не равно 1, т.е. не все пользователи прошли через него. Это может быть связанно с тем, что в рекламных кампаниях могут использовать ссылки, которые перенаправляют сразу на экран карточки (заказа) или же кто-то из друзей/знакомых переслал ссылку сразу на товар => ты (пользователь) пропускает этап прохождения главного экрана. \n",
    "\n",
    "Во-вторых, событие \"OffersScreenAppear (экран предложений)\", если приравнять это к эрану карточек товара или витрины, то возможно, не все пользователи прошедшие главный экран могут дойти до данного этапа по нескольким причинам, например, магазин не понравился или решил выбрать товар позже. Но так же, те пользователи, которые не прошли главный экран могли попасть сразу на экран предложений.\n",
    "\n",
    "В-третьих, событие \"CartScreenAppear (экран корзины)\", то тут пользоатели могли просто пролитать товары, может быть приметить себе что-то или же наоборот понять, что этот магазин не для него и покинуть приложение, следвоательно такой низкий показатель посещаемости данной странице, и так же никто не отменял пользователей, прошедших этап главного экрана и экран предложений.\n",
    "\n",
    "В-четвертых, событие \"PaymentScreenSuccessful (экран оплаты товара)\", тут этап конверсии заходит уже далеко и следовательно а) не многие до него могут дойти; б) некоторые могут просто пересылать страницу с оплатой другому, чтобы он оплатил.\n",
    "\n",
    "В-пятых, событие \"Tutorial (руководство)\", этот этап многие пропускают сразу или, если он находится в отдельной вкладке, то даже не заходит. Если руководство находистя в отдельной вкладке или кнопке, то вряд ли разработчики сделают так, чтобы пользователи сразу попадали на него, если, конечно, это не сложно структурированный продукт (сайт, приложение) или какая-то игра, хотя и там этот этап можно пропустить.\n",
    "\n",
    "Итог, я счиатю, что имеет место быть различное множество событий, т.к. тут зависит от того, сам ли заходит пользователь на сайт/приложение, бывал ли он уже на нем, перехоидт ли он по ссылки из рекламы или ему скидыают, а может он просто сохранил ссылку, например, корзины, и сразу зашел туда и что этап Tutuoril мы можем убрать, так как он не является обязательным, потому что может встретиться на разных этапах, а может и вовсе не встретиться"
   ]
  },
  {
   "cell_type": "markdown",
   "metadata": {},
   "source": [
    "**Пункт 4. Конверсия**\n"
   ]
  },
  {
   "cell_type": "code",
   "execution_count": 48,
   "metadata": {},
   "outputs": [
    {
     "data": {
      "text/html": [
       "<div>\n",
       "<style scoped>\n",
       "    .dataframe tbody tr th:only-of-type {\n",
       "        vertical-align: middle;\n",
       "    }\n",
       "\n",
       "    .dataframe tbody tr th {\n",
       "        vertical-align: top;\n",
       "    }\n",
       "\n",
       "    .dataframe thead th {\n",
       "        text-align: right;\n",
       "    }\n",
       "</style>\n",
       "<table border=\"1\" class=\"dataframe\">\n",
       "  <thead>\n",
       "    <tr style=\"text-align: right;\">\n",
       "      <th></th>\n",
       "      <th>device_id_hash</th>\n",
       "    </tr>\n",
       "    <tr>\n",
       "      <th>event_name</th>\n",
       "      <th></th>\n",
       "    </tr>\n",
       "  </thead>\n",
       "  <tbody>\n",
       "    <tr>\n",
       "      <th>MainScreenAppear</th>\n",
       "      <td>1</td>\n",
       "    </tr>\n",
       "    <tr>\n",
       "      <th>OffersScreenAppear</th>\n",
       "      <td>7419</td>\n",
       "    </tr>\n",
       "    <tr>\n",
       "      <th>CartScreenAppear</th>\n",
       "      <td>4593</td>\n",
       "    </tr>\n",
       "    <tr>\n",
       "      <th>PaymentScreenSuccessful</th>\n",
       "      <td>3734</td>\n",
       "    </tr>\n",
       "  </tbody>\n",
       "</table>\n",
       "</div>"
      ],
      "text/plain": [
       "                         device_id_hash\n",
       "event_name                             \n",
       "MainScreenAppear                      1\n",
       "OffersScreenAppear                 7419\n",
       "CartScreenAppear                   4593\n",
       "PaymentScreenSuccessful            3734"
      ]
     },
     "execution_count": 48,
     "metadata": {},
     "output_type": "execute_result"
    }
   ],
   "source": [
    "#подготовка к вычислению\n",
    "data_users_nunique_sft = data_users_nunique_tbl.shift(fill_value = 1)\n",
    "data_users_nunique_sft"
   ]
  },
  {
   "cell_type": "code",
   "execution_count": 49,
   "metadata": {},
   "outputs": [
    {
     "data": {
      "text/html": [
       "<div>\n",
       "<style scoped>\n",
       "    .dataframe tbody tr th:only-of-type {\n",
       "        vertical-align: middle;\n",
       "    }\n",
       "\n",
       "    .dataframe tbody tr th {\n",
       "        vertical-align: top;\n",
       "    }\n",
       "\n",
       "    .dataframe thead th {\n",
       "        text-align: right;\n",
       "    }\n",
       "</style>\n",
       "<table border=\"1\" class=\"dataframe\">\n",
       "  <thead>\n",
       "    <tr style=\"text-align: right;\">\n",
       "      <th></th>\n",
       "      <th>device_id_hash</th>\n",
       "    </tr>\n",
       "    <tr>\n",
       "      <th>event_name</th>\n",
       "      <th></th>\n",
       "    </tr>\n",
       "  </thead>\n",
       "  <tbody>\n",
       "    <tr>\n",
       "      <th>MainScreenAppear</th>\n",
       "      <td>7419.00</td>\n",
       "    </tr>\n",
       "    <tr>\n",
       "      <th>OffersScreenAppear</th>\n",
       "      <td>0.62</td>\n",
       "    </tr>\n",
       "    <tr>\n",
       "      <th>CartScreenAppear</th>\n",
       "      <td>0.81</td>\n",
       "    </tr>\n",
       "    <tr>\n",
       "      <th>PaymentScreenSuccessful</th>\n",
       "      <td>0.95</td>\n",
       "    </tr>\n",
       "  </tbody>\n",
       "</table>\n",
       "</div>"
      ],
      "text/plain": [
       "                         device_id_hash\n",
       "event_name                             \n",
       "MainScreenAppear                7419.00\n",
       "OffersScreenAppear                 0.62\n",
       "CartScreenAppear                   0.81\n",
       "PaymentScreenSuccessful            0.95"
      ]
     },
     "execution_count": 49,
     "metadata": {},
     "output_type": "execute_result"
    }
   ],
   "source": [
    "data_round = round(data_users_nunique_tbl / data_users_nunique_sft, 2)\n",
    "data_round"
   ]
  },
  {
   "cell_type": "markdown",
   "metadata": {},
   "source": [
    "**Пункт 6. Доля пользователей дошедших до оплаты**"
   ]
  },
  {
   "cell_type": "code",
   "execution_count": 50,
   "metadata": {},
   "outputs": [
    {
     "data": {
      "text/html": [
       "<div>\n",
       "<style scoped>\n",
       "    .dataframe tbody tr th:only-of-type {\n",
       "        vertical-align: middle;\n",
       "    }\n",
       "\n",
       "    .dataframe tbody tr th {\n",
       "        vertical-align: top;\n",
       "    }\n",
       "\n",
       "    .dataframe thead th {\n",
       "        text-align: right;\n",
       "    }\n",
       "</style>\n",
       "<table border=\"1\" class=\"dataframe\">\n",
       "  <thead>\n",
       "    <tr style=\"text-align: right;\">\n",
       "      <th></th>\n",
       "      <th>device_id_hash</th>\n",
       "    </tr>\n",
       "    <tr>\n",
       "      <th>event_name</th>\n",
       "      <th></th>\n",
       "    </tr>\n",
       "  </thead>\n",
       "  <tbody>\n",
       "    <tr>\n",
       "      <th>MainScreenAppear</th>\n",
       "      <td>7419</td>\n",
       "    </tr>\n",
       "    <tr>\n",
       "      <th>OffersScreenAppear</th>\n",
       "      <td>4593</td>\n",
       "    </tr>\n",
       "    <tr>\n",
       "      <th>CartScreenAppear</th>\n",
       "      <td>3734</td>\n",
       "    </tr>\n",
       "    <tr>\n",
       "      <th>PaymentScreenSuccessful</th>\n",
       "      <td>3539</td>\n",
       "    </tr>\n",
       "  </tbody>\n",
       "</table>\n",
       "</div>"
      ],
      "text/plain": [
       "                         device_id_hash\n",
       "event_name                             \n",
       "MainScreenAppear                   7419\n",
       "OffersScreenAppear                 4593\n",
       "CartScreenAppear                   3734\n",
       "PaymentScreenSuccessful            3539"
      ]
     },
     "execution_count": 50,
     "metadata": {},
     "output_type": "execute_result"
    }
   ],
   "source": [
    "data_users_nunique_tbl"
   ]
  },
  {
   "cell_type": "code",
   "execution_count": 51,
   "metadata": {
    "scrolled": true
   },
   "outputs": [
    {
     "name": "stdout",
     "output_type": "stream",
     "text": [
      "Кол-во пользователей в процентах, которые доходят до оплаты: 48.0\n"
     ]
    }
   ],
   "source": [
    "print('Кол-во пользователей в процентах, которые доходят до оплаты:', round(data_users_nunique_tbl['device_id_hash'].iloc[3] / data_users_nunique_tbl['device_id_hash'].iloc[0], 2) *100)"
   ]
  },
  {
   "cell_type": "markdown",
   "metadata": {},
   "source": [
    "#постриом график конверсии\n",
    "data_fig = dict(\n",
    "    number=[7419, 4593, 3734, 3539],\n",
    "    stage=[\"MainScreenAppear\", \"OffersScreenAppear\", \"CartScreenAppear\", \"PaymentScreenSuccessful\"])\n",
    "fig = px.funnel(data, x='number', y='stage')\n",
    "fig.show()\n"
   ]
  },
  {
   "cell_type": "markdown",
   "metadata": {},
   "source": [
    "**Вывод Шага 4:**  *Пункт1:* Частота появления каждого события относительно общего числа событий приведена на графике, где больше всего появляется событие \"MainScreenAppear\".\n",
    "\n",
    "*Пункт 2:* Нашел общее кол-во уникальных пользователей и кол-во пользователей совершивших то или иное действие\n",
    "\n",
    "*Пункт 3:* Написал предположение\n",
    "\n",
    "*Пункт 4-5:* Больше всего данных теряется на переход в раздел руководство, дальше по потерям и стоит экран предложений, там 38% пользователей с главного экрана не переходят в раздел предложений. Самая маленькая потеря находится на этапе перехода оплаты товара, т.е. 95% посетителей добавим товар в корзину купят его со 100% вероятностью.\n",
    "\n",
    "*Пункт 6:* Нашел в процентном соотношение кол-во пользователей дошедших до оплаты товара, это 48%."
   ]
  },
  {
   "cell_type": "markdown",
   "metadata": {},
   "source": [
    "# Шаг 5\n"
   ]
  },
  {
   "cell_type": "markdown",
   "metadata": {},
   "source": [
    "**Поставновка гипотез**\n",
    "\n",
    "*Нулевая гипотеза:* Доли выборок 246 и 247 равны\n",
    "\n",
    "*Альтернативная гипотеза:* Доли выбокро 246 и 247 не равны"
   ]
  },
  {
   "cell_type": "markdown",
   "metadata": {},
   "source": [
    "**Пункт 1. Кол-во пользователей в каждой экспериментальной группе**"
   ]
  },
  {
   "cell_type": "code",
   "execution_count": 52,
   "metadata": {},
   "outputs": [
    {
     "data": {
      "text/html": [
       "<div>\n",
       "<style scoped>\n",
       "    .dataframe tbody tr th:only-of-type {\n",
       "        vertical-align: middle;\n",
       "    }\n",
       "\n",
       "    .dataframe tbody tr th {\n",
       "        vertical-align: top;\n",
       "    }\n",
       "\n",
       "    .dataframe thead th {\n",
       "        text-align: right;\n",
       "    }\n",
       "</style>\n",
       "<table border=\"1\" class=\"dataframe\">\n",
       "  <thead>\n",
       "    <tr style=\"text-align: right;\">\n",
       "      <th></th>\n",
       "      <th>index</th>\n",
       "      <th>event_name</th>\n",
       "      <th>device_id_hash</th>\n",
       "      <th>event_time_stamp</th>\n",
       "      <th>exp_id</th>\n",
       "      <th>date</th>\n",
       "    </tr>\n",
       "  </thead>\n",
       "  <tbody>\n",
       "    <tr>\n",
       "      <th>0</th>\n",
       "      <td>2828</td>\n",
       "      <td>Tutorial</td>\n",
       "      <td>3737462046622621720</td>\n",
       "      <td>2019-08-01 00:07:28</td>\n",
       "      <td>246</td>\n",
       "      <td>2019-08-01</td>\n",
       "    </tr>\n",
       "    <tr>\n",
       "      <th>1</th>\n",
       "      <td>2829</td>\n",
       "      <td>MainScreenAppear</td>\n",
       "      <td>3737462046622621720</td>\n",
       "      <td>2019-08-01 00:08:00</td>\n",
       "      <td>246</td>\n",
       "      <td>2019-08-01</td>\n",
       "    </tr>\n",
       "    <tr>\n",
       "      <th>2</th>\n",
       "      <td>2830</td>\n",
       "      <td>MainScreenAppear</td>\n",
       "      <td>3737462046622621720</td>\n",
       "      <td>2019-08-01 00:08:55</td>\n",
       "      <td>246</td>\n",
       "      <td>2019-08-01</td>\n",
       "    </tr>\n",
       "    <tr>\n",
       "      <th>3</th>\n",
       "      <td>2831</td>\n",
       "      <td>OffersScreenAppear</td>\n",
       "      <td>3737462046622621720</td>\n",
       "      <td>2019-08-01 00:08:58</td>\n",
       "      <td>246</td>\n",
       "      <td>2019-08-01</td>\n",
       "    </tr>\n",
       "    <tr>\n",
       "      <th>4</th>\n",
       "      <td>2832</td>\n",
       "      <td>MainScreenAppear</td>\n",
       "      <td>1433840883824088890</td>\n",
       "      <td>2019-08-01 00:08:59</td>\n",
       "      <td>247</td>\n",
       "      <td>2019-08-01</td>\n",
       "    </tr>\n",
       "    <tr>\n",
       "      <th>...</th>\n",
       "      <td>...</td>\n",
       "      <td>...</td>\n",
       "      <td>...</td>\n",
       "      <td>...</td>\n",
       "      <td>...</td>\n",
       "      <td>...</td>\n",
       "    </tr>\n",
       "    <tr>\n",
       "      <th>240882</th>\n",
       "      <td>244121</td>\n",
       "      <td>MainScreenAppear</td>\n",
       "      <td>4599628364049201812</td>\n",
       "      <td>2019-08-07 21:12:25</td>\n",
       "      <td>247</td>\n",
       "      <td>2019-08-07</td>\n",
       "    </tr>\n",
       "    <tr>\n",
       "      <th>240883</th>\n",
       "      <td>244122</td>\n",
       "      <td>MainScreenAppear</td>\n",
       "      <td>5849806612437486590</td>\n",
       "      <td>2019-08-07 21:13:59</td>\n",
       "      <td>246</td>\n",
       "      <td>2019-08-07</td>\n",
       "    </tr>\n",
       "    <tr>\n",
       "      <th>240884</th>\n",
       "      <td>244123</td>\n",
       "      <td>MainScreenAppear</td>\n",
       "      <td>5746969938801999050</td>\n",
       "      <td>2019-08-07 21:14:43</td>\n",
       "      <td>246</td>\n",
       "      <td>2019-08-07</td>\n",
       "    </tr>\n",
       "    <tr>\n",
       "      <th>240885</th>\n",
       "      <td>244124</td>\n",
       "      <td>MainScreenAppear</td>\n",
       "      <td>5746969938801999050</td>\n",
       "      <td>2019-08-07 21:14:58</td>\n",
       "      <td>246</td>\n",
       "      <td>2019-08-07</td>\n",
       "    </tr>\n",
       "    <tr>\n",
       "      <th>240886</th>\n",
       "      <td>244125</td>\n",
       "      <td>OffersScreenAppear</td>\n",
       "      <td>5746969938801999050</td>\n",
       "      <td>2019-08-07 21:15:17</td>\n",
       "      <td>246</td>\n",
       "      <td>2019-08-07</td>\n",
       "    </tr>\n",
       "  </tbody>\n",
       "</table>\n",
       "<p>240887 rows × 6 columns</p>\n",
       "</div>"
      ],
      "text/plain": [
       "         index          event_name       device_id_hash    event_time_stamp  \\\n",
       "0         2828            Tutorial  3737462046622621720 2019-08-01 00:07:28   \n",
       "1         2829    MainScreenAppear  3737462046622621720 2019-08-01 00:08:00   \n",
       "2         2830    MainScreenAppear  3737462046622621720 2019-08-01 00:08:55   \n",
       "3         2831  OffersScreenAppear  3737462046622621720 2019-08-01 00:08:58   \n",
       "4         2832    MainScreenAppear  1433840883824088890 2019-08-01 00:08:59   \n",
       "...        ...                 ...                  ...                 ...   \n",
       "240882  244121    MainScreenAppear  4599628364049201812 2019-08-07 21:12:25   \n",
       "240883  244122    MainScreenAppear  5849806612437486590 2019-08-07 21:13:59   \n",
       "240884  244123    MainScreenAppear  5746969938801999050 2019-08-07 21:14:43   \n",
       "240885  244124    MainScreenAppear  5746969938801999050 2019-08-07 21:14:58   \n",
       "240886  244125  OffersScreenAppear  5746969938801999050 2019-08-07 21:15:17   \n",
       "\n",
       "        exp_id       date  \n",
       "0          246 2019-08-01  \n",
       "1          246 2019-08-01  \n",
       "2          246 2019-08-01  \n",
       "3          246 2019-08-01  \n",
       "4          247 2019-08-01  \n",
       "...        ...        ...  \n",
       "240882     247 2019-08-07  \n",
       "240883     246 2019-08-07  \n",
       "240884     246 2019-08-07  \n",
       "240885     246 2019-08-07  \n",
       "240886     246 2019-08-07  \n",
       "\n",
       "[240887 rows x 6 columns]"
      ]
     },
     "execution_count": 52,
     "metadata": {},
     "output_type": "execute_result"
    }
   ],
   "source": [
    "data"
   ]
  },
  {
   "cell_type": "code",
   "execution_count": 53,
   "metadata": {},
   "outputs": [
    {
     "data": {
      "text/html": [
       "<div>\n",
       "<style scoped>\n",
       "    .dataframe tbody tr th:only-of-type {\n",
       "        vertical-align: middle;\n",
       "    }\n",
       "\n",
       "    .dataframe tbody tr th {\n",
       "        vertical-align: top;\n",
       "    }\n",
       "\n",
       "    .dataframe thead th {\n",
       "        text-align: right;\n",
       "    }\n",
       "</style>\n",
       "<table border=\"1\" class=\"dataframe\">\n",
       "  <thead>\n",
       "    <tr style=\"text-align: right;\">\n",
       "      <th></th>\n",
       "      <th>device_id_hash</th>\n",
       "    </tr>\n",
       "    <tr>\n",
       "      <th>exp_id</th>\n",
       "      <th></th>\n",
       "    </tr>\n",
       "  </thead>\n",
       "  <tbody>\n",
       "    <tr>\n",
       "      <th>248</th>\n",
       "      <td>2537</td>\n",
       "    </tr>\n",
       "    <tr>\n",
       "      <th>247</th>\n",
       "      <td>2513</td>\n",
       "    </tr>\n",
       "    <tr>\n",
       "      <th>246</th>\n",
       "      <td>2484</td>\n",
       "    </tr>\n",
       "  </tbody>\n",
       "</table>\n",
       "</div>"
      ],
      "text/plain": [
       "        device_id_hash\n",
       "exp_id                \n",
       "248               2537\n",
       "247               2513\n",
       "246               2484"
      ]
     },
     "execution_count": 53,
     "metadata": {},
     "output_type": "execute_result"
    }
   ],
   "source": [
    "#найдем кол-во пользователей с разбивкой по группам исследования \n",
    "data_exp_id = data.pivot_table(index = 'exp_id', values = 'device_id_hash', aggfunc = 'nunique').sort_values(by = 'device_id_hash', ascending = False)\n",
    "data_exp_id"
   ]
  },
  {
   "cell_type": "markdown",
   "metadata": {},
   "source": [
    "**Пункт 2-3. Проверка статистического критерия разниц между 246 и 247. Оценка самого популярно события**"
   ]
  },
  {
   "cell_type": "code",
   "execution_count": 54,
   "metadata": {},
   "outputs": [
    {
     "data": {
      "text/html": [
       "<div>\n",
       "<style scoped>\n",
       "    .dataframe tbody tr th:only-of-type {\n",
       "        vertical-align: middle;\n",
       "    }\n",
       "\n",
       "    .dataframe tbody tr th {\n",
       "        vertical-align: top;\n",
       "    }\n",
       "\n",
       "    .dataframe thead th {\n",
       "        text-align: right;\n",
       "    }\n",
       "</style>\n",
       "<table border=\"1\" class=\"dataframe\">\n",
       "  <thead>\n",
       "    <tr style=\"text-align: right;\">\n",
       "      <th>event_name</th>\n",
       "      <th>CartScreenAppear</th>\n",
       "      <th>MainScreenAppear</th>\n",
       "      <th>OffersScreenAppear</th>\n",
       "      <th>PaymentScreenSuccessful</th>\n",
       "      <th>Tutorial</th>\n",
       "      <th>total_nunique_users</th>\n",
       "    </tr>\n",
       "    <tr>\n",
       "      <th>exp_id</th>\n",
       "      <th></th>\n",
       "      <th></th>\n",
       "      <th></th>\n",
       "      <th></th>\n",
       "      <th></th>\n",
       "      <th></th>\n",
       "    </tr>\n",
       "  </thead>\n",
       "  <tbody>\n",
       "    <tr>\n",
       "      <th>246</th>\n",
       "      <td>1266</td>\n",
       "      <td>2450</td>\n",
       "      <td>1542</td>\n",
       "      <td>1200</td>\n",
       "      <td>278</td>\n",
       "      <td>2484</td>\n",
       "    </tr>\n",
       "    <tr>\n",
       "      <th>247</th>\n",
       "      <td>1238</td>\n",
       "      <td>2476</td>\n",
       "      <td>1520</td>\n",
       "      <td>1158</td>\n",
       "      <td>283</td>\n",
       "      <td>2513</td>\n",
       "    </tr>\n",
       "    <tr>\n",
       "      <th>248</th>\n",
       "      <td>1230</td>\n",
       "      <td>2493</td>\n",
       "      <td>1531</td>\n",
       "      <td>1181</td>\n",
       "      <td>279</td>\n",
       "      <td>2537</td>\n",
       "    </tr>\n",
       "  </tbody>\n",
       "</table>\n",
       "</div>"
      ],
      "text/plain": [
       "event_name  CartScreenAppear  MainScreenAppear  OffersScreenAppear  \\\n",
       "exp_id                                                               \n",
       "246                     1266              2450                1542   \n",
       "247                     1238              2476                1520   \n",
       "248                     1230              2493                1531   \n",
       "\n",
       "event_name  PaymentScreenSuccessful  Tutorial  total_nunique_users  \n",
       "exp_id                                                              \n",
       "246                            1200       278                 2484  \n",
       "247                            1158       283                 2513  \n",
       "248                            1181       279                 2537  "
      ]
     },
     "execution_count": 54,
     "metadata": {},
     "output_type": "execute_result"
    }
   ],
   "source": [
    "#создадим таблицу с разбиением на дейсвтия среди уникальных пользователей и найдем самое популярное событие \n",
    "data_new = data.pivot_table(index = 'exp_id', columns = 'event_name', values = 'device_id_hash', aggfunc = 'nunique')\n",
    "data_new['total_nunique_users'] = data_exp_id['device_id_hash']\n",
    "\n",
    "data_new"
   ]
  },
  {
   "cell_type": "code",
   "execution_count": 55,
   "metadata": {},
   "outputs": [],
   "source": [
    "#создадим функцию для z-тестирвоания \n",
    "def hypotheses_z_testing (purchases, leads, alpha):\n",
    "    p1 = purchases[0]/leads[0]\n",
    "    # пропорция успехов во второй группе:\n",
    "    p2 = purchases[1]/leads[1]\n",
    "    # пропорция успехов в комбинированном датасете:\n",
    "    p_combined = (purchases[0] + purchases[1]) / (leads[0] + leads[1])\n",
    "\n",
    "    # разница пропорций в датасетах\n",
    "    difference = p1 - p2 \n",
    "\n",
    "    z_value = difference / mth.sqrt(p_combined * (1 - p_combined) * (1/leads[0] + 1/leads[1]))\n",
    "\n",
    "    distr = st.norm(0, 1)  \n",
    "\n",
    "    p_value = (1 - distr.cdf(abs(z_value))) * 2\n",
    "\n",
    "    print('p-значение: ', p_value)\n",
    "\n",
    "    if p_value < alpha:\n",
    "        print('Отвергаем нулевую гипотезу: между долями есть значимая разница')\n",
    "    else:\n",
    "            print(\n",
    "        'Не получилось отвергнуть нулевую гипотезу, нет оснований считать доли разными')"
   ]
  },
  {
   "cell_type": "code",
   "execution_count": 56,
   "metadata": {},
   "outputs": [],
   "source": [
    "#напишим функция для расчета отличия между группами статистически достоверным\n",
    "def stat_group (group_1, group_2, alpha, screen, m):\n",
    "    alpha = 1 - (1 - alpha)**(1/m)\n",
    "    total_nunique_users = (data_new['total_nunique_users'].values[group_1], data_new['total_nunique_users'].values[group_2])\n",
    "    \n",
    "    if screen == 'MainScreenAppear':\n",
    "        MainScreenAppear_array = (data_new['MainScreenAppear'].values[group_1], data_new['MainScreenAppear'].values[group_2])\n",
    "        print('Результат z-tests в отношении общего кол-ва уникальных пользователей к этапу \"MainScreenAppear\":', hypotheses_z_testing(MainScreenAppear_array, total_nunique_users, alpha, m))\n",
    "        \n",
    "    elif screen == 'OffersScreenAppear': \n",
    "        OffersScreenAppear_array = (data_new['OffersScreenAppear'].values[group_1], data_new['OffersScreenAppear'].values[group_2])\n",
    "        print('Результат z-tests в отношении общего кол-ва уникальных пользователей к этапу \"OffersScreenAppear\":', hypotheses_z_testing(OffersScreenAppear_array, total_nunique_users, alpha, m))\n",
    "              \n",
    "    elif screen == 'CartScreenAppear': \n",
    "        CartScreenAppear_array = (data_new['CartScreenAppear'].values[group_1], data_new['CartScreenAppear'].values[group_2])\n",
    "        print('Результат z-tests в отношении общего кол-ва уникальных пользователей к этапу \"CartScreenAppear_array\":', hypotheses_z_testing(CartScreenAppear_array, total_nunique_users, alpha, m))\n",
    "              \n",
    "    elif screen == 'PaymentScreenSuccessful': \n",
    "        PaymentScreenSuccessful_array = (data_new['PaymentScreenSuccessful'].values[group_1], data_new['PaymentScreenSuccessful'].values[group_2])\n",
    "        print('Результат z-tests в отношении общего кол-ва уникальных пользователей к этапу \"PaymentScreenSuccessful\":', hypotheses_z_testing(PaymentScreenSuccessful_array, total_nunique_users, alpha, m))\n",
    "              \n",
    "    #elif screen == 'Tutorial': \n",
    "        #Tutorial_array = (data_new['Tutorial'].values[group_1], data_new['Tutorial'].values[group_2])\n",
    "        #print('Результат z-tests в отношении общего кол-ва уникальных пользователей к этапу \"Tutorial\":', hypotheses_z_testing(Tutorial_array, total_nunique_users, alpha))\n",
    "    \n",
    "    elif screen == 'all':\n",
    "        MainScreenAppear_array = (data_new['MainScreenAppear'].values[group_1], data_new['MainScreenAppear'].values[group_2])\n",
    "        OffersScreenAppear_array = (data_new['OffersScreenAppear'].values[group_1], data_new['OffersScreenAppear'].values[group_2])\n",
    "        CartScreenAppear_array = (data_new['CartScreenAppear'].values[group_1], data_new['CartScreenAppear'].values[group_2])\n",
    "        PaymentScreenSuccessful_array = (data_new['PaymentScreenSuccessful'].values[group_1], data_new['PaymentScreenSuccessful'].values[group_2])\n",
    "        Tutorial_array = (data_new['Tutorial'].values[group_1], data_new['Tutorial'].values[group_2])\n",
    "        print('Результат z-tests в отношении общего кол-ва уникальных пользователей к этапу \"MainScreenAppear\":', hypotheses_z_testing(MainScreenAppear_array, total_nunique_users, alpha))\n",
    "        print()\n",
    "        print('Результат z-tests в отношении общего кол-ва уникальных пользователей к этапу \"OffersScreenAppear\":', hypotheses_z_testing(OffersScreenAppear_array, total_nunique_users, alpha))\n",
    "        print()\n",
    "        print('Результат z-tests в отношении общего кол-ва уникальных пользователей к этапу \"CartScreenAppear_array\":', hypotheses_z_testing(CartScreenAppear_array, total_nunique_users, alpha))\n",
    "        print()\n",
    "        print('Результат z-tests в отношении общего кол-ва уникальных пользователей к этапу \"PaymentScreenSuccessful\":', hypotheses_z_testing(PaymentScreenSuccessful_array, total_nunique_users, alpha))\n",
    "        #print()\n",
    "        #print('Результат z-tests в отношении общего кол-ва уникальных пользователей к этапу \"Tutorial\":', hypotheses_z_testing(Tutorial_array, total_nunique_users, alpha))\n",
    "    "
   ]
  },
  {
   "cell_type": "markdown",
   "metadata": {},
   "source": [
    "**Формулировка гипотез:**\n",
    "\n",
    "*Нулевая гипотеза:* Доли выборок 246 и 247 равны\n",
    "\n",
    "*Альтернативная гипотеза:* Доли выбокро 246 и 247 не равны"
   ]
  },
  {
   "cell_type": "code",
   "execution_count": 57,
   "metadata": {
    "scrolled": true
   },
   "outputs": [
    {
     "name": "stdout",
     "output_type": "stream",
     "text": [
      "p-значение:  0.2949721933554552\n",
      "Не получилось отвергнуть нулевую гипотезу, нет оснований считать доли разными\n",
      "Результат z-tests в отношении общего кол-ва уникальных пользователей к этапу \"MainScreenAppear\": None\n",
      "\n",
      "p-значение:  0.20836205402738917\n",
      "Не получилось отвергнуть нулевую гипотезу, нет оснований считать доли разными\n",
      "Результат z-tests в отношении общего кол-ва уникальных пользователей к этапу \"OffersScreenAppear\": None\n",
      "\n",
      "p-значение:  0.07842923237520116\n",
      "Не получилось отвергнуть нулевую гипотезу, нет оснований считать доли разными\n",
      "Результат z-tests в отношении общего кол-ва уникальных пользователей к этапу \"CartScreenAppear_array\": None\n",
      "\n",
      "p-значение:  0.2122553275697796\n",
      "Не получилось отвергнуть нулевую гипотезу, нет оснований считать доли разными\n",
      "Результат z-tests в отношении общего кол-ва уникальных пользователей к этапу \"PaymentScreenSuccessful\": None\n"
     ]
    }
   ],
   "source": [
    "m = 4 #кол-во проводимых тестов. данная величина нужна для вычисления поправки методом Шидака\n",
    "alpha = 0.05\n",
    "stat_group (0, 2, alpha, 'all', m)"
   ]
  },
  {
   "cell_type": "code",
   "execution_count": null,
   "metadata": {},
   "outputs": [],
   "source": []
  },
  {
   "cell_type": "markdown",
   "metadata": {},
   "source": [
    "**Вывод:** По таблице видно, что самое популярное событие в группах, это \"MainScreenAppear\". "
   ]
  },
  {
   "cell_type": "markdown",
   "metadata": {},
   "source": [
    "**Пункт 4. Оценка самого популярно события в экспериментальной группе**"
   ]
  },
  {
   "cell_type": "markdown",
   "metadata": {},
   "source": [
    "**Сравнение экспериментальной группы с контрольными по отдельности. Уровень значимости 0.05**"
   ]
  },
  {
   "cell_type": "code",
   "execution_count": 58,
   "metadata": {},
   "outputs": [
    {
     "name": "stdout",
     "output_type": "stream",
     "text": [
      "p-значение:  0.2949721933554552\n",
      "Не получилось отвергнуть нулевую гипотезу, нет оснований считать доли разными\n",
      "Результат z-tests в отношении общего кол-ва уникальных пользователей к этапу \"MainScreenAppear\": None\n",
      "\n",
      "p-значение:  0.20836205402738917\n",
      "Не получилось отвергнуть нулевую гипотезу, нет оснований считать доли разными\n",
      "Результат z-tests в отношении общего кол-ва уникальных пользователей к этапу \"OffersScreenAppear\": None\n",
      "\n",
      "p-значение:  0.07842923237520116\n",
      "Не получилось отвергнуть нулевую гипотезу, нет оснований считать доли разными\n",
      "Результат z-tests в отношении общего кол-ва уникальных пользователей к этапу \"CartScreenAppear_array\": None\n",
      "\n",
      "p-значение:  0.2122553275697796\n",
      "Не получилось отвергнуть нулевую гипотезу, нет оснований считать доли разными\n",
      "Результат z-tests в отношении общего кол-ва уникальных пользователей к этапу \"PaymentScreenSuccessful\": None\n"
     ]
    }
   ],
   "source": [
    "#сравнение группы 246 с группой 248\n",
    "m = 4\n",
    "alpha = 0.05\n",
    "stat_group (0, 2, alpha, 'all', m)"
   ]
  },
  {
   "cell_type": "code",
   "execution_count": 59,
   "metadata": {},
   "outputs": [
    {
     "name": "stdout",
     "output_type": "stream",
     "text": [
      "p-значение:  0.4587053616621515\n",
      "Не получилось отвергнуть нулевую гипотезу, нет оснований считать доли разными\n",
      "Результат z-tests в отношении общего кол-ва уникальных пользователей к этапу \"MainScreenAppear\": None\n",
      "\n",
      "p-значение:  0.9197817830592261\n",
      "Не получилось отвергнуть нулевую гипотезу, нет оснований считать доли разными\n",
      "Результат z-tests в отношении общего кол-ва уникальных пользователей к этапу \"OffersScreenAppear\": None\n",
      "\n",
      "p-значение:  0.5786197879539783\n",
      "Не получилось отвергнуть нулевую гипотезу, нет оснований считать доли разными\n",
      "Результат z-tests в отношении общего кол-ва уникальных пользователей к этапу \"CartScreenAppear_array\": None\n",
      "\n",
      "p-значение:  0.7373415053803964\n",
      "Не получилось отвергнуть нулевую гипотезу, нет оснований считать доли разными\n",
      "Результат z-tests в отношении общего кол-ва уникальных пользователей к этапу \"PaymentScreenSuccessful\": None\n"
     ]
    }
   ],
   "source": [
    "#сравнение группы 247 с группой 248\n",
    "m = 4\n",
    "alpha = 0.05\n",
    "stat_group (1, 2, alpha, 'all', m)"
   ]
  },
  {
   "cell_type": "markdown",
   "metadata": {},
   "source": [
    "**Сравнение экспериментальной группы с контрольными по суммарно. Уровень значимости 0.05**"
   ]
  },
  {
   "cell_type": "code",
   "execution_count": 60,
   "metadata": {},
   "outputs": [
    {
     "data": {
      "text/html": [
       "<div>\n",
       "<style scoped>\n",
       "    .dataframe tbody tr th:only-of-type {\n",
       "        vertical-align: middle;\n",
       "    }\n",
       "\n",
       "    .dataframe tbody tr th {\n",
       "        vertical-align: top;\n",
       "    }\n",
       "\n",
       "    .dataframe thead th {\n",
       "        text-align: right;\n",
       "    }\n",
       "</style>\n",
       "<table border=\"1\" class=\"dataframe\">\n",
       "  <thead>\n",
       "    <tr style=\"text-align: right;\">\n",
       "      <th>event_name</th>\n",
       "      <th>CartScreenAppear</th>\n",
       "      <th>MainScreenAppear</th>\n",
       "      <th>OffersScreenAppear</th>\n",
       "      <th>PaymentScreenSuccessful</th>\n",
       "      <th>Tutorial</th>\n",
       "      <th>total_nunique_users</th>\n",
       "    </tr>\n",
       "    <tr>\n",
       "      <th>exp_id</th>\n",
       "      <th></th>\n",
       "      <th></th>\n",
       "      <th></th>\n",
       "      <th></th>\n",
       "      <th></th>\n",
       "      <th></th>\n",
       "    </tr>\n",
       "  </thead>\n",
       "  <tbody>\n",
       "    <tr>\n",
       "      <th>246</th>\n",
       "      <td>1266</td>\n",
       "      <td>2450</td>\n",
       "      <td>1542</td>\n",
       "      <td>1200</td>\n",
       "      <td>278</td>\n",
       "      <td>2484</td>\n",
       "    </tr>\n",
       "    <tr>\n",
       "      <th>247</th>\n",
       "      <td>1238</td>\n",
       "      <td>2476</td>\n",
       "      <td>1520</td>\n",
       "      <td>1158</td>\n",
       "      <td>283</td>\n",
       "      <td>2513</td>\n",
       "    </tr>\n",
       "    <tr>\n",
       "      <th>248</th>\n",
       "      <td>1230</td>\n",
       "      <td>2493</td>\n",
       "      <td>1531</td>\n",
       "      <td>1181</td>\n",
       "      <td>279</td>\n",
       "      <td>2537</td>\n",
       "    </tr>\n",
       "  </tbody>\n",
       "</table>\n",
       "</div>"
      ],
      "text/plain": [
       "event_name  CartScreenAppear  MainScreenAppear  OffersScreenAppear  \\\n",
       "exp_id                                                               \n",
       "246                     1266              2450                1542   \n",
       "247                     1238              2476                1520   \n",
       "248                     1230              2493                1531   \n",
       "\n",
       "event_name  PaymentScreenSuccessful  Tutorial  total_nunique_users  \n",
       "exp_id                                                              \n",
       "246                            1200       278                 2484  \n",
       "247                            1158       283                 2513  \n",
       "248                            1181       279                 2537  "
      ]
     },
     "execution_count": 60,
     "metadata": {},
     "output_type": "execute_result"
    }
   ],
   "source": [
    "data_new"
   ]
  },
  {
   "cell_type": "code",
   "execution_count": 61,
   "metadata": {},
   "outputs": [
    {
     "data": {
      "text/html": [
       "<div>\n",
       "<style scoped>\n",
       "    .dataframe tbody tr th:only-of-type {\n",
       "        vertical-align: middle;\n",
       "    }\n",
       "\n",
       "    .dataframe tbody tr th {\n",
       "        vertical-align: top;\n",
       "    }\n",
       "\n",
       "    .dataframe thead th {\n",
       "        text-align: right;\n",
       "    }\n",
       "</style>\n",
       "<table border=\"1\" class=\"dataframe\">\n",
       "  <thead>\n",
       "    <tr style=\"text-align: right;\">\n",
       "      <th>event_name</th>\n",
       "      <th>CartScreenAppear</th>\n",
       "      <th>MainScreenAppear</th>\n",
       "      <th>OffersScreenAppear</th>\n",
       "      <th>PaymentScreenSuccessful</th>\n",
       "      <th>Tutorial</th>\n",
       "      <th>total_nunique_users</th>\n",
       "    </tr>\n",
       "    <tr>\n",
       "      <th>exp_id</th>\n",
       "      <th></th>\n",
       "      <th></th>\n",
       "      <th></th>\n",
       "      <th></th>\n",
       "      <th></th>\n",
       "      <th></th>\n",
       "    </tr>\n",
       "  </thead>\n",
       "  <tbody>\n",
       "    <tr>\n",
       "      <th>246</th>\n",
       "      <td>1266</td>\n",
       "      <td>2450</td>\n",
       "      <td>1542</td>\n",
       "      <td>1200</td>\n",
       "      <td>278</td>\n",
       "      <td>2484</td>\n",
       "    </tr>\n",
       "    <tr>\n",
       "      <th>247</th>\n",
       "      <td>1238</td>\n",
       "      <td>2476</td>\n",
       "      <td>1520</td>\n",
       "      <td>1158</td>\n",
       "      <td>283</td>\n",
       "      <td>2513</td>\n",
       "    </tr>\n",
       "    <tr>\n",
       "      <th>248</th>\n",
       "      <td>1230</td>\n",
       "      <td>2493</td>\n",
       "      <td>1531</td>\n",
       "      <td>1181</td>\n",
       "      <td>279</td>\n",
       "      <td>2537</td>\n",
       "    </tr>\n",
       "    <tr>\n",
       "      <th>test_group</th>\n",
       "      <td>2504</td>\n",
       "      <td>4926</td>\n",
       "      <td>3062</td>\n",
       "      <td>2358</td>\n",
       "      <td>561</td>\n",
       "      <td>4997</td>\n",
       "    </tr>\n",
       "  </tbody>\n",
       "</table>\n",
       "</div>"
      ],
      "text/plain": [
       "event_name  CartScreenAppear  MainScreenAppear  OffersScreenAppear  \\\n",
       "exp_id                                                               \n",
       "246                     1266              2450                1542   \n",
       "247                     1238              2476                1520   \n",
       "248                     1230              2493                1531   \n",
       "test_group              2504              4926                3062   \n",
       "\n",
       "event_name  PaymentScreenSuccessful  Tutorial  total_nunique_users  \n",
       "exp_id                                                              \n",
       "246                            1200       278                 2484  \n",
       "247                            1158       283                 2513  \n",
       "248                            1181       279                 2537  \n",
       "test_group                     2358       561                 4997  "
      ]
     },
     "execution_count": 61,
     "metadata": {},
     "output_type": "execute_result"
    }
   ],
   "source": [
    "data_new.loc['test_group'] = data_new.loc[246] + data_new.loc[247]\n",
    "\n",
    "data_new"
   ]
  },
  {
   "cell_type": "code",
   "execution_count": 62,
   "metadata": {},
   "outputs": [
    {
     "name": "stdout",
     "output_type": "stream",
     "text": [
      "p-значение:  0.29424526837179577\n",
      "Не получилось отвергнуть нулевую гипотезу, нет оснований считать доли разными\n",
      "Результат z-tests в отношении общего кол-ва уникальных пользователей к этапу \"MainScreenAppear\": None\n",
      "\n",
      "p-значение:  0.43425549655188256\n",
      "Не получилось отвергнуть нулевую гипотезу, нет оснований считать доли разными\n",
      "Результат z-tests в отношении общего кол-ва уникальных пользователей к этапу \"OffersScreenAppear\": None\n",
      "\n",
      "p-значение:  0.18175875284404386\n",
      "Не получилось отвергнуть нулевую гипотезу, нет оснований считать доли разными\n",
      "Результат z-tests в отношении общего кол-ва уникальных пользователей к этапу \"CartScreenAppear_array\": None\n",
      "\n",
      "p-значение:  0.6004294282308704\n",
      "Не получилось отвергнуть нулевую гипотезу, нет оснований считать доли разными\n",
      "Результат z-tests в отношении общего кол-ва уникальных пользователей к этапу \"PaymentScreenSuccessful\": None\n"
     ]
    }
   ],
   "source": [
    "#сравнение 248 экспериментальной группы с 'test_group', которая получилась путем сложения 246 и 247\n",
    "m = 4\n",
    "alpha = 0.05\n",
    "stat_group (3, 2, alpha, 'all', m)"
   ]
  },
  {
   "cell_type": "markdown",
   "metadata": {},
   "source": [
    "**Пункт 5. Сравнение экспериментальной группы с контрольными по отдельности. Сравнение экспериментальной группы с контрольными по суммарно. Уровень значимости 0.1**"
   ]
  },
  {
   "cell_type": "code",
   "execution_count": 63,
   "metadata": {},
   "outputs": [
    {
     "name": "stdout",
     "output_type": "stream",
     "text": [
      "p-значение:  0.2949721933554552\n",
      "Не получилось отвергнуть нулевую гипотезу, нет оснований считать доли разными\n",
      "Результат z-tests в отношении общего кол-ва уникальных пользователей к этапу \"MainScreenAppear\": None\n",
      "\n",
      "p-значение:  0.20836205402738917\n",
      "Не получилось отвергнуть нулевую гипотезу, нет оснований считать доли разными\n",
      "Результат z-tests в отношении общего кол-ва уникальных пользователей к этапу \"OffersScreenAppear\": None\n",
      "\n",
      "p-значение:  0.07842923237520116\n",
      "Не получилось отвергнуть нулевую гипотезу, нет оснований считать доли разными\n",
      "Результат z-tests в отношении общего кол-ва уникальных пользователей к этапу \"CartScreenAppear_array\": None\n",
      "\n",
      "p-значение:  0.2122553275697796\n",
      "Не получилось отвергнуть нулевую гипотезу, нет оснований считать доли разными\n",
      "Результат z-tests в отношении общего кол-ва уникальных пользователей к этапу \"PaymentScreenSuccessful\": None\n"
     ]
    }
   ],
   "source": [
    "m = 4\n",
    "alpha = 0.1\n",
    "stat_group (0, 2, alpha, 'all', m)"
   ]
  },
  {
   "cell_type": "code",
   "execution_count": 64,
   "metadata": {},
   "outputs": [
    {
     "name": "stdout",
     "output_type": "stream",
     "text": [
      "p-значение:  0.4587053616621515\n",
      "Не получилось отвергнуть нулевую гипотезу, нет оснований считать доли разными\n",
      "Результат z-tests в отношении общего кол-ва уникальных пользователей к этапу \"MainScreenAppear\": None\n",
      "\n",
      "p-значение:  0.9197817830592261\n",
      "Не получилось отвергнуть нулевую гипотезу, нет оснований считать доли разными\n",
      "Результат z-tests в отношении общего кол-ва уникальных пользователей к этапу \"OffersScreenAppear\": None\n",
      "\n",
      "p-значение:  0.5786197879539783\n",
      "Не получилось отвергнуть нулевую гипотезу, нет оснований считать доли разными\n",
      "Результат z-tests в отношении общего кол-ва уникальных пользователей к этапу \"CartScreenAppear_array\": None\n",
      "\n",
      "p-значение:  0.7373415053803964\n",
      "Не получилось отвергнуть нулевую гипотезу, нет оснований считать доли разными\n",
      "Результат z-tests в отношении общего кол-ва уникальных пользователей к этапу \"PaymentScreenSuccessful\": None\n"
     ]
    }
   ],
   "source": [
    "m = 4\n",
    "alpha = 0.1\n",
    "stat_group (1, 2, alpha, 'all', m)"
   ]
  },
  {
   "cell_type": "code",
   "execution_count": 65,
   "metadata": {},
   "outputs": [
    {
     "name": "stdout",
     "output_type": "stream",
     "text": [
      "p-значение:  0.29424526837179577\n",
      "Не получилось отвергнуть нулевую гипотезу, нет оснований считать доли разными\n",
      "Результат z-tests в отношении общего кол-ва уникальных пользователей к этапу \"MainScreenAppear\": None\n",
      "\n",
      "p-значение:  0.43425549655188256\n",
      "Не получилось отвергнуть нулевую гипотезу, нет оснований считать доли разными\n",
      "Результат z-tests в отношении общего кол-ва уникальных пользователей к этапу \"OffersScreenAppear\": None\n",
      "\n",
      "p-значение:  0.18175875284404386\n",
      "Не получилось отвергнуть нулевую гипотезу, нет оснований считать доли разными\n",
      "Результат z-tests в отношении общего кол-ва уникальных пользователей к этапу \"CartScreenAppear_array\": None\n",
      "\n",
      "p-значение:  0.6004294282308704\n",
      "Не получилось отвергнуть нулевую гипотезу, нет оснований считать доли разными\n",
      "Результат z-tests в отношении общего кол-ва уникальных пользователей к этапу \"PaymentScreenSuccessful\": None\n"
     ]
    }
   ],
   "source": [
    "m = 4\n",
    "alpha = 0.1\n",
    "stat_group (3, 2, alpha, 'all', m)"
   ]
  },
  {
   "cell_type": "markdown",
   "metadata": {},
   "source": [
    "**Вывод:** После проведения тестов выяснилось, что при стат. значимости равной 0.05 ничего не происходит, а именно отвергать нулевую гипотезу о равенстве двух выборок не стоит. Вот если поменять стат. значимость на 0.1, то нам все же придется отвергнуть нулевую гипотезу, но только в одном из множества тестов, если быть точнее то между 246 и 248 выборками на этапе \"CartScreenAppear\". \n",
    "\n",
    "Было проведено 24 проверки, в них входило проверка по 4 этапам между группами 246 и 248, 247 и 248, 248 и 249(новая сгруппированная группа из контрольных групп) и все те же самые действия были проделаны со значеним стат. значимостью 0.1"
   ]
  },
  {
   "cell_type": "markdown",
   "metadata": {},
   "source": [
    "# Итоговый вывод"
   ]
  },
  {
   "cell_type": "markdown",
   "metadata": {},
   "source": [
    "В качестве итога хотел бы пройтись по каждому шагу. Изначально я получил не обработанные данные, где мне предстояло оформить их в надлежащий вид для работы с ними. После я изучил полученные датасет данных и провел подготовку данных к основному исследованию. Было проделано изменение столбцов на более привычные (змеиный язык), проверил на наличие пропусков и типов данных, что в последнем случае было изменено некоторое кол-во данных, какие указаны в самой работе. А так же, как вспомогательный элемент я добавил столбец даты отдельно. Следующим, а именно 3 шагом был этап изучения событий, кол-ва пользователей   и среднее кол-ва событий на одного пользователя в логе. А также я нашел дату и время первого и последнего действия на сайте. Было произведено построение гистограммы по времени, и было выяснено, что основная масса событий происходила в диапазоне дат 2019-08-01 по 2019-08-07, в процентном соотношении отброшенных уникальных пользователей составило меньше 1% (0,68%), а если рассматривать события, то там 1,16% событий были отброшены. В шаге №4 я проверил какие события встречаются в логе и нашел их частоту, все частоты находятся на графике в шаге№4 пункт 1, но событием с наибольшей частотой является \"MainScreenAppear\".  Дальше был произведён подсчет пользователей совершивших хотя бы 1 событие, и больше всего было тех, кто проходит этап главного экрана (более детальная информация в таблице шага №4 пункта 2). Дальше я приведу свои предположения о происхождении каждого события. Я могу предположить, что, во-первых, почему событие \"MainScreenAppear (появление главного экрана)\" не равно 1, т.е. не все пользователи прошли через него. Это может быть связанно с тем, что в рекламных кампаниях могут использовать ссылки, которые перенаправляют сразу на экран карточки (заказа) или же кто-то из друзей/знакомых переслал ссылку сразу на товар => ты (пользователь) пропускает этап прохождения главного экрана.\n",
    "Во-вторых, событие \"OffersScreenAppear (экран предложений)\", если приравнять это к эрану карточек товара или витрины, то возможно, не все пользователи прошедшие главный экран могут дойти до данного этапа по нескольким причинам, например, магазин не понравился или решил выбрать товар позже. Но так же, те пользователи, которые не прошли главный экран могли попасть сразу на экран предложений.\n",
    "В-третьих, событие \"CartScreenAppear (экран корзины)\", то тут пользоатели могли просто пролитать товары, может быть приметить себе что-то или же наоборот понять, что этот магазин не для него и покинуть приложение, следвоательно такой низкий показатель посещаемости данной странице, и так же никто не отменял пользователей, прошедших этап главного экрана и экран предложений.\n",
    "В-четвертых, событие \"PaymentScreenSuccessful (экран оплаты товара)\", тут этап конверсии заходит уже далеко и следовательно а) не многие до него могут дойти; б) некоторые могут просто пересылать страницу с оплатой другому, чтобы он оплатил.\n",
    "В-пятых, событие \"Tutorial (руководство)\", этот этап многие пропускают сразу или, если он находится в отдельной вкладке, то даже не заходит. Если руководство находистя в отдельной вкладке или кнопке, то вряд ли разработчики сделают так, чтобы пользователи сразу попадали на него, если, конечно, это не сложно структурированный продукт (сайт, приложение) или какая-то игра, хотя и там этот этап можно пропустить.\n",
    "Итог, я счиатю, что имеет место быть различное множество событий, т.к. тут зависит от того, сам ли заходит пользователь на сайт/приложение, бывал ли он уже на нем, перехоидт ли он по ссылки из рекламы или ему скидыают, а может он просто сохранил ссылку, например, корзины, и сразу зашел туда. Четвертым пунктом была посчитана конверсия прохождения пользователя с одного этапа на другой и определен этап, где происходит больше всего потерь. Больше всего данных теряется на переход в раздел руководство, дальше по потерям и стоит экран предложений, там 38% пользователей с главного экрана не переходят в раздел предложений. Самая маленькая потеря находится на этапе перехода оплаты товара, т.е. 95% посетителей добавим товар в корзину купят его со 100% вероятностью. Пятым шагом была работа с z-тестированием, А/А-тестированием A/A/B тестированием. Бала проведена проверка статистического критерия разниц между 246 и 247 группами (контрольные группы). Сравнение экспериментальной группы с контрольными по отдельности и суммировано с двумя значениями статистической значимости. После проведения тестов выяснилось, что при стат. значимости равной 0.05 ничего не происходит, а именно отвергать нулевую гипотезу о равенстве двух выборок не стоит. Вот если поменять стат. значимость на 0.1, то нам все же придется отвергнуть нулевую гипотезу, но только в одном из множества тестов, если быть точнее то между 246 и 248 выборками на этапе \"CartScreenAppear\". Мое предложение зиждется на проведенных тестах, а тесты гласят, что в целом разницы между нет, так как ничего не поменяется.\n"
   ]
  }
 ],
 "metadata": {
  "ExecuteTimeLog": [
   {
    "duration": 1241,
    "start_time": "2023-04-18T08:05:49.074Z"
   },
   {
    "duration": 609,
    "start_time": "2023-04-18T08:05:50.317Z"
   },
   {
    "duration": 18,
    "start_time": "2023-04-18T08:06:21.971Z"
   },
   {
    "duration": 264,
    "start_time": "2023-04-18T08:06:38.125Z"
   },
   {
    "duration": 281,
    "start_time": "2023-04-18T08:08:18.672Z"
   },
   {
    "duration": 276,
    "start_time": "2023-04-18T08:08:25.632Z"
   },
   {
    "duration": 549,
    "start_time": "2023-04-18T08:11:36.841Z"
   },
   {
    "duration": 316,
    "start_time": "2023-04-18T08:11:41.242Z"
   },
   {
    "duration": 174,
    "start_time": "2023-04-18T08:16:40.715Z"
   },
   {
    "duration": 141,
    "start_time": "2023-04-18T08:16:54.335Z"
   },
   {
    "duration": 137,
    "start_time": "2023-04-18T08:16:58.530Z"
   },
   {
    "duration": 140,
    "start_time": "2023-04-18T08:17:02.223Z"
   },
   {
    "duration": 17,
    "start_time": "2023-04-18T08:17:18.471Z"
   },
   {
    "duration": 5,
    "start_time": "2023-04-18T08:21:11.563Z"
   },
   {
    "duration": 11,
    "start_time": "2023-04-18T08:21:19.889Z"
   },
   {
    "duration": 9,
    "start_time": "2023-04-18T08:21:54.673Z"
   },
   {
    "duration": 14,
    "start_time": "2023-04-18T08:22:04.552Z"
   },
   {
    "duration": 14,
    "start_time": "2023-04-18T08:22:10.783Z"
   },
   {
    "duration": 14,
    "start_time": "2023-04-18T08:22:14.663Z"
   },
   {
    "duration": 10,
    "start_time": "2023-04-18T08:22:55.873Z"
   },
   {
    "duration": 8,
    "start_time": "2023-04-18T08:23:09.463Z"
   },
   {
    "duration": 13,
    "start_time": "2023-04-18T08:24:22.692Z"
   },
   {
    "duration": 3,
    "start_time": "2023-04-18T08:36:59.224Z"
   },
   {
    "duration": 8,
    "start_time": "2023-04-18T08:37:09.854Z"
   },
   {
    "duration": 16,
    "start_time": "2023-04-18T08:37:43.209Z"
   },
   {
    "duration": 111,
    "start_time": "2023-04-18T08:39:35.921Z"
   },
   {
    "duration": 12,
    "start_time": "2023-04-18T08:39:45.083Z"
   },
   {
    "duration": 59,
    "start_time": "2023-04-18T08:39:52.763Z"
   },
   {
    "duration": 29,
    "start_time": "2023-04-18T08:40:48.706Z"
   },
   {
    "duration": 10,
    "start_time": "2023-04-18T08:40:51.755Z"
   },
   {
    "duration": 17,
    "start_time": "2023-04-18T08:43:39.444Z"
   },
   {
    "duration": 16,
    "start_time": "2023-04-18T08:43:43.822Z"
   },
   {
    "duration": 14,
    "start_time": "2023-04-18T08:46:12.634Z"
   },
   {
    "duration": 12,
    "start_time": "2023-04-18T08:46:19.454Z"
   },
   {
    "duration": 1075,
    "start_time": "2023-04-18T08:49:31.964Z"
   },
   {
    "duration": 223,
    "start_time": "2023-04-18T08:49:33.042Z"
   },
   {
    "duration": 19,
    "start_time": "2023-04-18T08:49:33.634Z"
   },
   {
    "duration": 19,
    "start_time": "2023-04-18T08:49:37.865Z"
   },
   {
    "duration": 12,
    "start_time": "2023-04-18T08:49:40.184Z"
   },
   {
    "duration": 19,
    "start_time": "2023-04-18T08:49:41.817Z"
   },
   {
    "duration": 137,
    "start_time": "2023-04-18T08:50:09.445Z"
   },
   {
    "duration": 3,
    "start_time": "2023-04-18T08:50:21.085Z"
   },
   {
    "duration": 17,
    "start_time": "2023-04-18T08:50:28.514Z"
   },
   {
    "duration": 9,
    "start_time": "2023-04-18T08:50:34.230Z"
   },
   {
    "duration": 138,
    "start_time": "2023-04-18T08:50:40.464Z"
   },
   {
    "duration": 3,
    "start_time": "2023-04-18T08:52:18.165Z"
   },
   {
    "duration": 94,
    "start_time": "2023-04-18T08:53:20.855Z"
   },
   {
    "duration": 9,
    "start_time": "2023-04-18T08:53:30.383Z"
   },
   {
    "duration": 921,
    "start_time": "2023-04-18T08:53:42.946Z"
   },
   {
    "duration": 9,
    "start_time": "2023-04-18T08:53:52.065Z"
   },
   {
    "duration": 9,
    "start_time": "2023-04-18T08:53:55.155Z"
   },
   {
    "duration": 43,
    "start_time": "2023-04-18T08:54:14.076Z"
   },
   {
    "duration": 11,
    "start_time": "2023-04-18T08:54:19.033Z"
   },
   {
    "duration": 11,
    "start_time": "2023-04-18T08:54:21.464Z"
   },
   {
    "duration": 19,
    "start_time": "2023-04-18T08:54:36.825Z"
   },
   {
    "duration": 9,
    "start_time": "2023-04-18T08:58:44.386Z"
   },
   {
    "duration": 11,
    "start_time": "2023-04-18T08:58:57.175Z"
   },
   {
    "duration": 23,
    "start_time": "2023-04-18T08:59:00.741Z"
   },
   {
    "duration": 21,
    "start_time": "2023-04-18T08:59:13.666Z"
   },
   {
    "duration": 11,
    "start_time": "2023-04-18T09:01:33.030Z"
   },
   {
    "duration": 49,
    "start_time": "2023-04-18T09:02:08.729Z"
   },
   {
    "duration": 9,
    "start_time": "2023-04-18T09:02:14.322Z"
   },
   {
    "duration": 8,
    "start_time": "2023-04-18T09:05:00.695Z"
   },
   {
    "duration": 9,
    "start_time": "2023-04-18T09:07:23.056Z"
   },
   {
    "duration": 1166,
    "start_time": "2023-04-18T09:08:31.164Z"
   },
   {
    "duration": 207,
    "start_time": "2023-04-18T09:08:33.635Z"
   },
   {
    "duration": 19,
    "start_time": "2023-04-18T09:08:35.905Z"
   },
   {
    "duration": 14,
    "start_time": "2023-04-18T09:08:36.722Z"
   },
   {
    "duration": 13,
    "start_time": "2023-04-18T09:08:36.930Z"
   },
   {
    "duration": 17,
    "start_time": "2023-04-18T09:08:37.123Z"
   },
   {
    "duration": 11,
    "start_time": "2023-04-18T09:08:37.628Z"
   },
   {
    "duration": 12,
    "start_time": "2023-04-18T09:08:39.465Z"
   },
   {
    "duration": 16,
    "start_time": "2023-04-18T09:08:44.286Z"
   },
   {
    "duration": 95,
    "start_time": "2023-04-18T09:08:48.819Z"
   },
   {
    "duration": 13,
    "start_time": "2023-04-18T09:13:34.286Z"
   },
   {
    "duration": 21,
    "start_time": "2023-04-18T09:13:38.586Z"
   },
   {
    "duration": 9,
    "start_time": "2023-04-18T09:19:04.136Z"
   },
   {
    "duration": 18,
    "start_time": "2023-04-18T09:19:07.923Z"
   },
   {
    "duration": 7,
    "start_time": "2023-04-18T09:28:16.418Z"
   },
   {
    "duration": 68,
    "start_time": "2023-04-18T09:30:46.546Z"
   },
   {
    "duration": 25,
    "start_time": "2023-04-18T09:32:28.248Z"
   },
   {
    "duration": 2377,
    "start_time": "2023-04-18T09:39:55.644Z"
   },
   {
    "duration": 14,
    "start_time": "2023-04-18T09:40:14.900Z"
   },
   {
    "duration": 21,
    "start_time": "2023-04-18T09:40:38.247Z"
   },
   {
    "duration": 13,
    "start_time": "2023-04-18T09:50:22.546Z"
   },
   {
    "duration": 7,
    "start_time": "2023-04-18T09:50:35.053Z"
   },
   {
    "duration": 26,
    "start_time": "2023-04-18T09:51:21.936Z"
   },
   {
    "duration": 28,
    "start_time": "2023-04-18T09:51:45.396Z"
   },
   {
    "duration": 26,
    "start_time": "2023-04-18T09:51:50.233Z"
   },
   {
    "duration": 7,
    "start_time": "2023-04-18T09:52:13.037Z"
   },
   {
    "duration": 10,
    "start_time": "2023-04-18T09:59:39.678Z"
   },
   {
    "duration": 3,
    "start_time": "2023-04-18T10:01:17.568Z"
   },
   {
    "duration": 4,
    "start_time": "2023-04-18T10:01:32.947Z"
   },
   {
    "duration": 968,
    "start_time": "2023-04-18T10:03:28.232Z"
   },
   {
    "duration": 200,
    "start_time": "2023-04-18T10:03:29.202Z"
   },
   {
    "duration": 17,
    "start_time": "2023-04-18T10:03:29.403Z"
   },
   {
    "duration": 16,
    "start_time": "2023-04-18T10:03:29.421Z"
   },
   {
    "duration": 12,
    "start_time": "2023-04-18T10:03:29.585Z"
   },
   {
    "duration": 16,
    "start_time": "2023-04-18T10:03:29.875Z"
   },
   {
    "duration": 15,
    "start_time": "2023-04-18T10:03:34.430Z"
   },
   {
    "duration": 12,
    "start_time": "2023-04-18T10:03:34.937Z"
   },
   {
    "duration": 18,
    "start_time": "2023-04-18T10:03:35.328Z"
   },
   {
    "duration": 27,
    "start_time": "2023-04-18T10:03:37.487Z"
   },
   {
    "duration": 12,
    "start_time": "2023-04-18T10:03:43.224Z"
   },
   {
    "duration": 10,
    "start_time": "2023-04-18T10:03:43.797Z"
   },
   {
    "duration": 4,
    "start_time": "2023-04-18T10:03:44.356Z"
   },
   {
    "duration": 1152,
    "start_time": "2023-04-19T05:49:20.138Z"
   },
   {
    "duration": 543,
    "start_time": "2023-04-19T05:49:21.817Z"
   },
   {
    "duration": 19,
    "start_time": "2023-04-19T05:50:27.323Z"
   },
   {
    "duration": 14,
    "start_time": "2023-04-19T05:50:29.523Z"
   },
   {
    "duration": 14,
    "start_time": "2023-04-19T05:50:30.303Z"
   },
   {
    "duration": 19,
    "start_time": "2023-04-19T05:50:31.052Z"
   },
   {
    "duration": 13,
    "start_time": "2023-04-19T05:50:33.017Z"
   },
   {
    "duration": 11,
    "start_time": "2023-04-19T05:50:33.820Z"
   },
   {
    "duration": 19,
    "start_time": "2023-04-19T05:50:34.156Z"
   },
   {
    "duration": 23,
    "start_time": "2023-04-19T05:50:36.423Z"
   },
   {
    "duration": 11,
    "start_time": "2023-04-19T05:50:39.153Z"
   },
   {
    "duration": 10,
    "start_time": "2023-04-19T05:50:39.651Z"
   },
   {
    "duration": 4,
    "start_time": "2023-04-19T05:50:40.350Z"
   },
   {
    "duration": 213,
    "start_time": "2023-04-19T06:01:26.524Z"
   },
   {
    "duration": 96,
    "start_time": "2023-04-19T06:01:32.994Z"
   },
   {
    "duration": 5,
    "start_time": "2023-04-19T06:02:57.125Z"
   },
   {
    "duration": 17,
    "start_time": "2023-04-19T06:04:37.845Z"
   },
   {
    "duration": 38,
    "start_time": "2023-04-19T06:06:48.722Z"
   },
   {
    "duration": 44,
    "start_time": "2023-04-19T06:07:02.150Z"
   },
   {
    "duration": 24,
    "start_time": "2023-04-19T06:07:28.159Z"
   },
   {
    "duration": 7,
    "start_time": "2023-04-19T06:10:44.830Z"
   },
   {
    "duration": 271,
    "start_time": "2023-04-19T06:23:24.809Z"
   },
   {
    "duration": 170,
    "start_time": "2023-04-19T06:23:33.875Z"
   },
   {
    "duration": 250,
    "start_time": "2023-04-19T06:24:47.103Z"
   },
   {
    "duration": 240,
    "start_time": "2023-04-19T06:25:00.902Z"
   },
   {
    "duration": 193,
    "start_time": "2023-04-19T06:25:18.417Z"
   },
   {
    "duration": 233,
    "start_time": "2023-04-19T06:26:00.858Z"
   },
   {
    "duration": 201,
    "start_time": "2023-04-19T06:27:07.926Z"
   },
   {
    "duration": 183,
    "start_time": "2023-04-19T06:27:14.485Z"
   },
   {
    "duration": 216,
    "start_time": "2023-04-19T06:27:24.222Z"
   },
   {
    "duration": 306,
    "start_time": "2023-04-19T06:28:02.017Z"
   },
   {
    "duration": 38,
    "start_time": "2023-04-19T06:58:56.769Z"
   },
   {
    "duration": 13,
    "start_time": "2023-04-19T06:59:54.414Z"
   },
   {
    "duration": 20,
    "start_time": "2023-04-19T06:59:59.612Z"
   },
   {
    "duration": 15,
    "start_time": "2023-04-19T07:00:34.716Z"
   },
   {
    "duration": 13,
    "start_time": "2023-04-19T07:01:47.536Z"
   },
   {
    "duration": 37,
    "start_time": "2023-04-19T07:01:52.507Z"
   },
   {
    "duration": 25,
    "start_time": "2023-04-19T07:21:45.999Z"
   },
   {
    "duration": 3,
    "start_time": "2023-04-19T07:22:20.110Z"
   },
   {
    "duration": 4,
    "start_time": "2023-04-19T07:22:27.156Z"
   },
   {
    "duration": 14,
    "start_time": "2023-04-19T07:22:35.602Z"
   },
   {
    "duration": 15,
    "start_time": "2023-04-19T07:23:00.531Z"
   },
   {
    "duration": 11,
    "start_time": "2023-04-19T07:23:21.554Z"
   },
   {
    "duration": 27,
    "start_time": "2023-04-19T07:23:22.478Z"
   },
   {
    "duration": 23,
    "start_time": "2023-04-19T07:23:22.681Z"
   },
   {
    "duration": 28,
    "start_time": "2023-04-19T07:25:47.311Z"
   },
   {
    "duration": 11,
    "start_time": "2023-04-19T07:26:04.052Z"
   },
   {
    "duration": 3,
    "start_time": "2023-04-19T07:26:17.976Z"
   },
   {
    "duration": 37,
    "start_time": "2023-04-19T07:26:49.515Z"
   },
   {
    "duration": 12,
    "start_time": "2023-04-19T07:27:00.914Z"
   },
   {
    "duration": 16,
    "start_time": "2023-04-19T07:27:18.158Z"
   },
   {
    "duration": 11,
    "start_time": "2023-04-19T07:27:27.572Z"
   },
   {
    "duration": 1461,
    "start_time": "2023-04-19T07:28:03.788Z"
   },
   {
    "duration": 910,
    "start_time": "2023-04-19T07:28:05.252Z"
   },
   {
    "duration": 43,
    "start_time": "2023-04-19T07:28:06.165Z"
   },
   {
    "duration": 15,
    "start_time": "2023-04-19T07:28:06.211Z"
   },
   {
    "duration": 49,
    "start_time": "2023-04-19T07:28:06.228Z"
   },
   {
    "duration": 39,
    "start_time": "2023-04-19T07:28:06.282Z"
   },
   {
    "duration": 19,
    "start_time": "2023-04-19T07:28:06.324Z"
   },
   {
    "duration": 69,
    "start_time": "2023-04-19T07:28:06.345Z"
   },
   {
    "duration": 36,
    "start_time": "2023-04-19T07:28:06.416Z"
   },
   {
    "duration": 38,
    "start_time": "2023-04-19T07:28:09.723Z"
   },
   {
    "duration": 13,
    "start_time": "2023-04-19T07:28:10.293Z"
   },
   {
    "duration": 21,
    "start_time": "2023-04-19T07:28:10.478Z"
   },
   {
    "duration": 4,
    "start_time": "2023-04-19T07:28:10.618Z"
   },
   {
    "duration": 7,
    "start_time": "2023-04-19T07:28:13.394Z"
   },
   {
    "duration": 50,
    "start_time": "2023-04-19T07:28:18.965Z"
   },
   {
    "duration": 479,
    "start_time": "2023-04-19T07:28:21.463Z"
   },
   {
    "duration": 3,
    "start_time": "2023-04-19T07:28:27.709Z"
   },
   {
    "duration": 15,
    "start_time": "2023-04-19T07:28:33.313Z"
   },
   {
    "duration": 45,
    "start_time": "2023-04-19T07:28:36.452Z"
   },
   {
    "duration": 16,
    "start_time": "2023-04-19T07:28:43.644Z"
   },
   {
    "duration": 29,
    "start_time": "2023-04-19T07:29:53.898Z"
   },
   {
    "duration": 166,
    "start_time": "2023-04-19T07:30:23.959Z"
   },
   {
    "duration": 36,
    "start_time": "2023-04-19T07:30:31.176Z"
   },
   {
    "duration": 38,
    "start_time": "2023-04-19T07:30:34.167Z"
   },
   {
    "duration": 1125,
    "start_time": "2023-04-19T07:30:42.792Z"
   },
   {
    "duration": 329,
    "start_time": "2023-04-19T07:30:43.919Z"
   },
   {
    "duration": 30,
    "start_time": "2023-04-19T07:30:44.250Z"
   },
   {
    "duration": 22,
    "start_time": "2023-04-19T07:30:45.069Z"
   },
   {
    "duration": 28,
    "start_time": "2023-04-19T07:30:45.556Z"
   },
   {
    "duration": 21,
    "start_time": "2023-04-19T07:30:45.988Z"
   },
   {
    "duration": 15,
    "start_time": "2023-04-19T07:30:46.363Z"
   },
   {
    "duration": 13,
    "start_time": "2023-04-19T07:30:46.673Z"
   },
   {
    "duration": 25,
    "start_time": "2023-04-19T07:30:47.070Z"
   },
   {
    "duration": 39,
    "start_time": "2023-04-19T07:30:47.812Z"
   },
   {
    "duration": 16,
    "start_time": "2023-04-19T07:30:48.724Z"
   },
   {
    "duration": 13,
    "start_time": "2023-04-19T07:30:49.126Z"
   },
   {
    "duration": 4,
    "start_time": "2023-04-19T07:30:49.530Z"
   },
   {
    "duration": 6,
    "start_time": "2023-04-19T07:30:49.918Z"
   },
   {
    "duration": 46,
    "start_time": "2023-04-19T07:30:50.723Z"
   },
   {
    "duration": 391,
    "start_time": "2023-04-19T07:30:51.529Z"
   },
   {
    "duration": 4,
    "start_time": "2023-04-19T07:30:52.061Z"
   },
   {
    "duration": 42,
    "start_time": "2023-04-19T07:30:54.759Z"
   },
   {
    "duration": 47,
    "start_time": "2023-04-19T07:31:38.488Z"
   },
   {
    "duration": 123,
    "start_time": "2023-04-19T07:31:46.159Z"
   },
   {
    "duration": 52,
    "start_time": "2023-04-19T07:31:51.604Z"
   },
   {
    "duration": 40,
    "start_time": "2023-04-19T07:31:56.968Z"
   },
   {
    "duration": 1111,
    "start_time": "2023-04-19T07:32:05.114Z"
   },
   {
    "duration": 279,
    "start_time": "2023-04-19T07:32:06.226Z"
   },
   {
    "duration": 31,
    "start_time": "2023-04-19T07:32:06.507Z"
   },
   {
    "duration": 35,
    "start_time": "2023-04-19T07:32:06.539Z"
   },
   {
    "duration": 30,
    "start_time": "2023-04-19T07:32:06.576Z"
   },
   {
    "duration": 32,
    "start_time": "2023-04-19T07:32:06.608Z"
   },
   {
    "duration": 50,
    "start_time": "2023-04-19T07:32:06.643Z"
   },
   {
    "duration": 35,
    "start_time": "2023-04-19T07:32:06.695Z"
   },
   {
    "duration": 81,
    "start_time": "2023-04-19T07:32:06.732Z"
   },
   {
    "duration": 54,
    "start_time": "2023-04-19T07:32:06.814Z"
   },
   {
    "duration": 50,
    "start_time": "2023-04-19T07:32:06.870Z"
   },
   {
    "duration": 73,
    "start_time": "2023-04-19T07:32:06.922Z"
   },
   {
    "duration": 39,
    "start_time": "2023-04-19T07:32:06.997Z"
   },
   {
    "duration": 45,
    "start_time": "2023-04-19T07:32:07.040Z"
   },
   {
    "duration": 57,
    "start_time": "2023-04-19T07:32:07.087Z"
   },
   {
    "duration": 435,
    "start_time": "2023-04-19T07:32:07.146Z"
   },
   {
    "duration": 3,
    "start_time": "2023-04-19T07:32:07.583Z"
   },
   {
    "duration": 62,
    "start_time": "2023-04-19T07:32:07.588Z"
   },
   {
    "duration": 9,
    "start_time": "2023-04-19T07:32:07.661Z"
   },
   {
    "duration": 20,
    "start_time": "2023-04-19T07:32:07.672Z"
   },
   {
    "duration": 13,
    "start_time": "2023-04-19T07:32:07.694Z"
   },
   {
    "duration": 6,
    "start_time": "2023-04-19T07:35:20.563Z"
   },
   {
    "duration": 8,
    "start_time": "2023-04-19T07:35:33.855Z"
   },
   {
    "duration": 6,
    "start_time": "2023-04-19T07:35:39.925Z"
   },
   {
    "duration": 19,
    "start_time": "2023-04-19T07:35:44.437Z"
   },
   {
    "duration": 14,
    "start_time": "2023-04-19T07:35:45.583Z"
   },
   {
    "duration": 315,
    "start_time": "2023-04-19T07:38:16.780Z"
   },
   {
    "duration": 18,
    "start_time": "2023-04-19T07:45:53.027Z"
   },
   {
    "duration": 19,
    "start_time": "2023-04-19T07:46:10.362Z"
   },
   {
    "duration": 55,
    "start_time": "2023-04-19T09:07:38.723Z"
   },
   {
    "duration": 1127,
    "start_time": "2023-04-19T09:07:48.154Z"
   },
   {
    "duration": 1117,
    "start_time": "2023-04-19T09:07:49.283Z"
   },
   {
    "duration": 22,
    "start_time": "2023-04-19T09:07:50.402Z"
   },
   {
    "duration": 14,
    "start_time": "2023-04-19T09:07:50.427Z"
   },
   {
    "duration": 11,
    "start_time": "2023-04-19T09:07:50.443Z"
   },
   {
    "duration": 16,
    "start_time": "2023-04-19T09:07:53.327Z"
   },
   {
    "duration": 13,
    "start_time": "2023-04-19T09:07:53.476Z"
   },
   {
    "duration": 13,
    "start_time": "2023-04-19T09:07:53.676Z"
   },
   {
    "duration": 18,
    "start_time": "2023-04-19T09:07:53.854Z"
   },
   {
    "duration": 28,
    "start_time": "2023-04-19T09:07:54.224Z"
   },
   {
    "duration": 10,
    "start_time": "2023-04-19T09:07:54.776Z"
   },
   {
    "duration": 9,
    "start_time": "2023-04-19T09:07:54.986Z"
   },
   {
    "duration": 3,
    "start_time": "2023-04-19T09:07:55.184Z"
   },
   {
    "duration": 5,
    "start_time": "2023-04-19T09:07:55.344Z"
   },
   {
    "duration": 26,
    "start_time": "2023-04-19T09:07:55.961Z"
   },
   {
    "duration": 282,
    "start_time": "2023-04-19T09:07:56.409Z"
   },
   {
    "duration": 2,
    "start_time": "2023-04-19T09:07:56.696Z"
   },
   {
    "duration": 30,
    "start_time": "2023-04-19T09:07:56.760Z"
   },
   {
    "duration": 250,
    "start_time": "2023-04-19T09:07:57.359Z"
   },
   {
    "duration": 6,
    "start_time": "2023-04-19T09:07:57.612Z"
   },
   {
    "duration": 17,
    "start_time": "2023-04-19T09:07:57.747Z"
   },
   {
    "duration": 12,
    "start_time": "2023-04-19T09:07:58.077Z"
   },
   {
    "duration": 14,
    "start_time": "2023-04-19T09:07:58.508Z"
   },
   {
    "duration": 14,
    "start_time": "2023-04-19T09:07:59.740Z"
   },
   {
    "duration": 120,
    "start_time": "2023-04-19T09:08:00.242Z"
   },
   {
    "duration": 38,
    "start_time": "2023-04-19T09:09:02.076Z"
   },
   {
    "duration": 55,
    "start_time": "2023-04-19T09:09:52.630Z"
   },
   {
    "duration": 72,
    "start_time": "2023-04-19T09:10:09.832Z"
   },
   {
    "duration": 60,
    "start_time": "2023-04-19T09:11:03.468Z"
   },
   {
    "duration": 53,
    "start_time": "2023-04-19T09:11:21.194Z"
   },
   {
    "duration": 95,
    "start_time": "2023-04-19T09:11:53.578Z"
   },
   {
    "duration": 54,
    "start_time": "2023-04-19T09:11:59.604Z"
   },
   {
    "duration": 45,
    "start_time": "2023-04-19T09:13:52.438Z"
   },
   {
    "duration": 47,
    "start_time": "2023-04-19T09:14:03.939Z"
   },
   {
    "duration": 34,
    "start_time": "2023-04-19T09:16:02.657Z"
   },
   {
    "duration": 4,
    "start_time": "2023-04-19T09:17:21.222Z"
   },
   {
    "duration": 10,
    "start_time": "2023-04-19T09:18:20.655Z"
   },
   {
    "duration": 989,
    "start_time": "2023-04-19T09:18:38.996Z"
   },
   {
    "duration": 190,
    "start_time": "2023-04-19T09:18:39.987Z"
   },
   {
    "duration": 20,
    "start_time": "2023-04-19T09:18:40.178Z"
   },
   {
    "duration": 12,
    "start_time": "2023-04-19T09:18:40.200Z"
   },
   {
    "duration": 23,
    "start_time": "2023-04-19T09:18:40.214Z"
   },
   {
    "duration": 16,
    "start_time": "2023-04-19T09:18:40.239Z"
   },
   {
    "duration": 16,
    "start_time": "2023-04-19T09:18:40.257Z"
   },
   {
    "duration": 24,
    "start_time": "2023-04-19T09:18:40.274Z"
   },
   {
    "duration": 19,
    "start_time": "2023-04-19T09:18:40.301Z"
   },
   {
    "duration": 26,
    "start_time": "2023-04-19T09:18:40.322Z"
   },
   {
    "duration": 10,
    "start_time": "2023-04-19T09:18:40.350Z"
   },
   {
    "duration": 41,
    "start_time": "2023-04-19T09:18:40.362Z"
   },
   {
    "duration": 4,
    "start_time": "2023-04-19T09:18:40.404Z"
   },
   {
    "duration": 7,
    "start_time": "2023-04-19T09:18:40.410Z"
   },
   {
    "duration": 30,
    "start_time": "2023-04-19T09:18:40.418Z"
   },
   {
    "duration": 311,
    "start_time": "2023-04-19T09:18:40.449Z"
   },
   {
    "duration": 4,
    "start_time": "2023-04-19T09:18:40.761Z"
   },
   {
    "duration": 44,
    "start_time": "2023-04-19T09:18:40.766Z"
   },
   {
    "duration": 27,
    "start_time": "2023-04-19T09:18:40.812Z"
   },
   {
    "duration": 204,
    "start_time": "2023-04-19T09:18:40.840Z"
   },
   {
    "duration": 5,
    "start_time": "2023-04-19T09:18:41.046Z"
   },
   {
    "duration": 21,
    "start_time": "2023-04-19T09:18:41.052Z"
   },
   {
    "duration": 28,
    "start_time": "2023-04-19T09:18:41.074Z"
   },
   {
    "duration": 32,
    "start_time": "2023-04-19T09:18:41.104Z"
   },
   {
    "duration": 10,
    "start_time": "2023-04-19T09:18:41.137Z"
   },
   {
    "duration": 12,
    "start_time": "2023-04-19T09:18:41.149Z"
   },
   {
    "duration": 74,
    "start_time": "2023-04-19T09:18:41.162Z"
   },
   {
    "duration": 11,
    "start_time": "2023-04-19T09:20:33.821Z"
   },
   {
    "duration": 31,
    "start_time": "2023-04-19T09:21:53.307Z"
   },
   {
    "duration": 109,
    "start_time": "2023-04-19T09:22:36.407Z"
   },
   {
    "duration": 26,
    "start_time": "2023-04-19T09:22:42.235Z"
   },
   {
    "duration": 33,
    "start_time": "2023-04-19T09:22:45.804Z"
   },
   {
    "duration": 31,
    "start_time": "2023-04-19T09:22:55.213Z"
   },
   {
    "duration": 32,
    "start_time": "2023-04-19T09:23:13.756Z"
   },
   {
    "duration": 1023,
    "start_time": "2023-04-19T09:23:20.583Z"
   },
   {
    "duration": 193,
    "start_time": "2023-04-19T09:23:21.608Z"
   },
   {
    "duration": 19,
    "start_time": "2023-04-19T09:23:21.802Z"
   },
   {
    "duration": 13,
    "start_time": "2023-04-19T09:23:21.823Z"
   },
   {
    "duration": 19,
    "start_time": "2023-04-19T09:23:21.838Z"
   },
   {
    "duration": 58,
    "start_time": "2023-04-19T09:23:21.859Z"
   },
   {
    "duration": 13,
    "start_time": "2023-04-19T09:23:21.919Z"
   },
   {
    "duration": 13,
    "start_time": "2023-04-19T09:23:21.933Z"
   },
   {
    "duration": 18,
    "start_time": "2023-04-19T09:23:21.948Z"
   },
   {
    "duration": 53,
    "start_time": "2023-04-19T09:23:21.968Z"
   },
   {
    "duration": 17,
    "start_time": "2023-04-19T09:23:22.023Z"
   },
   {
    "duration": 17,
    "start_time": "2023-04-19T09:23:22.042Z"
   },
   {
    "duration": 4,
    "start_time": "2023-04-19T09:23:22.061Z"
   },
   {
    "duration": 7,
    "start_time": "2023-04-19T09:23:22.094Z"
   },
   {
    "duration": 35,
    "start_time": "2023-04-19T09:23:22.103Z"
   },
   {
    "duration": 318,
    "start_time": "2023-04-19T09:23:22.139Z"
   },
   {
    "duration": 4,
    "start_time": "2023-04-19T09:23:22.458Z"
   },
   {
    "duration": 49,
    "start_time": "2023-04-19T09:23:22.464Z"
   },
   {
    "duration": 33,
    "start_time": "2023-04-19T09:23:22.515Z"
   },
   {
    "duration": 47,
    "start_time": "2023-04-19T09:23:22.550Z"
   },
   {
    "duration": 225,
    "start_time": "2023-04-19T09:23:22.599Z"
   },
   {
    "duration": 5,
    "start_time": "2023-04-19T09:23:22.826Z"
   },
   {
    "duration": 19,
    "start_time": "2023-04-19T09:23:22.833Z"
   },
   {
    "duration": 11,
    "start_time": "2023-04-19T09:23:22.854Z"
   },
   {
    "duration": 3,
    "start_time": "2023-04-19T09:23:22.866Z"
   },
   {
    "duration": 54,
    "start_time": "2023-04-19T09:23:22.871Z"
   },
   {
    "duration": 33,
    "start_time": "2023-04-19T09:23:22.926Z"
   },
   {
    "duration": 12,
    "start_time": "2023-04-19T09:23:22.961Z"
   },
   {
    "duration": 15,
    "start_time": "2023-04-19T09:23:22.995Z"
   },
   {
    "duration": 51,
    "start_time": "2023-04-19T09:23:23.012Z"
   },
   {
    "duration": 34,
    "start_time": "2023-04-19T09:23:54.648Z"
   },
   {
    "duration": 33,
    "start_time": "2023-04-19T09:24:11.042Z"
   },
   {
    "duration": 31,
    "start_time": "2023-04-19T09:24:26.366Z"
   },
   {
    "duration": 33,
    "start_time": "2023-04-19T09:24:37.119Z"
   },
   {
    "duration": 30,
    "start_time": "2023-04-19T09:24:43.335Z"
   },
   {
    "duration": 32,
    "start_time": "2023-04-19T09:24:54.523Z"
   },
   {
    "duration": 32,
    "start_time": "2023-04-19T09:25:23.983Z"
   },
   {
    "duration": 32,
    "start_time": "2023-04-19T09:29:03.181Z"
   },
   {
    "duration": 31,
    "start_time": "2023-04-19T09:30:21.071Z"
   },
   {
    "duration": 33,
    "start_time": "2023-04-19T09:30:22.039Z"
   },
   {
    "duration": 34,
    "start_time": "2023-04-19T09:30:54.860Z"
   },
   {
    "duration": 30,
    "start_time": "2023-04-19T09:31:09.715Z"
   },
   {
    "duration": 32,
    "start_time": "2023-04-19T09:31:18.272Z"
   },
   {
    "duration": 32,
    "start_time": "2023-04-19T09:31:48.378Z"
   },
   {
    "duration": 85,
    "start_time": "2023-04-19T09:32:18.754Z"
   },
   {
    "duration": 30,
    "start_time": "2023-04-19T09:32:21.850Z"
   },
   {
    "duration": 5,
    "start_time": "2023-04-19T09:32:22.228Z"
   },
   {
    "duration": 9,
    "start_time": "2023-04-19T09:33:55.052Z"
   },
   {
    "duration": 27,
    "start_time": "2023-04-19T09:33:56.719Z"
   },
   {
    "duration": 31,
    "start_time": "2023-04-19T09:34:07.707Z"
   },
   {
    "duration": 33,
    "start_time": "2023-04-19T09:34:15.292Z"
   },
   {
    "duration": 5,
    "start_time": "2023-04-19T09:34:18.327Z"
   },
   {
    "duration": 51,
    "start_time": "2023-04-19T09:39:59.739Z"
   },
   {
    "duration": 12,
    "start_time": "2023-04-19T09:40:18.623Z"
   },
   {
    "duration": 11,
    "start_time": "2023-04-19T09:40:28.054Z"
   },
   {
    "duration": 7,
    "start_time": "2023-04-19T09:40:38.819Z"
   },
   {
    "duration": 51,
    "start_time": "2023-04-19T09:41:32.547Z"
   },
   {
    "duration": 6,
    "start_time": "2023-04-19T09:41:36.115Z"
   },
   {
    "duration": 59,
    "start_time": "2023-04-19T09:44:01.927Z"
   },
   {
    "duration": 48,
    "start_time": "2023-04-19T09:44:12.680Z"
   },
   {
    "duration": 59,
    "start_time": "2023-04-19T09:47:33.127Z"
   },
   {
    "duration": 58,
    "start_time": "2023-04-19T09:47:37.072Z"
   },
   {
    "duration": 57,
    "start_time": "2023-04-19T09:48:16.431Z"
   },
   {
    "duration": 53,
    "start_time": "2023-04-19T09:48:28.643Z"
   },
   {
    "duration": 83,
    "start_time": "2023-04-19T09:48:53.961Z"
   },
   {
    "duration": 56,
    "start_time": "2023-04-19T09:49:10.970Z"
   },
   {
    "duration": 34,
    "start_time": "2023-04-19T09:52:00.156Z"
   },
   {
    "duration": 31,
    "start_time": "2023-04-19T09:52:08.074Z"
   },
   {
    "duration": 61,
    "start_time": "2023-04-19T09:52:45.761Z"
   },
   {
    "duration": 64,
    "start_time": "2023-04-19T09:53:11.464Z"
   },
   {
    "duration": 28,
    "start_time": "2023-04-19T09:53:23.945Z"
   },
   {
    "duration": 13,
    "start_time": "2023-04-19T09:56:39.357Z"
   },
   {
    "duration": 11,
    "start_time": "2023-04-19T09:56:44.115Z"
   },
   {
    "duration": 3,
    "start_time": "2023-04-19T09:57:08.266Z"
   },
   {
    "duration": 8,
    "start_time": "2023-04-19T09:57:15.411Z"
   },
   {
    "duration": 7,
    "start_time": "2023-04-19T09:57:37.119Z"
   },
   {
    "duration": 7,
    "start_time": "2023-04-19T10:03:56.879Z"
   },
   {
    "duration": 52,
    "start_time": "2023-04-19T10:04:23.227Z"
   },
   {
    "duration": 48,
    "start_time": "2023-04-19T10:04:27.776Z"
   },
   {
    "duration": 8,
    "start_time": "2023-04-19T10:04:41.959Z"
   },
   {
    "duration": 12,
    "start_time": "2023-04-19T10:04:46.403Z"
   },
   {
    "duration": 12,
    "start_time": "2023-04-19T10:04:50.799Z"
   },
   {
    "duration": 4,
    "start_time": "2023-04-19T10:05:52.839Z"
   },
   {
    "duration": 7,
    "start_time": "2023-04-19T10:06:05.962Z"
   },
   {
    "duration": 54,
    "start_time": "2023-04-19T10:10:07.715Z"
   },
   {
    "duration": 7,
    "start_time": "2023-04-19T10:10:47.431Z"
   },
   {
    "duration": 52,
    "start_time": "2023-04-19T10:10:51.042Z"
   },
   {
    "duration": 7,
    "start_time": "2023-04-19T10:12:24.468Z"
   },
   {
    "duration": 6,
    "start_time": "2023-04-19T11:00:48.486Z"
   },
   {
    "duration": 7,
    "start_time": "2023-04-19T11:01:10.696Z"
   },
   {
    "duration": 6,
    "start_time": "2023-04-19T11:01:15.019Z"
   },
   {
    "duration": 6,
    "start_time": "2023-04-19T11:01:21.246Z"
   },
   {
    "duration": 8,
    "start_time": "2023-04-19T11:03:22.222Z"
   },
   {
    "duration": 6,
    "start_time": "2023-04-19T11:03:32.341Z"
   },
   {
    "duration": 7,
    "start_time": "2023-04-19T11:03:46.863Z"
   },
   {
    "duration": 8,
    "start_time": "2023-04-19T11:03:59.452Z"
   },
   {
    "duration": 8,
    "start_time": "2023-04-19T11:04:03.294Z"
   },
   {
    "duration": 11,
    "start_time": "2023-04-19T11:04:08.555Z"
   },
   {
    "duration": 7,
    "start_time": "2023-04-19T11:04:12.914Z"
   },
   {
    "duration": 8,
    "start_time": "2023-04-19T11:04:44.712Z"
   },
   {
    "duration": 996,
    "start_time": "2023-04-19T11:05:12.415Z"
   },
   {
    "duration": 204,
    "start_time": "2023-04-19T11:05:13.413Z"
   },
   {
    "duration": 18,
    "start_time": "2023-04-19T11:05:13.618Z"
   },
   {
    "duration": 12,
    "start_time": "2023-04-19T11:05:13.638Z"
   },
   {
    "duration": 12,
    "start_time": "2023-04-19T11:05:13.651Z"
   },
   {
    "duration": 42,
    "start_time": "2023-04-19T11:05:13.665Z"
   },
   {
    "duration": 18,
    "start_time": "2023-04-19T11:05:13.708Z"
   },
   {
    "duration": 12,
    "start_time": "2023-04-19T11:05:13.728Z"
   },
   {
    "duration": 37,
    "start_time": "2023-04-19T11:05:13.741Z"
   },
   {
    "duration": 24,
    "start_time": "2023-04-19T11:05:13.781Z"
   },
   {
    "duration": 10,
    "start_time": "2023-04-19T11:05:13.806Z"
   },
   {
    "duration": 14,
    "start_time": "2023-04-19T11:05:13.818Z"
   },
   {
    "duration": 15,
    "start_time": "2023-04-19T11:05:13.834Z"
   },
   {
    "duration": 26,
    "start_time": "2023-04-19T11:05:13.850Z"
   },
   {
    "duration": 58,
    "start_time": "2023-04-19T11:05:13.878Z"
   },
   {
    "duration": 309,
    "start_time": "2023-04-19T11:05:13.938Z"
   },
   {
    "duration": 5,
    "start_time": "2023-04-19T11:05:14.249Z"
   },
   {
    "duration": 57,
    "start_time": "2023-04-19T11:05:14.256Z"
   },
   {
    "duration": 36,
    "start_time": "2023-04-19T11:05:14.315Z"
   },
   {
    "duration": 60,
    "start_time": "2023-04-19T11:05:14.353Z"
   },
   {
    "duration": 214,
    "start_time": "2023-04-19T11:05:14.415Z"
   },
   {
    "duration": 5,
    "start_time": "2023-04-19T11:05:14.630Z"
   },
   {
    "duration": 17,
    "start_time": "2023-04-19T11:05:14.636Z"
   },
   {
    "duration": 11,
    "start_time": "2023-04-19T11:05:14.655Z"
   },
   {
    "duration": 32,
    "start_time": "2023-04-19T11:05:14.695Z"
   },
   {
    "duration": 4,
    "start_time": "2023-04-19T11:05:14.729Z"
   },
   {
    "duration": 33,
    "start_time": "2023-04-19T11:05:14.734Z"
   },
   {
    "duration": 25,
    "start_time": "2023-04-19T11:05:14.770Z"
   },
   {
    "duration": 40,
    "start_time": "2023-04-19T11:05:14.797Z"
   },
   {
    "duration": 10,
    "start_time": "2023-04-19T11:05:14.838Z"
   },
   {
    "duration": 13,
    "start_time": "2023-04-19T11:05:14.849Z"
   },
   {
    "duration": 76,
    "start_time": "2023-04-19T11:05:14.864Z"
   },
   {
    "duration": 10,
    "start_time": "2023-04-19T11:05:14.942Z"
   },
   {
    "duration": 48,
    "start_time": "2023-04-19T11:05:14.953Z"
   },
   {
    "duration": 9,
    "start_time": "2023-04-19T11:05:15.003Z"
   },
   {
    "duration": 30,
    "start_time": "2023-04-19T11:05:15.013Z"
   },
   {
    "duration": 59,
    "start_time": "2023-04-19T11:05:15.045Z"
   },
   {
    "duration": 7,
    "start_time": "2023-04-19T11:05:15.105Z"
   },
   {
    "duration": 11,
    "start_time": "2023-04-19T11:05:15.113Z"
   },
   {
    "duration": 27,
    "start_time": "2023-04-19T11:05:15.126Z"
   },
   {
    "duration": 82,
    "start_time": "2023-04-19T11:05:31.832Z"
   },
   {
    "duration": 4,
    "start_time": "2023-04-19T11:05:44.885Z"
   },
   {
    "duration": 8,
    "start_time": "2023-04-19T11:05:51.571Z"
   },
   {
    "duration": 8,
    "start_time": "2023-04-19T11:05:58.433Z"
   },
   {
    "duration": 8,
    "start_time": "2023-04-19T11:06:02.280Z"
   },
   {
    "duration": 10,
    "start_time": "2023-04-19T11:06:09.272Z"
   },
   {
    "duration": 24,
    "start_time": "2023-04-19T11:12:01.448Z"
   },
   {
    "duration": 1208,
    "start_time": "2023-04-19T11:12:16.157Z"
   },
   {
    "duration": 26,
    "start_time": "2023-04-19T11:19:19.238Z"
   },
   {
    "duration": 5,
    "start_time": "2023-04-19T11:19:55.135Z"
   },
   {
    "duration": 5,
    "start_time": "2023-04-19T11:20:08.971Z"
   },
   {
    "duration": 1128,
    "start_time": "2023-04-19T11:21:26.576Z"
   },
   {
    "duration": 1169,
    "start_time": "2023-04-19T11:21:39.078Z"
   },
   {
    "duration": 7,
    "start_time": "2023-04-19T11:23:05.462Z"
   },
   {
    "duration": 7,
    "start_time": "2023-04-19T11:23:41.658Z"
   },
   {
    "duration": 7,
    "start_time": "2023-04-19T11:24:16.720Z"
   },
   {
    "duration": 8,
    "start_time": "2023-04-19T11:26:52.902Z"
   },
   {
    "duration": 1147,
    "start_time": "2023-04-19T11:30:31.641Z"
   },
   {
    "duration": 5,
    "start_time": "2023-04-19T11:30:39.611Z"
   },
   {
    "duration": 3,
    "start_time": "2023-04-19T11:30:53.531Z"
   },
   {
    "duration": 4,
    "start_time": "2023-04-19T11:31:11.811Z"
   },
   {
    "duration": 6,
    "start_time": "2023-04-19T11:31:17.065Z"
   },
   {
    "duration": 4,
    "start_time": "2023-04-19T11:31:22.023Z"
   },
   {
    "duration": 4,
    "start_time": "2023-04-19T11:31:52.621Z"
   },
   {
    "duration": 5,
    "start_time": "2023-04-19T11:32:00.672Z"
   },
   {
    "duration": 3,
    "start_time": "2023-04-19T11:32:05.275Z"
   },
   {
    "duration": 16,
    "start_time": "2023-04-19T11:48:25.433Z"
   },
   {
    "duration": 14,
    "start_time": "2023-04-19T11:48:40.326Z"
   },
   {
    "duration": 35,
    "start_time": "2023-04-19T11:48:51.306Z"
   },
   {
    "duration": 35,
    "start_time": "2023-04-19T11:49:43.638Z"
   },
   {
    "duration": 1254,
    "start_time": "2023-04-20T05:15:43.832Z"
   },
   {
    "duration": 545,
    "start_time": "2023-04-20T05:15:45.088Z"
   },
   {
    "duration": 19,
    "start_time": "2023-04-20T05:15:45.634Z"
   },
   {
    "duration": 12,
    "start_time": "2023-04-20T05:15:45.655Z"
   },
   {
    "duration": 27,
    "start_time": "2023-04-20T05:15:45.668Z"
   },
   {
    "duration": 17,
    "start_time": "2023-04-20T05:15:45.697Z"
   },
   {
    "duration": 22,
    "start_time": "2023-04-20T05:15:45.716Z"
   },
   {
    "duration": 11,
    "start_time": "2023-04-20T05:15:45.740Z"
   },
   {
    "duration": 35,
    "start_time": "2023-04-20T05:15:45.752Z"
   },
   {
    "duration": 27,
    "start_time": "2023-04-20T05:15:45.789Z"
   },
   {
    "duration": 16,
    "start_time": "2023-04-20T05:15:45.817Z"
   },
   {
    "duration": 15,
    "start_time": "2023-04-20T05:15:45.835Z"
   },
   {
    "duration": 17,
    "start_time": "2023-04-20T05:15:45.852Z"
   },
   {
    "duration": 8,
    "start_time": "2023-04-20T05:15:45.871Z"
   },
   {
    "duration": 29,
    "start_time": "2023-04-20T05:15:45.880Z"
   },
   {
    "duration": 323,
    "start_time": "2023-04-20T05:15:45.911Z"
   },
   {
    "duration": 4,
    "start_time": "2023-04-20T05:15:46.236Z"
   },
   {
    "duration": 36,
    "start_time": "2023-04-20T05:15:46.249Z"
   },
   {
    "duration": 32,
    "start_time": "2023-04-20T05:15:46.287Z"
   },
   {
    "duration": 52,
    "start_time": "2023-04-20T05:15:46.321Z"
   },
   {
    "duration": 222,
    "start_time": "2023-04-20T05:15:46.374Z"
   },
   {
    "duration": 5,
    "start_time": "2023-04-20T05:15:46.597Z"
   },
   {
    "duration": 18,
    "start_time": "2023-04-20T05:15:46.604Z"
   },
   {
    "duration": 32,
    "start_time": "2023-04-20T05:15:46.623Z"
   },
   {
    "duration": 33,
    "start_time": "2023-04-20T05:15:46.657Z"
   },
   {
    "duration": 5,
    "start_time": "2023-04-20T05:15:46.691Z"
   },
   {
    "duration": 53,
    "start_time": "2023-04-20T05:15:46.697Z"
   },
   {
    "duration": 4,
    "start_time": "2023-04-20T05:15:46.754Z"
   },
   {
    "duration": 44,
    "start_time": "2023-04-20T05:15:46.760Z"
   },
   {
    "duration": 10,
    "start_time": "2023-04-20T05:15:46.806Z"
   },
   {
    "duration": 31,
    "start_time": "2023-04-20T05:15:46.818Z"
   },
   {
    "duration": 58,
    "start_time": "2023-04-20T05:15:46.851Z"
   },
   {
    "duration": 11,
    "start_time": "2023-04-20T05:15:46.911Z"
   },
   {
    "duration": 49,
    "start_time": "2023-04-20T05:15:46.923Z"
   },
   {
    "duration": 7,
    "start_time": "2023-04-20T05:15:46.974Z"
   },
   {
    "duration": 9,
    "start_time": "2023-04-20T05:15:46.983Z"
   },
   {
    "duration": 78,
    "start_time": "2023-04-20T05:15:46.994Z"
   },
   {
    "duration": 8,
    "start_time": "2023-04-20T05:15:47.074Z"
   },
   {
    "duration": 9,
    "start_time": "2023-04-20T05:15:47.084Z"
   },
   {
    "duration": 17,
    "start_time": "2023-04-20T05:15:47.095Z"
   },
   {
    "duration": 23,
    "start_time": "2023-04-20T05:15:47.114Z"
   },
   {
    "duration": 17,
    "start_time": "2023-04-20T05:15:47.139Z"
   },
   {
    "duration": 51,
    "start_time": "2023-04-20T05:15:47.157Z"
   },
   {
    "duration": 13,
    "start_time": "2023-04-20T05:22:37.561Z"
   },
   {
    "duration": 38,
    "start_time": "2023-04-20T05:23:38.900Z"
   },
   {
    "duration": 55,
    "start_time": "2023-04-20T05:23:53.765Z"
   },
   {
    "duration": 72,
    "start_time": "2023-04-20T05:23:56.883Z"
   },
   {
    "duration": 8,
    "start_time": "2023-04-20T05:24:38.109Z"
   },
   {
    "duration": 5,
    "start_time": "2023-04-20T05:24:59.153Z"
   },
   {
    "duration": 1051,
    "start_time": "2023-04-20T05:38:04.887Z"
   },
   {
    "duration": 69,
    "start_time": "2023-04-20T05:38:49.598Z"
   },
   {
    "duration": 71,
    "start_time": "2023-04-20T05:39:59.362Z"
   },
   {
    "duration": 70,
    "start_time": "2023-04-20T05:40:20.515Z"
   },
   {
    "duration": 68,
    "start_time": "2023-04-20T05:43:30.633Z"
   },
   {
    "duration": 60,
    "start_time": "2023-04-20T05:43:35.052Z"
   },
   {
    "duration": 56,
    "start_time": "2023-04-20T05:44:31.985Z"
   },
   {
    "duration": 5,
    "start_time": "2023-04-20T05:44:36.436Z"
   },
   {
    "duration": 1056,
    "start_time": "2023-04-20T05:44:42.621Z"
   },
   {
    "duration": 204,
    "start_time": "2023-04-20T05:44:43.678Z"
   },
   {
    "duration": 18,
    "start_time": "2023-04-20T05:44:43.883Z"
   },
   {
    "duration": 14,
    "start_time": "2023-04-20T05:44:43.903Z"
   },
   {
    "duration": 31,
    "start_time": "2023-04-20T05:44:43.918Z"
   },
   {
    "duration": 18,
    "start_time": "2023-04-20T05:44:43.950Z"
   },
   {
    "duration": 11,
    "start_time": "2023-04-20T05:44:43.969Z"
   },
   {
    "duration": 10,
    "start_time": "2023-04-20T05:44:43.982Z"
   },
   {
    "duration": 18,
    "start_time": "2023-04-20T05:44:43.993Z"
   },
   {
    "duration": 49,
    "start_time": "2023-04-20T05:44:44.014Z"
   },
   {
    "duration": 10,
    "start_time": "2023-04-20T05:44:44.064Z"
   },
   {
    "duration": 10,
    "start_time": "2023-04-20T05:44:44.076Z"
   },
   {
    "duration": 3,
    "start_time": "2023-04-20T05:44:44.087Z"
   },
   {
    "duration": 7,
    "start_time": "2023-04-20T05:44:44.091Z"
   },
   {
    "duration": 55,
    "start_time": "2023-04-20T05:44:44.099Z"
   },
   {
    "duration": 321,
    "start_time": "2023-04-20T05:44:44.155Z"
   },
   {
    "duration": 4,
    "start_time": "2023-04-20T05:44:44.478Z"
   },
   {
    "duration": 47,
    "start_time": "2023-04-20T05:44:44.484Z"
   },
   {
    "duration": 55,
    "start_time": "2023-04-20T05:44:44.533Z"
   },
   {
    "duration": 35,
    "start_time": "2023-04-20T05:44:44.590Z"
   },
   {
    "duration": 243,
    "start_time": "2023-04-20T05:44:44.626Z"
   },
   {
    "duration": 5,
    "start_time": "2023-04-20T05:44:44.871Z"
   },
   {
    "duration": 17,
    "start_time": "2023-04-20T05:44:44.878Z"
   },
   {
    "duration": 12,
    "start_time": "2023-04-20T05:44:44.897Z"
   },
   {
    "duration": 63,
    "start_time": "2023-04-20T05:44:44.910Z"
   },
   {
    "duration": 3,
    "start_time": "2023-04-20T05:44:44.975Z"
   },
   {
    "duration": 38,
    "start_time": "2023-04-20T05:44:44.979Z"
   },
   {
    "duration": 5,
    "start_time": "2023-04-20T05:44:45.020Z"
   },
   {
    "duration": 53,
    "start_time": "2023-04-20T05:44:45.026Z"
   },
   {
    "duration": 10,
    "start_time": "2023-04-20T05:44:45.080Z"
   },
   {
    "duration": 16,
    "start_time": "2023-04-20T05:44:45.092Z"
   },
   {
    "duration": 71,
    "start_time": "2023-04-20T05:44:45.109Z"
   },
   {
    "duration": 10,
    "start_time": "2023-04-20T05:44:45.182Z"
   },
   {
    "duration": 35,
    "start_time": "2023-04-20T05:44:45.193Z"
   },
   {
    "duration": 23,
    "start_time": "2023-04-20T05:44:45.230Z"
   },
   {
    "duration": 17,
    "start_time": "2023-04-20T05:44:45.254Z"
   },
   {
    "duration": 75,
    "start_time": "2023-04-20T05:44:45.273Z"
   },
   {
    "duration": 7,
    "start_time": "2023-04-20T05:44:45.349Z"
   },
   {
    "duration": 16,
    "start_time": "2023-04-20T05:44:45.358Z"
   },
   {
    "duration": 13,
    "start_time": "2023-04-20T05:44:45.375Z"
   },
   {
    "duration": 14,
    "start_time": "2023-04-20T05:44:45.389Z"
   },
   {
    "duration": 10,
    "start_time": "2023-04-20T05:44:45.405Z"
   },
   {
    "duration": 42,
    "start_time": "2023-04-20T05:44:45.417Z"
   },
   {
    "duration": 72,
    "start_time": "2023-04-20T05:44:45.460Z"
   },
   {
    "duration": 15,
    "start_time": "2023-04-20T05:44:45.534Z"
   },
   {
    "duration": 5,
    "start_time": "2023-04-20T06:33:42.367Z"
   },
   {
    "duration": 1826,
    "start_time": "2023-04-20T06:35:18.893Z"
   },
   {
    "duration": 9,
    "start_time": "2023-04-20T06:35:27.084Z"
   },
   {
    "duration": 62,
    "start_time": "2023-04-20T09:59:24.324Z"
   },
   {
    "duration": 1328,
    "start_time": "2023-04-20T09:59:47.106Z"
   },
   {
    "duration": 999,
    "start_time": "2023-04-20T09:59:48.437Z"
   },
   {
    "duration": 23,
    "start_time": "2023-04-20T09:59:49.438Z"
   },
   {
    "duration": 15,
    "start_time": "2023-04-20T09:59:49.464Z"
   },
   {
    "duration": 15,
    "start_time": "2023-04-20T09:59:49.481Z"
   },
   {
    "duration": 41,
    "start_time": "2023-04-20T09:59:49.498Z"
   },
   {
    "duration": 14,
    "start_time": "2023-04-20T09:59:49.541Z"
   },
   {
    "duration": 14,
    "start_time": "2023-04-20T09:59:49.557Z"
   },
   {
    "duration": 51,
    "start_time": "2023-04-20T09:59:49.573Z"
   },
   {
    "duration": 28,
    "start_time": "2023-04-20T09:59:49.627Z"
   },
   {
    "duration": 13,
    "start_time": "2023-04-20T09:59:49.657Z"
   },
   {
    "duration": 15,
    "start_time": "2023-04-20T09:59:49.672Z"
   },
   {
    "duration": 31,
    "start_time": "2023-04-20T09:59:49.688Z"
   },
   {
    "duration": 20,
    "start_time": "2023-04-20T09:59:49.721Z"
   },
   {
    "duration": 42,
    "start_time": "2023-04-20T09:59:49.742Z"
   },
   {
    "duration": 372,
    "start_time": "2023-04-20T09:59:49.785Z"
   },
   {
    "duration": 4,
    "start_time": "2023-04-20T09:59:50.159Z"
   },
   {
    "duration": 53,
    "start_time": "2023-04-20T09:59:50.165Z"
   },
   {
    "duration": 36,
    "start_time": "2023-04-20T09:59:50.220Z"
   },
   {
    "duration": 33,
    "start_time": "2023-04-20T09:59:50.258Z"
   },
   {
    "duration": 265,
    "start_time": "2023-04-20T09:59:50.293Z"
   },
   {
    "duration": 6,
    "start_time": "2023-04-20T09:59:50.560Z"
   },
   {
    "duration": 24,
    "start_time": "2023-04-20T09:59:50.569Z"
   },
   {
    "duration": 26,
    "start_time": "2023-04-20T09:59:50.595Z"
   },
   {
    "duration": 35,
    "start_time": "2023-04-20T09:59:50.623Z"
   },
   {
    "duration": 5,
    "start_time": "2023-04-20T09:59:50.659Z"
   },
   {
    "duration": 60,
    "start_time": "2023-04-20T09:59:50.665Z"
   },
   {
    "duration": 4,
    "start_time": "2023-04-20T09:59:50.729Z"
   },
   {
    "duration": 55,
    "start_time": "2023-04-20T09:59:50.734Z"
   },
   {
    "duration": 10,
    "start_time": "2023-04-20T09:59:50.791Z"
   },
   {
    "duration": 26,
    "start_time": "2023-04-20T09:59:50.803Z"
   },
   {
    "duration": 64,
    "start_time": "2023-04-20T09:59:50.831Z"
   },
   {
    "duration": 24,
    "start_time": "2023-04-20T09:59:50.897Z"
   },
   {
    "duration": 33,
    "start_time": "2023-04-20T09:59:50.923Z"
   },
   {
    "duration": 9,
    "start_time": "2023-04-20T09:59:50.957Z"
   },
   {
    "duration": 13,
    "start_time": "2023-04-20T09:59:50.968Z"
   },
   {
    "duration": 92,
    "start_time": "2023-04-20T09:59:50.983Z"
   },
   {
    "duration": 8,
    "start_time": "2023-04-20T09:59:51.078Z"
   },
   {
    "duration": 27,
    "start_time": "2023-04-20T09:59:51.088Z"
   },
   {
    "duration": 30,
    "start_time": "2023-04-20T09:59:51.117Z"
   },
   {
    "duration": 11,
    "start_time": "2023-04-20T09:59:51.149Z"
   },
   {
    "duration": 12,
    "start_time": "2023-04-20T09:59:51.162Z"
   },
   {
    "duration": 67,
    "start_time": "2023-04-20T09:59:51.176Z"
   },
   {
    "duration": 105,
    "start_time": "2023-04-20T09:59:51.245Z"
   },
   {
    "duration": 5,
    "start_time": "2023-04-20T09:59:51.351Z"
   },
   {
    "duration": 3265,
    "start_time": "2023-04-20T09:59:51.358Z"
   },
   {
    "duration": 2039,
    "start_time": "2023-04-20T10:00:50.544Z"
   },
   {
    "duration": 4,
    "start_time": "2023-04-20T10:01:49.916Z"
   },
   {
    "duration": 1085,
    "start_time": "2023-04-20T10:01:52.876Z"
   },
   {
    "duration": 5,
    "start_time": "2023-04-20T10:02:05.484Z"
   },
   {
    "duration": 1530,
    "start_time": "2023-04-20T10:02:12.480Z"
   },
   {
    "duration": 2347,
    "start_time": "2023-04-20T10:02:18.335Z"
   },
   {
    "duration": 770,
    "start_time": "2023-04-20T10:07:14.806Z"
   },
   {
    "duration": 1245,
    "start_time": "2023-04-20T10:07:24.327Z"
   },
   {
    "duration": 1119,
    "start_time": "2023-04-20T10:08:04.366Z"
   },
   {
    "duration": 805,
    "start_time": "2023-04-20T10:08:07.415Z"
   },
   {
    "duration": 995,
    "start_time": "2023-04-20T10:10:15.635Z"
   },
   {
    "duration": 882,
    "start_time": "2023-04-20T10:10:21.716Z"
   },
   {
    "duration": 4,
    "start_time": "2023-04-20T10:10:51.387Z"
   },
   {
    "duration": 5,
    "start_time": "2023-04-20T10:11:10.575Z"
   },
   {
    "duration": 1093,
    "start_time": "2023-04-20T10:11:30.516Z"
   },
   {
    "duration": 4,
    "start_time": "2023-04-20T10:16:07.437Z"
   },
   {
    "duration": 4,
    "start_time": "2023-04-20T10:19:21.606Z"
   },
   {
    "duration": 5,
    "start_time": "2023-04-20T10:19:25.586Z"
   },
   {
    "duration": 61,
    "start_time": "2023-04-20T10:34:49.222Z"
   },
   {
    "duration": 9,
    "start_time": "2023-04-20T10:35:31.800Z"
   },
   {
    "duration": 14,
    "start_time": "2023-04-20T10:36:30.315Z"
   },
   {
    "duration": 3,
    "start_time": "2023-04-20T10:37:42.757Z"
   },
   {
    "duration": 14,
    "start_time": "2023-04-20T10:37:47.981Z"
   },
   {
    "duration": 2,
    "start_time": "2023-04-20T10:38:18.406Z"
   },
   {
    "duration": 5,
    "start_time": "2023-04-20T10:38:19.097Z"
   },
   {
    "duration": 9,
    "start_time": "2023-04-20T10:38:31.996Z"
   },
   {
    "duration": 8,
    "start_time": "2023-04-20T10:38:42.183Z"
   },
   {
    "duration": 3,
    "start_time": "2023-04-20T10:38:43.013Z"
   },
   {
    "duration": 9,
    "start_time": "2023-04-20T10:38:43.306Z"
   },
   {
    "duration": 8,
    "start_time": "2023-04-20T10:38:51.296Z"
   },
   {
    "duration": 3,
    "start_time": "2023-04-20T10:39:04.284Z"
   },
   {
    "duration": 3,
    "start_time": "2023-04-20T10:39:04.344Z"
   },
   {
    "duration": 3,
    "start_time": "2023-04-20T10:39:10.326Z"
   },
   {
    "duration": 8,
    "start_time": "2023-04-20T10:39:29.753Z"
   },
   {
    "duration": 2,
    "start_time": "2023-04-20T10:39:30.136Z"
   },
   {
    "duration": 12,
    "start_time": "2023-04-20T10:39:30.506Z"
   },
   {
    "duration": 9,
    "start_time": "2023-04-20T10:41:07.268Z"
   },
   {
    "duration": 3,
    "start_time": "2023-04-20T10:41:07.906Z"
   },
   {
    "duration": 12,
    "start_time": "2023-04-20T10:41:08.426Z"
   },
   {
    "duration": 9,
    "start_time": "2023-04-20T10:42:26.365Z"
   },
   {
    "duration": 11,
    "start_time": "2023-04-20T10:42:33.002Z"
   },
   {
    "duration": 10,
    "start_time": "2023-04-20T10:42:36.781Z"
   },
   {
    "duration": 8,
    "start_time": "2023-04-20T10:42:37.744Z"
   },
   {
    "duration": 3,
    "start_time": "2023-04-20T10:42:38.415Z"
   },
   {
    "duration": 10,
    "start_time": "2023-04-20T10:42:38.766Z"
   },
   {
    "duration": 1228,
    "start_time": "2023-04-20T12:30:18.241Z"
   },
   {
    "duration": 593,
    "start_time": "2023-04-20T12:30:19.471Z"
   },
   {
    "duration": 19,
    "start_time": "2023-04-20T12:30:20.065Z"
   },
   {
    "duration": 33,
    "start_time": "2023-04-20T12:30:20.086Z"
   },
   {
    "duration": 22,
    "start_time": "2023-04-20T12:30:20.122Z"
   },
   {
    "duration": 32,
    "start_time": "2023-04-20T12:30:20.145Z"
   },
   {
    "duration": 28,
    "start_time": "2023-04-20T12:30:20.178Z"
   },
   {
    "duration": 27,
    "start_time": "2023-04-20T12:30:20.208Z"
   },
   {
    "duration": 49,
    "start_time": "2023-04-20T12:30:20.236Z"
   },
   {
    "duration": 74,
    "start_time": "2023-04-20T12:30:20.287Z"
   },
   {
    "duration": 45,
    "start_time": "2023-04-20T12:30:20.363Z"
   },
   {
    "duration": 40,
    "start_time": "2023-04-20T12:30:20.410Z"
   },
   {
    "duration": 38,
    "start_time": "2023-04-20T12:30:20.451Z"
   },
   {
    "duration": 40,
    "start_time": "2023-04-20T12:30:20.492Z"
   },
   {
    "duration": 62,
    "start_time": "2023-04-20T12:30:20.534Z"
   },
   {
    "duration": 327,
    "start_time": "2023-04-20T12:30:20.597Z"
   },
   {
    "duration": 3,
    "start_time": "2023-04-20T12:30:20.927Z"
   },
   {
    "duration": 72,
    "start_time": "2023-04-20T12:30:20.931Z"
   },
   {
    "duration": 48,
    "start_time": "2023-04-20T12:30:21.004Z"
   },
   {
    "duration": 44,
    "start_time": "2023-04-20T12:30:21.054Z"
   },
   {
    "duration": 228,
    "start_time": "2023-04-20T12:30:21.100Z"
   },
   {
    "duration": 5,
    "start_time": "2023-04-20T12:30:21.330Z"
   },
   {
    "duration": 42,
    "start_time": "2023-04-20T12:30:21.337Z"
   },
   {
    "duration": 36,
    "start_time": "2023-04-20T12:30:21.381Z"
   },
   {
    "duration": 50,
    "start_time": "2023-04-20T12:30:21.419Z"
   },
   {
    "duration": 4,
    "start_time": "2023-04-20T12:30:21.471Z"
   },
   {
    "duration": 43,
    "start_time": "2023-04-20T12:30:21.476Z"
   },
   {
    "duration": 5,
    "start_time": "2023-04-20T12:30:21.520Z"
   },
   {
    "duration": 67,
    "start_time": "2023-04-20T12:30:21.527Z"
   },
   {
    "duration": 11,
    "start_time": "2023-04-20T12:30:21.596Z"
   },
   {
    "duration": 34,
    "start_time": "2023-04-20T12:30:21.609Z"
   },
   {
    "duration": 78,
    "start_time": "2023-04-20T12:30:21.645Z"
   },
   {
    "duration": 11,
    "start_time": "2023-04-20T12:30:21.725Z"
   },
   {
    "duration": 58,
    "start_time": "2023-04-20T12:30:21.737Z"
   },
   {
    "duration": 8,
    "start_time": "2023-04-20T12:30:21.796Z"
   },
   {
    "duration": 21,
    "start_time": "2023-04-20T12:30:21.805Z"
   },
   {
    "duration": 77,
    "start_time": "2023-04-20T12:30:21.828Z"
   },
   {
    "duration": 8,
    "start_time": "2023-04-20T12:30:21.906Z"
   },
   {
    "duration": 35,
    "start_time": "2023-04-20T12:30:21.915Z"
   },
   {
    "duration": 23,
    "start_time": "2023-04-20T12:30:21.951Z"
   },
   {
    "duration": 39,
    "start_time": "2023-04-20T12:30:21.977Z"
   },
   {
    "duration": 12,
    "start_time": "2023-04-20T12:30:22.017Z"
   },
   {
    "duration": 51,
    "start_time": "2023-04-20T12:30:22.031Z"
   },
   {
    "duration": 78,
    "start_time": "2023-04-20T12:30:22.083Z"
   },
   {
    "duration": 4,
    "start_time": "2023-04-20T12:30:22.163Z"
   },
   {
    "duration": 15,
    "start_time": "2023-04-20T12:30:22.168Z"
   },
   {
    "duration": 123,
    "start_time": "2023-04-20T12:30:22.184Z"
   },
   {
    "duration": 0,
    "start_time": "2023-04-20T12:30:22.308Z"
   },
   {
    "duration": 0,
    "start_time": "2023-04-20T12:30:22.310Z"
   },
   {
    "duration": 3,
    "start_time": "2023-04-20T12:30:29.842Z"
   },
   {
    "duration": 9,
    "start_time": "2023-04-20T12:30:30.078Z"
   },
   {
    "duration": 10,
    "start_time": "2023-04-20T12:40:57.080Z"
   },
   {
    "duration": 9,
    "start_time": "2023-04-20T12:42:09.634Z"
   },
   {
    "duration": 2,
    "start_time": "2023-04-20T12:42:10.849Z"
   },
   {
    "duration": 12,
    "start_time": "2023-04-20T12:42:11.017Z"
   },
   {
    "duration": 9,
    "start_time": "2023-04-20T12:42:44.799Z"
   },
   {
    "duration": 3,
    "start_time": "2023-04-20T12:42:44.951Z"
   },
   {
    "duration": 9,
    "start_time": "2023-04-20T12:42:45.160Z"
   },
   {
    "duration": 10,
    "start_time": "2023-04-20T12:42:52.579Z"
   },
   {
    "duration": 9,
    "start_time": "2023-04-20T12:43:22.229Z"
   },
   {
    "duration": 11,
    "start_time": "2023-04-20T12:43:29.718Z"
   },
   {
    "duration": 7,
    "start_time": "2023-04-20T12:48:27.609Z"
   },
   {
    "duration": 3134,
    "start_time": "2023-04-20T12:50:23.474Z"
   },
   {
    "duration": 1015,
    "start_time": "2023-04-20T12:50:40.857Z"
   },
   {
    "duration": 14,
    "start_time": "2023-04-20T12:51:51.431Z"
   },
   {
    "duration": 22,
    "start_time": "2023-04-20T12:53:09.778Z"
   },
   {
    "duration": 1323,
    "start_time": "2023-04-20T15:58:47.422Z"
   },
   {
    "duration": 882,
    "start_time": "2023-04-20T15:58:48.747Z"
   },
   {
    "duration": 24,
    "start_time": "2023-04-20T15:58:49.631Z"
   },
   {
    "duration": 13,
    "start_time": "2023-04-20T15:58:51.440Z"
   },
   {
    "duration": 25,
    "start_time": "2023-04-20T15:58:51.707Z"
   },
   {
    "duration": 21,
    "start_time": "2023-04-20T15:58:52.113Z"
   },
   {
    "duration": 16,
    "start_time": "2023-04-20T15:58:53.898Z"
   },
   {
    "duration": 19,
    "start_time": "2023-04-20T15:58:54.133Z"
   },
   {
    "duration": 34,
    "start_time": "2023-04-20T15:58:54.453Z"
   },
   {
    "duration": 35,
    "start_time": "2023-04-20T15:58:55.282Z"
   },
   {
    "duration": 25,
    "start_time": "2023-04-20T15:58:57.228Z"
   },
   {
    "duration": 12,
    "start_time": "2023-04-20T15:58:57.554Z"
   },
   {
    "duration": 4,
    "start_time": "2023-04-20T15:58:57.805Z"
   },
   {
    "duration": 8,
    "start_time": "2023-04-20T15:58:58.096Z"
   },
   {
    "duration": 1057,
    "start_time": "2023-04-20T15:59:07.885Z"
   },
   {
    "duration": 269,
    "start_time": "2023-04-20T15:59:08.944Z"
   },
   {
    "duration": 30,
    "start_time": "2023-04-20T15:59:09.218Z"
   },
   {
    "duration": 37,
    "start_time": "2023-04-20T15:59:09.250Z"
   },
   {
    "duration": 28,
    "start_time": "2023-04-20T15:59:09.289Z"
   },
   {
    "duration": 33,
    "start_time": "2023-04-20T15:59:09.319Z"
   },
   {
    "duration": 38,
    "start_time": "2023-04-20T15:59:09.354Z"
   },
   {
    "duration": 17,
    "start_time": "2023-04-20T15:59:09.395Z"
   },
   {
    "duration": 34,
    "start_time": "2023-04-20T15:59:09.416Z"
   },
   {
    "duration": 62,
    "start_time": "2023-04-20T15:59:09.453Z"
   },
   {
    "duration": 43,
    "start_time": "2023-04-20T15:59:09.517Z"
   },
   {
    "duration": 35,
    "start_time": "2023-04-20T15:59:09.562Z"
   },
   {
    "duration": 10,
    "start_time": "2023-04-20T15:59:09.601Z"
   },
   {
    "duration": 18,
    "start_time": "2023-04-20T15:59:09.615Z"
   },
   {
    "duration": 35,
    "start_time": "2023-04-20T15:59:09.635Z"
   },
   {
    "duration": 370,
    "start_time": "2023-04-20T15:59:09.672Z"
   },
   {
    "duration": 5,
    "start_time": "2023-04-20T15:59:10.044Z"
   },
   {
    "duration": 53,
    "start_time": "2023-04-20T15:59:10.051Z"
   },
   {
    "duration": 35,
    "start_time": "2023-04-20T15:59:10.106Z"
   },
   {
    "duration": 50,
    "start_time": "2023-04-20T15:59:10.142Z"
   },
   {
    "duration": 344,
    "start_time": "2023-04-20T15:59:10.193Z"
   },
   {
    "duration": 6,
    "start_time": "2023-04-20T15:59:10.540Z"
   },
   {
    "duration": 37,
    "start_time": "2023-04-20T15:59:10.548Z"
   },
   {
    "duration": 13,
    "start_time": "2023-04-20T15:59:10.588Z"
   },
   {
    "duration": 50,
    "start_time": "2023-04-20T15:59:10.604Z"
   },
   {
    "duration": 5,
    "start_time": "2023-04-20T15:59:10.657Z"
   },
   {
    "duration": 55,
    "start_time": "2023-04-20T15:59:10.685Z"
   },
   {
    "duration": 6,
    "start_time": "2023-04-20T15:59:10.742Z"
   },
   {
    "duration": 78,
    "start_time": "2023-04-20T15:59:10.750Z"
   },
   {
    "duration": 13,
    "start_time": "2023-04-20T15:59:10.830Z"
   },
   {
    "duration": 22,
    "start_time": "2023-04-20T15:59:10.845Z"
   },
   {
    "duration": 81,
    "start_time": "2023-04-20T15:59:10.869Z"
   },
   {
    "duration": 21,
    "start_time": "2023-04-20T15:59:10.952Z"
   },
   {
    "duration": 40,
    "start_time": "2023-04-20T15:59:10.975Z"
   },
   {
    "duration": 9,
    "start_time": "2023-04-20T15:59:11.016Z"
   },
   {
    "duration": 14,
    "start_time": "2023-04-20T15:59:11.027Z"
   },
   {
    "duration": 93,
    "start_time": "2023-04-20T15:59:11.043Z"
   },
   {
    "duration": 12,
    "start_time": "2023-04-20T15:59:11.138Z"
   },
   {
    "duration": 9,
    "start_time": "2023-04-20T15:59:11.155Z"
   },
   {
    "duration": 25,
    "start_time": "2023-04-20T15:59:11.170Z"
   },
   {
    "duration": 14,
    "start_time": "2023-04-20T15:59:11.197Z"
   },
   {
    "duration": 5,
    "start_time": "2023-04-20T15:59:11.213Z"
   },
   {
    "duration": 76,
    "start_time": "2023-04-20T15:59:11.220Z"
   },
   {
    "duration": 127,
    "start_time": "2023-04-20T15:59:11.298Z"
   },
   {
    "duration": 7,
    "start_time": "2023-04-20T15:59:11.427Z"
   },
   {
    "duration": 14,
    "start_time": "2023-04-20T15:59:11.437Z"
   },
   {
    "duration": 6,
    "start_time": "2023-04-20T15:59:11.453Z"
   },
   {
    "duration": 37,
    "start_time": "2023-04-20T15:59:11.461Z"
   },
   {
    "duration": 16,
    "start_time": "2023-04-20T15:59:11.500Z"
   },
   {
    "duration": 14,
    "start_time": "2023-04-20T15:59:11.518Z"
   },
   {
    "duration": 8,
    "start_time": "2023-04-20T15:59:11.534Z"
   },
   {
    "duration": 171,
    "start_time": "2023-04-20T15:59:11.544Z"
   },
   {
    "duration": 13,
    "start_time": "2023-04-20T15:59:51.731Z"
   },
   {
    "duration": 13,
    "start_time": "2023-04-20T16:53:43.949Z"
   },
   {
    "duration": 14,
    "start_time": "2023-04-20T16:54:39.329Z"
   },
   {
    "duration": 11,
    "start_time": "2023-04-20T16:54:56.347Z"
   },
   {
    "duration": 12,
    "start_time": "2023-04-20T16:55:07.846Z"
   },
   {
    "duration": 13,
    "start_time": "2023-04-20T16:55:12.746Z"
   },
   {
    "duration": 16,
    "start_time": "2023-04-20T16:55:13.394Z"
   },
   {
    "duration": 16,
    "start_time": "2023-04-20T16:55:36.613Z"
   },
   {
    "duration": 1266,
    "start_time": "2023-04-20T18:24:49.596Z"
   },
   {
    "duration": 594,
    "start_time": "2023-04-20T18:24:50.864Z"
   },
   {
    "duration": 22,
    "start_time": "2023-04-20T18:24:51.460Z"
   },
   {
    "duration": 26,
    "start_time": "2023-04-20T18:24:51.484Z"
   },
   {
    "duration": 15,
    "start_time": "2023-04-20T18:24:51.512Z"
   },
   {
    "duration": 36,
    "start_time": "2023-04-20T18:24:51.528Z"
   },
   {
    "duration": 17,
    "start_time": "2023-04-20T18:24:51.566Z"
   },
   {
    "duration": 26,
    "start_time": "2023-04-20T18:24:51.585Z"
   },
   {
    "duration": 56,
    "start_time": "2023-04-20T18:24:51.612Z"
   },
   {
    "duration": 47,
    "start_time": "2023-04-20T18:24:51.670Z"
   },
   {
    "duration": 19,
    "start_time": "2023-04-20T18:24:51.719Z"
   },
   {
    "duration": 29,
    "start_time": "2023-04-20T18:24:51.740Z"
   },
   {
    "duration": 34,
    "start_time": "2023-04-20T18:24:51.771Z"
   },
   {
    "duration": 15,
    "start_time": "2023-04-20T18:24:51.809Z"
   },
   {
    "duration": 31,
    "start_time": "2023-04-20T18:24:51.826Z"
   },
   {
    "duration": 330,
    "start_time": "2023-04-20T18:24:51.858Z"
   },
   {
    "duration": 4,
    "start_time": "2023-04-20T18:24:52.190Z"
   },
   {
    "duration": 56,
    "start_time": "2023-04-20T18:24:52.196Z"
   },
   {
    "duration": 43,
    "start_time": "2023-04-20T18:24:52.254Z"
   },
   {
    "duration": 37,
    "start_time": "2023-04-20T18:24:52.298Z"
   },
   {
    "duration": 235,
    "start_time": "2023-04-20T18:24:52.337Z"
   },
   {
    "duration": 12,
    "start_time": "2023-04-20T18:24:52.574Z"
   },
   {
    "duration": 27,
    "start_time": "2023-04-20T18:24:52.588Z"
   },
   {
    "duration": 21,
    "start_time": "2023-04-20T18:24:52.617Z"
   },
   {
    "duration": 61,
    "start_time": "2023-04-20T18:24:52.640Z"
   },
   {
    "duration": 4,
    "start_time": "2023-04-20T18:24:52.703Z"
   },
   {
    "duration": 62,
    "start_time": "2023-04-20T18:24:52.709Z"
   },
   {
    "duration": 5,
    "start_time": "2023-04-20T18:24:52.772Z"
   },
   {
    "duration": 47,
    "start_time": "2023-04-20T18:24:52.779Z"
   },
   {
    "duration": 13,
    "start_time": "2023-04-20T18:24:52.828Z"
   },
   {
    "duration": 41,
    "start_time": "2023-04-20T18:24:52.843Z"
   },
   {
    "duration": 65,
    "start_time": "2023-04-20T18:24:52.886Z"
   },
   {
    "duration": 14,
    "start_time": "2023-04-20T18:24:52.953Z"
   },
   {
    "duration": 44,
    "start_time": "2023-04-20T18:24:52.968Z"
   },
   {
    "duration": 8,
    "start_time": "2023-04-20T18:24:53.014Z"
   },
   {
    "duration": 23,
    "start_time": "2023-04-20T18:24:53.023Z"
   },
   {
    "duration": 89,
    "start_time": "2023-04-20T18:24:53.047Z"
   },
   {
    "duration": 8,
    "start_time": "2023-04-20T18:24:53.138Z"
   },
   {
    "duration": 20,
    "start_time": "2023-04-20T18:24:53.148Z"
   },
   {
    "duration": 22,
    "start_time": "2023-04-20T18:24:53.169Z"
   },
   {
    "duration": 16,
    "start_time": "2023-04-20T18:24:53.195Z"
   },
   {
    "duration": 31,
    "start_time": "2023-04-20T18:24:53.213Z"
   },
   {
    "duration": 69,
    "start_time": "2023-04-20T18:24:53.246Z"
   },
   {
    "duration": 110,
    "start_time": "2023-04-20T18:24:53.317Z"
   },
   {
    "duration": 5,
    "start_time": "2023-04-20T18:24:53.430Z"
   },
   {
    "duration": 19,
    "start_time": "2023-04-20T18:24:53.437Z"
   },
   {
    "duration": 45,
    "start_time": "2023-04-20T18:24:53.458Z"
   },
   {
    "duration": 27,
    "start_time": "2023-04-20T18:24:53.506Z"
   },
   {
    "duration": 32,
    "start_time": "2023-04-20T18:24:53.535Z"
   },
   {
    "duration": 29,
    "start_time": "2023-04-20T18:24:53.569Z"
   },
   {
    "duration": 9,
    "start_time": "2023-04-20T18:24:53.601Z"
   },
   {
    "duration": 81,
    "start_time": "2023-04-20T18:24:53.613Z"
   },
   {
    "duration": 11,
    "start_time": "2023-04-20T18:26:41.485Z"
   },
   {
    "duration": 11,
    "start_time": "2023-04-20T18:30:33.559Z"
   },
   {
    "duration": 12,
    "start_time": "2023-04-20T18:31:05.104Z"
   },
   {
    "duration": 10,
    "start_time": "2023-04-20T18:31:09.107Z"
   },
   {
    "duration": 10,
    "start_time": "2023-04-20T18:49:35.186Z"
   },
   {
    "duration": 10,
    "start_time": "2023-04-20T18:49:52.816Z"
   },
   {
    "duration": 10,
    "start_time": "2023-04-20T18:50:02.442Z"
   },
   {
    "duration": 11,
    "start_time": "2023-04-20T18:50:08.875Z"
   },
   {
    "duration": 1189,
    "start_time": "2023-04-20T19:32:23.084Z"
   },
   {
    "duration": 456,
    "start_time": "2023-04-20T19:32:24.277Z"
   },
   {
    "duration": 28,
    "start_time": "2023-04-20T19:32:24.736Z"
   },
   {
    "duration": 20,
    "start_time": "2023-04-20T19:32:24.767Z"
   },
   {
    "duration": 61,
    "start_time": "2023-04-20T19:32:24.788Z"
   },
   {
    "duration": 26,
    "start_time": "2023-04-20T19:32:24.851Z"
   },
   {
    "duration": 34,
    "start_time": "2023-04-20T19:32:24.879Z"
   },
   {
    "duration": 28,
    "start_time": "2023-04-20T19:32:24.915Z"
   },
   {
    "duration": 43,
    "start_time": "2023-04-20T19:32:24.945Z"
   },
   {
    "duration": 40,
    "start_time": "2023-04-20T19:32:24.992Z"
   },
   {
    "duration": 16,
    "start_time": "2023-04-20T19:32:25.033Z"
   },
   {
    "duration": 20,
    "start_time": "2023-04-20T19:32:25.051Z"
   },
   {
    "duration": 21,
    "start_time": "2023-04-20T19:32:25.073Z"
   },
   {
    "duration": 30,
    "start_time": "2023-04-20T19:32:25.096Z"
   },
   {
    "duration": 34,
    "start_time": "2023-04-20T19:32:25.128Z"
   },
   {
    "duration": 381,
    "start_time": "2023-04-20T19:32:25.168Z"
   },
   {
    "duration": 4,
    "start_time": "2023-04-20T19:32:25.550Z"
   },
   {
    "duration": 55,
    "start_time": "2023-04-20T19:32:25.555Z"
   },
   {
    "duration": 47,
    "start_time": "2023-04-20T19:32:25.611Z"
   },
   {
    "duration": 51,
    "start_time": "2023-04-20T19:32:25.660Z"
   },
   {
    "duration": 249,
    "start_time": "2023-04-20T19:32:25.713Z"
   },
   {
    "duration": 5,
    "start_time": "2023-04-20T19:32:25.964Z"
   },
   {
    "duration": 30,
    "start_time": "2023-04-20T19:32:25.970Z"
   },
   {
    "duration": 12,
    "start_time": "2023-04-20T19:32:26.002Z"
   },
   {
    "duration": 40,
    "start_time": "2023-04-20T19:32:26.015Z"
   },
   {
    "duration": 4,
    "start_time": "2023-04-20T19:32:26.057Z"
   },
   {
    "duration": 58,
    "start_time": "2023-04-20T19:32:26.063Z"
   },
   {
    "duration": 5,
    "start_time": "2023-04-20T19:32:26.125Z"
   },
   {
    "duration": 44,
    "start_time": "2023-04-20T19:32:26.132Z"
   },
   {
    "duration": 12,
    "start_time": "2023-04-20T19:32:26.184Z"
   },
   {
    "duration": 20,
    "start_time": "2023-04-20T19:32:26.198Z"
   },
   {
    "duration": 71,
    "start_time": "2023-04-20T19:32:26.221Z"
   },
   {
    "duration": 13,
    "start_time": "2023-04-20T19:32:26.294Z"
   },
   {
    "duration": 49,
    "start_time": "2023-04-20T19:32:26.308Z"
   },
   {
    "duration": 8,
    "start_time": "2023-04-20T19:32:26.358Z"
   },
   {
    "duration": 33,
    "start_time": "2023-04-20T19:32:26.367Z"
   },
   {
    "duration": 68,
    "start_time": "2023-04-20T19:32:26.402Z"
   },
   {
    "duration": 8,
    "start_time": "2023-04-20T19:32:26.472Z"
   },
   {
    "duration": 44,
    "start_time": "2023-04-20T19:32:26.482Z"
   },
   {
    "duration": 25,
    "start_time": "2023-04-20T19:32:26.527Z"
   },
   {
    "duration": 18,
    "start_time": "2023-04-20T19:32:26.554Z"
   },
   {
    "duration": 16,
    "start_time": "2023-04-20T19:32:26.574Z"
   },
   {
    "duration": 46,
    "start_time": "2023-04-20T19:32:26.592Z"
   },
   {
    "duration": 74,
    "start_time": "2023-04-20T19:32:26.640Z"
   },
   {
    "duration": 4,
    "start_time": "2023-04-20T19:32:26.715Z"
   },
   {
    "duration": 13,
    "start_time": "2023-04-20T19:32:26.721Z"
   },
   {
    "duration": 19,
    "start_time": "2023-04-20T19:32:26.736Z"
   },
   {
    "duration": 25,
    "start_time": "2023-04-20T19:32:26.756Z"
   },
   {
    "duration": 25,
    "start_time": "2023-04-20T19:32:26.782Z"
   },
   {
    "duration": 33,
    "start_time": "2023-04-20T19:32:26.809Z"
   },
   {
    "duration": 25,
    "start_time": "2023-04-20T19:32:26.844Z"
   },
   {
    "duration": 25,
    "start_time": "2023-04-20T19:32:26.870Z"
   },
   {
    "duration": 27,
    "start_time": "2023-04-20T19:32:26.897Z"
   },
   {
    "duration": 28,
    "start_time": "2023-04-20T19:32:26.925Z"
   },
   {
    "duration": 42,
    "start_time": "2023-04-20T19:32:26.955Z"
   },
   {
    "duration": 22,
    "start_time": "2023-04-20T19:32:27.001Z"
   },
   {
    "duration": 1348,
    "start_time": "2023-04-21T13:42:06.983Z"
   },
   {
    "duration": 581,
    "start_time": "2023-04-21T13:42:08.334Z"
   },
   {
    "duration": 21,
    "start_time": "2023-04-21T13:42:08.917Z"
   },
   {
    "duration": 31,
    "start_time": "2023-04-21T13:42:08.941Z"
   },
   {
    "duration": 17,
    "start_time": "2023-04-21T13:42:08.974Z"
   },
   {
    "duration": 22,
    "start_time": "2023-04-21T13:42:08.993Z"
   },
   {
    "duration": 24,
    "start_time": "2023-04-21T13:42:09.017Z"
   },
   {
    "duration": 15,
    "start_time": "2023-04-21T13:42:09.044Z"
   },
   {
    "duration": 27,
    "start_time": "2023-04-21T13:42:09.061Z"
   },
   {
    "duration": 28,
    "start_time": "2023-04-21T13:42:09.091Z"
   },
   {
    "duration": 31,
    "start_time": "2023-04-21T13:42:09.121Z"
   },
   {
    "duration": 13,
    "start_time": "2023-04-21T13:42:09.155Z"
   },
   {
    "duration": 5,
    "start_time": "2023-04-21T13:42:09.170Z"
   },
   {
    "duration": 11,
    "start_time": "2023-04-21T13:42:09.177Z"
   },
   {
    "duration": 69,
    "start_time": "2023-04-21T13:42:09.190Z"
   },
   {
    "duration": 358,
    "start_time": "2023-04-21T13:42:09.261Z"
   },
   {
    "duration": 4,
    "start_time": "2023-04-21T13:42:09.621Z"
   },
   {
    "duration": 44,
    "start_time": "2023-04-21T13:42:09.640Z"
   },
   {
    "duration": 38,
    "start_time": "2023-04-21T13:42:09.686Z"
   },
   {
    "duration": 35,
    "start_time": "2023-04-21T13:42:09.742Z"
   },
   {
    "duration": 266,
    "start_time": "2023-04-21T13:42:09.779Z"
   },
   {
    "duration": 6,
    "start_time": "2023-04-21T13:42:10.047Z"
   },
   {
    "duration": 25,
    "start_time": "2023-04-21T13:42:10.055Z"
   },
   {
    "duration": 13,
    "start_time": "2023-04-21T13:42:10.082Z"
   },
   {
    "duration": 70,
    "start_time": "2023-04-21T13:42:10.097Z"
   },
   {
    "duration": 5,
    "start_time": "2023-04-21T13:42:10.169Z"
   },
   {
    "duration": 44,
    "start_time": "2023-04-21T13:42:10.177Z"
   },
   {
    "duration": 6,
    "start_time": "2023-04-21T13:42:10.240Z"
   },
   {
    "duration": 46,
    "start_time": "2023-04-21T13:42:10.249Z"
   },
   {
    "duration": 14,
    "start_time": "2023-04-21T13:42:10.297Z"
   },
   {
    "duration": 17,
    "start_time": "2023-04-21T13:42:10.340Z"
   },
   {
    "duration": 67,
    "start_time": "2023-04-21T13:42:10.358Z"
   },
   {
    "duration": 23,
    "start_time": "2023-04-21T13:42:10.427Z"
   },
   {
    "duration": 41,
    "start_time": "2023-04-21T13:42:10.452Z"
   },
   {
    "duration": 9,
    "start_time": "2023-04-21T13:42:10.495Z"
   },
   {
    "duration": 11,
    "start_time": "2023-04-21T13:42:10.505Z"
   },
   {
    "duration": 85,
    "start_time": "2023-04-21T13:42:10.518Z"
   },
   {
    "duration": 9,
    "start_time": "2023-04-21T13:42:10.605Z"
   },
   {
    "duration": 29,
    "start_time": "2023-04-21T13:42:10.616Z"
   },
   {
    "duration": 16,
    "start_time": "2023-04-21T13:42:10.647Z"
   },
   {
    "duration": 14,
    "start_time": "2023-04-21T13:42:10.665Z"
   },
   {
    "duration": 12,
    "start_time": "2023-04-21T13:42:10.681Z"
   },
   {
    "duration": 62,
    "start_time": "2023-04-21T13:42:10.695Z"
   },
   {
    "duration": 94,
    "start_time": "2023-04-21T13:42:10.759Z"
   },
   {
    "duration": 5,
    "start_time": "2023-04-21T13:42:10.855Z"
   },
   {
    "duration": 10,
    "start_time": "2023-04-21T13:42:10.863Z"
   },
   {
    "duration": 23,
    "start_time": "2023-04-21T13:42:10.875Z"
   },
   {
    "duration": 20,
    "start_time": "2023-04-21T13:42:10.900Z"
   },
   {
    "duration": 21,
    "start_time": "2023-04-21T13:42:10.923Z"
   },
   {
    "duration": 22,
    "start_time": "2023-04-21T13:42:10.946Z"
   },
   {
    "duration": 9,
    "start_time": "2023-04-21T13:42:10.970Z"
   },
   {
    "duration": 36,
    "start_time": "2023-04-21T13:42:10.981Z"
   },
   {
    "duration": 31,
    "start_time": "2023-04-21T13:42:11.019Z"
   },
   {
    "duration": 29,
    "start_time": "2023-04-21T13:42:11.052Z"
   },
   {
    "duration": 32,
    "start_time": "2023-04-21T13:42:11.083Z"
   },
   {
    "duration": 25,
    "start_time": "2023-04-21T13:42:11.116Z"
   },
   {
    "duration": 79,
    "start_time": "2023-04-21T13:52:24.031Z"
   },
   {
    "duration": 42,
    "start_time": "2023-04-21T13:53:13.736Z"
   },
   {
    "duration": 1134,
    "start_time": "2023-04-21T14:33:10.756Z"
   },
   {
    "duration": 1035,
    "start_time": "2023-04-21T14:33:14.109Z"
   },
   {
    "duration": 21,
    "start_time": "2023-04-21T14:33:15.146Z"
   },
   {
    "duration": 12,
    "start_time": "2023-04-21T14:33:18.049Z"
   },
   {
    "duration": 13,
    "start_time": "2023-04-21T14:33:18.370Z"
   },
   {
    "duration": 20,
    "start_time": "2023-04-21T14:33:21.122Z"
   },
   {
    "duration": 13,
    "start_time": "2023-04-21T14:33:21.844Z"
   },
   {
    "duration": 12,
    "start_time": "2023-04-21T14:33:23.011Z"
   },
   {
    "duration": 17,
    "start_time": "2023-04-21T14:33:23.792Z"
   },
   {
    "duration": 23,
    "start_time": "2023-04-21T14:33:31.318Z"
   },
   {
    "duration": 59,
    "start_time": "2023-04-21T14:34:10.425Z"
   },
   {
    "duration": 3,
    "start_time": "2023-04-21T14:35:50.271Z"
   },
   {
    "duration": 3,
    "start_time": "2023-04-21T14:36:00.316Z"
   },
   {
    "duration": 5,
    "start_time": "2023-04-21T14:36:10.059Z"
   },
   {
    "duration": 70,
    "start_time": "2023-04-21T14:37:45.214Z"
   },
   {
    "duration": 1349,
    "start_time": "2023-04-21T14:37:58.631Z"
   },
   {
    "duration": 75,
    "start_time": "2023-04-21T14:38:14.560Z"
   },
   {
    "duration": 144,
    "start_time": "2023-04-21T14:40:25.088Z"
   },
   {
    "duration": 58,
    "start_time": "2023-04-21T14:41:12.400Z"
   },
   {
    "duration": 78,
    "start_time": "2023-04-21T14:41:49.834Z"
   },
   {
    "duration": 14,
    "start_time": "2023-04-21T14:42:01.829Z"
   },
   {
    "duration": 73,
    "start_time": "2023-04-21T14:42:14.885Z"
   },
   {
    "duration": 67,
    "start_time": "2023-04-21T14:42:25.622Z"
   },
   {
    "duration": 77,
    "start_time": "2023-04-21T14:42:28.536Z"
   },
   {
    "duration": 38,
    "start_time": "2023-04-21T14:45:59.336Z"
   },
   {
    "duration": 1216,
    "start_time": "2023-04-21T14:46:28.014Z"
   },
   {
    "duration": 6,
    "start_time": "2023-04-21T14:46:43.011Z"
   },
   {
    "duration": 8,
    "start_time": "2023-04-21T14:50:22.873Z"
   },
   {
    "duration": 12,
    "start_time": "2023-04-21T14:50:36.246Z"
   },
   {
    "duration": 9,
    "start_time": "2023-04-21T14:51:00.148Z"
   },
   {
    "duration": 10,
    "start_time": "2023-04-21T14:51:16.504Z"
   },
   {
    "duration": 6,
    "start_time": "2023-04-21T14:51:20.563Z"
   },
   {
    "duration": 35,
    "start_time": "2023-04-21T14:54:35.136Z"
   },
   {
    "duration": 35,
    "start_time": "2023-04-21T14:54:38.335Z"
   },
   {
    "duration": 37,
    "start_time": "2023-04-21T14:54:41.561Z"
   },
   {
    "duration": 34,
    "start_time": "2023-04-21T14:54:47.973Z"
   },
   {
    "duration": 33,
    "start_time": "2023-04-21T14:55:10.518Z"
   },
   {
    "duration": 41,
    "start_time": "2023-04-21T14:55:14.417Z"
   },
   {
    "duration": 47,
    "start_time": "2023-04-21T14:57:57.122Z"
   },
   {
    "duration": 38,
    "start_time": "2023-04-21T14:58:14.716Z"
   },
   {
    "duration": 37,
    "start_time": "2023-04-21T14:58:32.747Z"
   },
   {
    "duration": 35,
    "start_time": "2023-04-21T14:58:38.339Z"
   },
   {
    "duration": 45,
    "start_time": "2023-04-21T14:58:45.437Z"
   },
   {
    "duration": 52,
    "start_time": "2023-04-21T14:58:52.538Z"
   },
   {
    "duration": 41,
    "start_time": "2023-04-21T14:59:33.749Z"
   },
   {
    "duration": 35,
    "start_time": "2023-04-21T14:59:39.467Z"
   },
   {
    "duration": 10,
    "start_time": "2023-04-21T15:00:31.863Z"
   },
   {
    "duration": 8,
    "start_time": "2023-04-21T15:00:32.044Z"
   },
   {
    "duration": 4,
    "start_time": "2023-04-21T15:00:32.218Z"
   },
   {
    "duration": 4,
    "start_time": "2023-04-21T15:01:30.558Z"
   },
   {
    "duration": 9,
    "start_time": "2023-04-21T15:02:00.862Z"
   },
   {
    "duration": 13,
    "start_time": "2023-04-21T15:02:55.978Z"
   },
   {
    "duration": 16,
    "start_time": "2023-04-21T15:03:19.072Z"
   },
   {
    "duration": 13,
    "start_time": "2023-04-21T15:04:41.560Z"
   },
   {
    "duration": 17,
    "start_time": "2023-04-21T15:05:51.269Z"
   },
   {
    "duration": 21,
    "start_time": "2023-04-21T15:06:09.037Z"
   },
   {
    "duration": 27,
    "start_time": "2023-04-21T15:06:27.176Z"
   },
   {
    "duration": 25,
    "start_time": "2023-04-21T15:07:23.635Z"
   },
   {
    "duration": 29,
    "start_time": "2023-04-21T15:08:09.143Z"
   },
   {
    "duration": 40,
    "start_time": "2023-04-21T15:08:15.349Z"
   },
   {
    "duration": 9,
    "start_time": "2023-04-21T15:09:03.320Z"
   },
   {
    "duration": 23,
    "start_time": "2023-04-21T15:09:07.549Z"
   },
   {
    "duration": 27,
    "start_time": "2023-04-21T15:09:17.267Z"
   },
   {
    "duration": 11,
    "start_time": "2023-04-21T15:09:17.868Z"
   },
   {
    "duration": 109,
    "start_time": "2023-04-21T15:09:49.487Z"
   },
   {
    "duration": 148,
    "start_time": "2023-04-21T15:10:27.106Z"
   },
   {
    "duration": 140,
    "start_time": "2023-04-21T15:10:31.095Z"
   },
   {
    "duration": 7,
    "start_time": "2023-04-21T15:11:10.699Z"
   },
   {
    "duration": 7,
    "start_time": "2023-04-21T15:21:19.614Z"
   },
   {
    "duration": 81,
    "start_time": "2023-04-21T15:22:07.226Z"
   },
   {
    "duration": 35,
    "start_time": "2023-04-21T15:22:29.610Z"
   },
   {
    "duration": 290,
    "start_time": "2023-04-21T15:22:30.142Z"
   },
   {
    "duration": 5,
    "start_time": "2023-04-21T15:22:30.716Z"
   },
   {
    "duration": 41,
    "start_time": "2023-04-21T15:22:31.471Z"
   },
   {
    "duration": 31,
    "start_time": "2023-04-21T15:22:31.715Z"
   },
   {
    "duration": 27,
    "start_time": "2023-04-21T15:22:32.241Z"
   },
   {
    "duration": 205,
    "start_time": "2023-04-21T15:22:33.058Z"
   },
   {
    "duration": 6,
    "start_time": "2023-04-21T15:22:33.433Z"
   },
   {
    "duration": 17,
    "start_time": "2023-04-21T15:22:35.772Z"
   },
   {
    "duration": 11,
    "start_time": "2023-04-21T15:22:35.925Z"
   },
   {
    "duration": 32,
    "start_time": "2023-04-21T15:22:36.234Z"
   },
   {
    "duration": 5,
    "start_time": "2023-04-21T15:22:36.366Z"
   },
   {
    "duration": 37,
    "start_time": "2023-04-21T15:22:36.683Z"
   },
   {
    "duration": 4,
    "start_time": "2023-04-21T15:22:36.824Z"
   },
   {
    "duration": 33,
    "start_time": "2023-04-21T15:22:37.121Z"
   },
   {
    "duration": 11,
    "start_time": "2023-04-21T15:22:55.155Z"
   },
   {
    "duration": 14,
    "start_time": "2023-04-21T15:22:57.210Z"
   },
   {
    "duration": 55,
    "start_time": "2023-04-21T15:22:57.417Z"
   },
   {
    "duration": 10,
    "start_time": "2023-04-21T15:22:57.630Z"
   },
   {
    "duration": 40,
    "start_time": "2023-04-21T15:22:58.072Z"
   },
   {
    "duration": 8,
    "start_time": "2023-04-21T15:22:59.916Z"
   },
   {
    "duration": 7,
    "start_time": "2023-04-21T15:23:04.584Z"
   },
   {
    "duration": 58,
    "start_time": "2023-04-21T15:23:07.532Z"
   },
   {
    "duration": 7,
    "start_time": "2023-04-21T15:23:07.912Z"
   },
   {
    "duration": 8,
    "start_time": "2023-04-21T15:25:04.822Z"
   },
   {
    "duration": 13,
    "start_time": "2023-04-21T15:25:19.883Z"
   },
   {
    "duration": 8,
    "start_time": "2023-04-21T15:25:24.531Z"
   },
   {
    "duration": 8,
    "start_time": "2023-04-21T15:25:36.561Z"
   },
   {
    "duration": 1484,
    "start_time": "2023-04-21T15:25:44.481Z"
   },
   {
    "duration": 6,
    "start_time": "2023-04-21T15:25:58.979Z"
   },
   {
    "duration": 10,
    "start_time": "2023-04-21T15:26:45.747Z"
   },
   {
    "duration": 9,
    "start_time": "2023-04-21T15:26:52.755Z"
   },
   {
    "duration": 86,
    "start_time": "2023-04-21T15:27:26.594Z"
   },
   {
    "duration": 96,
    "start_time": "2023-04-21T15:28:04.836Z"
   },
   {
    "duration": 4,
    "start_time": "2023-04-21T15:28:38.177Z"
   },
   {
    "duration": 8,
    "start_time": "2023-04-21T15:28:44.182Z"
   },
   {
    "duration": 6,
    "start_time": "2023-04-21T15:28:48.735Z"
   },
   {
    "duration": 9,
    "start_time": "2023-04-21T15:29:07.822Z"
   },
   {
    "duration": 7,
    "start_time": "2023-04-21T15:32:17.119Z"
   },
   {
    "duration": 9,
    "start_time": "2023-04-21T15:32:19.418Z"
   },
   {
    "duration": 6,
    "start_time": "2023-04-21T15:32:22.917Z"
   },
   {
    "duration": 3,
    "start_time": "2023-04-21T15:32:32.767Z"
   },
   {
    "duration": 94,
    "start_time": "2023-04-21T15:36:22.313Z"
   },
   {
    "duration": 11,
    "start_time": "2023-04-21T15:39:22.629Z"
   },
   {
    "duration": 32,
    "start_time": "2023-04-21T15:39:52.382Z"
   },
   {
    "duration": 27,
    "start_time": "2023-04-21T15:41:00.689Z"
   },
   {
    "duration": 11,
    "start_time": "2023-04-21T15:44:55.364Z"
   },
   {
    "duration": 11,
    "start_time": "2023-04-21T15:45:07.531Z"
   },
   {
    "duration": 4,
    "start_time": "2023-04-21T15:45:17.722Z"
   },
   {
    "duration": 1543,
    "start_time": "2023-04-21T15:45:20.685Z"
   },
   {
    "duration": 1372,
    "start_time": "2023-04-21T15:45:30.803Z"
   },
   {
    "duration": 1263,
    "start_time": "2023-04-21T15:45:57.730Z"
   },
   {
    "duration": 37,
    "start_time": "2023-04-21T15:46:35.430Z"
   },
   {
    "duration": 68,
    "start_time": "2023-04-21T15:46:36.508Z"
   },
   {
    "duration": 6,
    "start_time": "2023-04-21T15:46:38.523Z"
   },
   {
    "duration": 2430,
    "start_time": "2023-04-21T15:49:59.813Z"
   },
   {
    "duration": 437,
    "start_time": "2023-04-21T15:51:16.318Z"
   },
   {
    "duration": 8,
    "start_time": "2023-04-21T15:51:27.137Z"
   },
   {
    "duration": 55,
    "start_time": "2023-04-21T15:51:32.015Z"
   },
   {
    "duration": 62,
    "start_time": "2023-04-21T16:05:25.344Z"
   },
   {
    "duration": 10,
    "start_time": "2023-04-21T16:05:31.207Z"
   },
   {
    "duration": 12,
    "start_time": "2023-04-21T16:05:34.026Z"
   },
   {
    "duration": 10,
    "start_time": "2023-04-21T16:05:36.272Z"
   },
   {
    "duration": 10,
    "start_time": "2023-04-21T16:05:37.974Z"
   },
   {
    "duration": 11,
    "start_time": "2023-04-21T16:05:40.889Z"
   },
   {
    "duration": 11,
    "start_time": "2023-04-21T16:05:42.073Z"
   },
   {
    "duration": 11,
    "start_time": "2023-04-21T16:05:42.657Z"
   },
   {
    "duration": 11,
    "start_time": "2023-04-21T16:05:45.150Z"
   },
   {
    "duration": 11,
    "start_time": "2023-04-21T16:05:45.349Z"
   },
   {
    "duration": 11,
    "start_time": "2023-04-21T16:05:47.644Z"
   },
   {
    "duration": 8,
    "start_time": "2023-04-21T16:10:01.139Z"
   },
   {
    "duration": 3,
    "start_time": "2023-04-21T16:10:01.520Z"
   },
   {
    "duration": 8,
    "start_time": "2023-04-21T16:10:02.716Z"
   },
   {
    "duration": 9,
    "start_time": "2023-04-21T16:10:07.050Z"
   },
   {
    "duration": 9,
    "start_time": "2023-04-21T16:10:07.180Z"
   },
   {
    "duration": 7,
    "start_time": "2023-04-21T16:10:07.476Z"
   },
   {
    "duration": 8,
    "start_time": "2023-04-21T16:10:07.626Z"
   },
   {
    "duration": 10,
    "start_time": "2023-04-21T16:10:07.783Z"
   },
   {
    "duration": 8,
    "start_time": "2023-04-21T16:10:08.089Z"
   },
   {
    "duration": 9,
    "start_time": "2023-04-21T16:10:08.613Z"
   },
   {
    "duration": 10,
    "start_time": "2023-04-21T16:10:08.771Z"
   },
   {
    "duration": 15,
    "start_time": "2023-04-21T16:10:47.006Z"
   },
   {
    "duration": 14,
    "start_time": "2023-04-21T16:10:55.979Z"
   },
   {
    "duration": 10,
    "start_time": "2023-04-21T16:11:01.145Z"
   },
   {
    "duration": 4,
    "start_time": "2023-04-21T16:23:58.750Z"
   },
   {
    "duration": 9,
    "start_time": "2023-04-21T16:24:00.541Z"
   },
   {
    "duration": 13,
    "start_time": "2023-04-21T16:24:03.022Z"
   },
   {
    "duration": 4,
    "start_time": "2023-04-21T16:24:56.849Z"
   },
   {
    "duration": 8,
    "start_time": "2023-04-21T16:24:57.512Z"
   },
   {
    "duration": 15,
    "start_time": "2023-04-21T16:24:58.728Z"
   },
   {
    "duration": 8,
    "start_time": "2023-04-21T16:25:55.148Z"
   },
   {
    "duration": 16,
    "start_time": "2023-04-21T16:25:56.223Z"
   },
   {
    "duration": 1188,
    "start_time": "2023-04-21T16:26:22.418Z"
   },
   {
    "duration": 159,
    "start_time": "2023-04-21T16:26:23.609Z"
   },
   {
    "duration": 17,
    "start_time": "2023-04-21T16:26:23.770Z"
   },
   {
    "duration": 18,
    "start_time": "2023-04-21T16:26:23.797Z"
   },
   {
    "duration": 22,
    "start_time": "2023-04-21T16:26:23.817Z"
   },
   {
    "duration": 22,
    "start_time": "2023-04-21T16:26:23.841Z"
   },
   {
    "duration": 18,
    "start_time": "2023-04-21T16:26:23.864Z"
   },
   {
    "duration": 25,
    "start_time": "2023-04-21T16:26:23.884Z"
   },
   {
    "duration": 20,
    "start_time": "2023-04-21T16:26:23.910Z"
   },
   {
    "duration": 23,
    "start_time": "2023-04-21T16:26:23.931Z"
   },
   {
    "duration": 69,
    "start_time": "2023-04-21T16:26:23.955Z"
   },
   {
    "duration": 104,
    "start_time": "2023-04-21T16:26:24.026Z"
   },
   {
    "duration": 45,
    "start_time": "2023-04-21T16:26:24.132Z"
   },
   {
    "duration": 36,
    "start_time": "2023-04-21T16:26:24.180Z"
   },
   {
    "duration": 15,
    "start_time": "2023-04-21T16:26:24.218Z"
   },
   {
    "duration": 11,
    "start_time": "2023-04-21T16:26:24.235Z"
   },
   {
    "duration": 4,
    "start_time": "2023-04-21T16:26:24.248Z"
   },
   {
    "duration": 56,
    "start_time": "2023-04-21T16:26:24.254Z"
   },
   {
    "duration": 143,
    "start_time": "2023-04-21T16:26:24.314Z"
   },
   {
    "duration": 6,
    "start_time": "2023-04-21T16:26:24.458Z"
   },
   {
    "duration": 9,
    "start_time": "2023-04-21T16:26:24.466Z"
   },
   {
    "duration": 53,
    "start_time": "2023-04-21T16:26:24.476Z"
   },
   {
    "duration": 292,
    "start_time": "2023-04-21T16:26:24.530Z"
   },
   {
    "duration": 4,
    "start_time": "2023-04-21T16:26:24.823Z"
   },
   {
    "duration": 47,
    "start_time": "2023-04-21T16:26:24.828Z"
   },
   {
    "duration": 40,
    "start_time": "2023-04-21T16:26:24.876Z"
   },
   {
    "duration": 26,
    "start_time": "2023-04-21T16:26:24.918Z"
   },
   {
    "duration": 216,
    "start_time": "2023-04-21T16:26:24.946Z"
   },
   {
    "duration": 5,
    "start_time": "2023-04-21T16:26:25.164Z"
   },
   {
    "duration": 31,
    "start_time": "2023-04-21T16:26:25.171Z"
   },
   {
    "duration": 11,
    "start_time": "2023-04-21T16:26:25.210Z"
   },
   {
    "duration": 30,
    "start_time": "2023-04-21T16:26:25.223Z"
   },
   {
    "duration": 5,
    "start_time": "2023-04-21T16:26:25.255Z"
   },
   {
    "duration": 64,
    "start_time": "2023-04-21T16:26:25.262Z"
   },
   {
    "duration": 5,
    "start_time": "2023-04-21T16:26:25.328Z"
   },
   {
    "duration": 52,
    "start_time": "2023-04-21T16:26:25.334Z"
   },
   {
    "duration": 20,
    "start_time": "2023-04-21T16:26:25.388Z"
   },
   {
    "duration": 20,
    "start_time": "2023-04-21T16:26:25.415Z"
   },
   {
    "duration": 72,
    "start_time": "2023-04-21T16:26:25.437Z"
   },
   {
    "duration": 11,
    "start_time": "2023-04-21T16:26:25.511Z"
   },
   {
    "duration": 30,
    "start_time": "2023-04-21T16:26:25.526Z"
   },
   {
    "duration": 9,
    "start_time": "2023-04-21T16:26:25.557Z"
   },
   {
    "duration": 13,
    "start_time": "2023-04-21T16:26:25.567Z"
   },
   {
    "duration": 69,
    "start_time": "2023-04-21T16:26:25.581Z"
   },
   {
    "duration": 6,
    "start_time": "2023-04-21T16:26:25.652Z"
   },
   {
    "duration": 8,
    "start_time": "2023-04-21T16:26:25.660Z"
   },
   {
    "duration": 8,
    "start_time": "2023-04-21T16:26:25.669Z"
   },
   {
    "duration": 10,
    "start_time": "2023-04-21T16:26:25.695Z"
   },
   {
    "duration": 10,
    "start_time": "2023-04-21T16:26:25.707Z"
   },
   {
    "duration": 14,
    "start_time": "2023-04-21T16:26:25.719Z"
   },
   {
    "duration": 6,
    "start_time": "2023-04-21T16:26:25.735Z"
   },
   {
    "duration": 425,
    "start_time": "2023-04-21T16:26:25.742Z"
   },
   {
    "duration": 232,
    "start_time": "2023-04-21T16:26:26.168Z"
   },
   {
    "duration": 0,
    "start_time": "2023-04-21T16:26:26.402Z"
   },
   {
    "duration": 0,
    "start_time": "2023-04-21T16:26:26.404Z"
   },
   {
    "duration": 0,
    "start_time": "2023-04-21T16:26:26.405Z"
   },
   {
    "duration": 0,
    "start_time": "2023-04-21T16:26:26.406Z"
   },
   {
    "duration": 0,
    "start_time": "2023-04-21T16:26:26.407Z"
   },
   {
    "duration": 0,
    "start_time": "2023-04-21T16:26:26.408Z"
   },
   {
    "duration": 0,
    "start_time": "2023-04-21T16:26:26.409Z"
   },
   {
    "duration": 0,
    "start_time": "2023-04-21T16:26:26.410Z"
   },
   {
    "duration": 0,
    "start_time": "2023-04-21T16:26:26.411Z"
   },
   {
    "duration": 0,
    "start_time": "2023-04-21T16:26:26.412Z"
   },
   {
    "duration": 0,
    "start_time": "2023-04-21T16:26:26.413Z"
   },
   {
    "duration": 0,
    "start_time": "2023-04-21T16:26:26.415Z"
   },
   {
    "duration": 14,
    "start_time": "2023-04-21T16:26:48.552Z"
   },
   {
    "duration": 1164,
    "start_time": "2023-04-21T16:27:15.199Z"
   },
   {
    "duration": 169,
    "start_time": "2023-04-21T16:27:16.365Z"
   },
   {
    "duration": 28,
    "start_time": "2023-04-21T16:27:16.536Z"
   },
   {
    "duration": 13,
    "start_time": "2023-04-21T16:27:19.109Z"
   },
   {
    "duration": 21,
    "start_time": "2023-04-21T16:27:19.281Z"
   },
   {
    "duration": 18,
    "start_time": "2023-04-21T16:27:19.461Z"
   },
   {
    "duration": 13,
    "start_time": "2023-04-21T16:27:19.842Z"
   },
   {
    "duration": 12,
    "start_time": "2023-04-21T16:27:21.949Z"
   },
   {
    "duration": 39,
    "start_time": "2023-04-21T16:27:21.963Z"
   },
   {
    "duration": 36,
    "start_time": "2023-04-21T16:27:22.004Z"
   },
   {
    "duration": 73,
    "start_time": "2023-04-21T16:27:22.042Z"
   },
   {
    "duration": 89,
    "start_time": "2023-04-21T16:27:22.125Z"
   },
   {
    "duration": 39,
    "start_time": "2023-04-21T16:27:22.310Z"
   },
   {
    "duration": 16,
    "start_time": "2023-04-21T16:27:24.678Z"
   },
   {
    "duration": 12,
    "start_time": "2023-04-21T16:27:24.907Z"
   },
   {
    "duration": 7,
    "start_time": "2023-04-21T16:27:25.117Z"
   },
   {
    "duration": 3,
    "start_time": "2023-04-21T16:27:25.308Z"
   },
   {
    "duration": 39,
    "start_time": "2023-04-21T16:27:25.521Z"
   },
   {
    "duration": 156,
    "start_time": "2023-04-21T16:27:25.727Z"
   },
   {
    "duration": 6,
    "start_time": "2023-04-21T16:27:26.133Z"
   },
   {
    "duration": 6,
    "start_time": "2023-04-21T16:27:28.446Z"
   },
   {
    "duration": 44,
    "start_time": "2023-04-21T16:27:29.412Z"
   },
   {
    "duration": 282,
    "start_time": "2023-04-21T16:27:30.191Z"
   },
   {
    "duration": 6,
    "start_time": "2023-04-21T16:27:30.610Z"
   },
   {
    "duration": 37,
    "start_time": "2023-04-21T16:27:31.343Z"
   },
   {
    "duration": 30,
    "start_time": "2023-04-21T16:27:31.720Z"
   },
   {
    "duration": 29,
    "start_time": "2023-04-21T16:27:32.434Z"
   },
   {
    "duration": 214,
    "start_time": "2023-04-21T16:27:33.200Z"
   },
   {
    "duration": 6,
    "start_time": "2023-04-21T16:27:33.576Z"
   },
   {
    "duration": 18,
    "start_time": "2023-04-21T16:27:40.508Z"
   },
   {
    "duration": 11,
    "start_time": "2023-04-21T16:27:40.712Z"
   },
   {
    "duration": 33,
    "start_time": "2023-04-21T16:27:41.120Z"
   },
   {
    "duration": 4,
    "start_time": "2023-04-21T16:27:41.289Z"
   },
   {
    "duration": 41,
    "start_time": "2023-04-21T16:27:41.670Z"
   },
   {
    "duration": 5,
    "start_time": "2023-04-21T16:27:41.851Z"
   },
   {
    "duration": 44,
    "start_time": "2023-04-21T16:27:42.258Z"
   },
   {
    "duration": 11,
    "start_time": "2023-04-21T16:27:42.757Z"
   },
   {
    "duration": 14,
    "start_time": "2023-04-21T16:27:44.052Z"
   },
   {
    "duration": 68,
    "start_time": "2023-04-21T16:27:44.266Z"
   },
   {
    "duration": 14,
    "start_time": "2023-04-21T16:27:44.517Z"
   },
   {
    "duration": 33,
    "start_time": "2023-04-21T16:27:45.110Z"
   },
   {
    "duration": 13,
    "start_time": "2023-04-21T16:27:45.599Z"
   },
   {
    "duration": 10,
    "start_time": "2023-04-21T16:27:47.394Z"
   },
   {
    "duration": 63,
    "start_time": "2023-04-21T16:27:47.746Z"
   },
   {
    "duration": 9,
    "start_time": "2023-04-21T16:27:48.125Z"
   },
   {
    "duration": 5,
    "start_time": "2023-04-21T16:27:49.767Z"
   },
   {
    "duration": 7,
    "start_time": "2023-04-21T16:27:50.562Z"
   },
   {
    "duration": 6,
    "start_time": "2023-04-21T16:27:52.318Z"
   },
   {
    "duration": 8,
    "start_time": "2023-04-21T16:27:52.921Z"
   },
   {
    "duration": 5,
    "start_time": "2023-04-21T16:27:53.857Z"
   },
   {
    "duration": 4,
    "start_time": "2023-04-21T16:27:54.445Z"
   },
   {
    "duration": 417,
    "start_time": "2023-04-21T16:27:55.180Z"
   },
   {
    "duration": 163,
    "start_time": "2023-04-21T16:28:00.874Z"
   },
   {
    "duration": 4,
    "start_time": "2023-04-21T16:28:25.635Z"
   },
   {
    "duration": 39,
    "start_time": "2023-04-21T16:28:40.924Z"
   },
   {
    "duration": 3,
    "start_time": "2023-04-21T16:28:44.010Z"
   },
   {
    "duration": 23,
    "start_time": "2023-04-21T16:28:44.887Z"
   },
   {
    "duration": 1134,
    "start_time": "2023-04-21T16:28:52.609Z"
   },
   {
    "duration": 165,
    "start_time": "2023-04-21T16:28:53.745Z"
   },
   {
    "duration": 17,
    "start_time": "2023-04-21T16:28:53.912Z"
   },
   {
    "duration": 34,
    "start_time": "2023-04-21T16:28:53.930Z"
   },
   {
    "duration": 13,
    "start_time": "2023-04-21T16:28:53.966Z"
   },
   {
    "duration": 35,
    "start_time": "2023-04-21T16:28:53.981Z"
   },
   {
    "duration": 12,
    "start_time": "2023-04-21T16:28:54.018Z"
   },
   {
    "duration": 31,
    "start_time": "2023-04-21T16:28:54.032Z"
   },
   {
    "duration": 31,
    "start_time": "2023-04-21T16:28:54.066Z"
   },
   {
    "duration": 41,
    "start_time": "2023-04-21T16:28:54.099Z"
   },
   {
    "duration": 73,
    "start_time": "2023-04-21T16:28:54.141Z"
   },
   {
    "duration": 118,
    "start_time": "2023-04-21T16:28:54.216Z"
   },
   {
    "duration": 41,
    "start_time": "2023-04-21T16:28:54.336Z"
   },
   {
    "duration": 16,
    "start_time": "2023-04-21T16:28:54.395Z"
   },
   {
    "duration": 11,
    "start_time": "2023-04-21T16:28:54.413Z"
   },
   {
    "duration": 10,
    "start_time": "2023-04-21T16:28:54.425Z"
   },
   {
    "duration": 6,
    "start_time": "2023-04-21T16:28:54.437Z"
   },
   {
    "duration": 40,
    "start_time": "2023-04-21T16:28:54.444Z"
   },
   {
    "duration": 151,
    "start_time": "2023-04-21T16:28:54.486Z"
   },
   {
    "duration": 6,
    "start_time": "2023-04-21T16:28:54.639Z"
   },
   {
    "duration": 14,
    "start_time": "2023-04-21T16:28:54.647Z"
   },
   {
    "duration": 50,
    "start_time": "2023-04-21T16:28:54.662Z"
   },
   {
    "duration": 298,
    "start_time": "2023-04-21T16:28:54.714Z"
   },
   {
    "duration": 4,
    "start_time": "2023-04-21T16:28:55.014Z"
   },
   {
    "duration": 66,
    "start_time": "2023-04-21T16:28:55.019Z"
   },
   {
    "duration": 33,
    "start_time": "2023-04-21T16:28:55.087Z"
   },
   {
    "duration": 28,
    "start_time": "2023-04-21T16:28:55.121Z"
   },
   {
    "duration": 219,
    "start_time": "2023-04-21T16:28:55.151Z"
   },
   {
    "duration": 6,
    "start_time": "2023-04-21T16:28:55.372Z"
   },
   {
    "duration": 34,
    "start_time": "2023-04-21T16:28:55.380Z"
   },
   {
    "duration": 12,
    "start_time": "2023-04-21T16:28:55.416Z"
   },
   {
    "duration": 34,
    "start_time": "2023-04-21T16:28:55.429Z"
   },
   {
    "duration": 4,
    "start_time": "2023-04-21T16:28:55.465Z"
   },
   {
    "duration": 39,
    "start_time": "2023-04-21T16:28:55.497Z"
   },
   {
    "duration": 5,
    "start_time": "2023-04-21T16:28:55.538Z"
   },
   {
    "duration": 57,
    "start_time": "2023-04-21T16:28:55.545Z"
   },
   {
    "duration": 13,
    "start_time": "2023-04-21T16:28:55.607Z"
   },
   {
    "duration": 38,
    "start_time": "2023-04-21T16:28:55.621Z"
   },
   {
    "duration": 58,
    "start_time": "2023-04-21T16:28:55.661Z"
   },
   {
    "duration": 10,
    "start_time": "2023-04-21T16:28:55.721Z"
   },
   {
    "duration": 32,
    "start_time": "2023-04-21T16:28:55.735Z"
   },
   {
    "duration": 7,
    "start_time": "2023-04-21T16:28:55.769Z"
   },
   {
    "duration": 24,
    "start_time": "2023-04-21T16:28:55.778Z"
   },
   {
    "duration": 65,
    "start_time": "2023-04-21T16:28:55.804Z"
   },
   {
    "duration": 7,
    "start_time": "2023-04-21T16:28:55.870Z"
   },
   {
    "duration": 14,
    "start_time": "2023-04-21T16:28:55.898Z"
   },
   {
    "duration": 16,
    "start_time": "2023-04-21T16:28:55.913Z"
   },
   {
    "duration": 11,
    "start_time": "2023-04-21T16:28:55.930Z"
   },
   {
    "duration": 12,
    "start_time": "2023-04-21T16:28:55.942Z"
   },
   {
    "duration": 9,
    "start_time": "2023-04-21T16:28:55.955Z"
   },
   {
    "duration": 6,
    "start_time": "2023-04-21T16:28:55.966Z"
   },
   {
    "duration": 115,
    "start_time": "2023-04-21T16:28:55.973Z"
   },
   {
    "duration": 0,
    "start_time": "2023-04-21T16:28:56.090Z"
   },
   {
    "duration": 0,
    "start_time": "2023-04-21T16:28:56.095Z"
   },
   {
    "duration": 0,
    "start_time": "2023-04-21T16:28:56.095Z"
   },
   {
    "duration": 0,
    "start_time": "2023-04-21T16:28:56.096Z"
   },
   {
    "duration": 0,
    "start_time": "2023-04-21T16:28:56.097Z"
   },
   {
    "duration": 0,
    "start_time": "2023-04-21T16:28:56.098Z"
   },
   {
    "duration": 0,
    "start_time": "2023-04-21T16:28:56.099Z"
   },
   {
    "duration": 0,
    "start_time": "2023-04-21T16:28:56.099Z"
   },
   {
    "duration": 0,
    "start_time": "2023-04-21T16:28:56.100Z"
   },
   {
    "duration": 0,
    "start_time": "2023-04-21T16:28:56.100Z"
   },
   {
    "duration": 0,
    "start_time": "2023-04-21T16:28:56.101Z"
   },
   {
    "duration": 0,
    "start_time": "2023-04-21T16:28:56.101Z"
   },
   {
    "duration": 0,
    "start_time": "2023-04-21T16:28:56.102Z"
   },
   {
    "duration": 0,
    "start_time": "2023-04-21T16:28:56.107Z"
   },
   {
    "duration": 16,
    "start_time": "2023-04-21T16:29:13.285Z"
   },
   {
    "duration": 36,
    "start_time": "2023-04-21T16:29:13.456Z"
   },
   {
    "duration": 70,
    "start_time": "2023-04-21T16:29:15.071Z"
   },
   {
    "duration": 5,
    "start_time": "2023-04-21T16:29:15.551Z"
   },
   {
    "duration": 8,
    "start_time": "2023-04-21T16:29:16.236Z"
   },
   {
    "duration": 12,
    "start_time": "2023-04-21T16:29:17.637Z"
   },
   {
    "duration": 8,
    "start_time": "2023-04-21T16:29:28.357Z"
   },
   {
    "duration": 12,
    "start_time": "2023-04-21T16:29:53.090Z"
   },
   {
    "duration": 17,
    "start_time": "2023-04-21T16:29:53.899Z"
   },
   {
    "duration": 4,
    "start_time": "2023-04-21T16:31:45.584Z"
   },
   {
    "duration": 8,
    "start_time": "2023-04-21T16:31:46.316Z"
   },
   {
    "duration": 9,
    "start_time": "2023-04-21T16:31:47.473Z"
   },
   {
    "duration": 8,
    "start_time": "2023-04-21T16:31:50.932Z"
   },
   {
    "duration": 8,
    "start_time": "2023-04-21T16:31:51.076Z"
   },
   {
    "duration": 7,
    "start_time": "2023-04-21T16:31:51.476Z"
   },
   {
    "duration": 13,
    "start_time": "2023-04-21T16:32:15.689Z"
   },
   {
    "duration": 10,
    "start_time": "2023-04-21T16:32:17.367Z"
   },
   {
    "duration": 8,
    "start_time": "2023-04-21T16:32:26.328Z"
   },
   {
    "duration": 19,
    "start_time": "2023-04-21T16:32:30.702Z"
   },
   {
    "duration": 11,
    "start_time": "2023-04-21T16:32:35.966Z"
   },
   {
    "duration": 10,
    "start_time": "2023-04-21T16:32:55.711Z"
   },
   {
    "duration": 8,
    "start_time": "2023-04-21T16:32:56.360Z"
   },
   {
    "duration": 9,
    "start_time": "2023-04-21T16:33:06.682Z"
   },
   {
    "duration": 11,
    "start_time": "2023-04-21T16:33:16.821Z"
   },
   {
    "duration": 9,
    "start_time": "2023-04-21T16:33:28.336Z"
   },
   {
    "duration": 1217,
    "start_time": "2023-04-21T21:00:44.828Z"
   },
   {
    "duration": 157,
    "start_time": "2023-04-21T21:00:46.047Z"
   },
   {
    "duration": 19,
    "start_time": "2023-04-21T21:00:46.206Z"
   },
   {
    "duration": 29,
    "start_time": "2023-04-21T21:00:46.228Z"
   },
   {
    "duration": 13,
    "start_time": "2023-04-21T21:00:46.259Z"
   },
   {
    "duration": 18,
    "start_time": "2023-04-21T21:00:46.274Z"
   },
   {
    "duration": 20,
    "start_time": "2023-04-21T21:00:46.294Z"
   },
   {
    "duration": 12,
    "start_time": "2023-04-21T21:00:46.316Z"
   },
   {
    "duration": 19,
    "start_time": "2023-04-21T21:00:46.356Z"
   },
   {
    "duration": 26,
    "start_time": "2023-04-21T21:00:46.378Z"
   },
   {
    "duration": 90,
    "start_time": "2023-04-21T21:00:46.406Z"
   },
   {
    "duration": 103,
    "start_time": "2023-04-21T21:00:46.499Z"
   },
   {
    "duration": 40,
    "start_time": "2023-04-21T21:00:46.603Z"
   },
   {
    "duration": 22,
    "start_time": "2023-04-21T21:00:46.645Z"
   },
   {
    "duration": 14,
    "start_time": "2023-04-21T21:00:46.668Z"
   },
   {
    "duration": 8,
    "start_time": "2023-04-21T21:00:46.684Z"
   },
   {
    "duration": 3,
    "start_time": "2023-04-21T21:00:46.694Z"
   },
   {
    "duration": 58,
    "start_time": "2023-04-21T21:00:46.699Z"
   },
   {
    "duration": 146,
    "start_time": "2023-04-21T21:00:46.758Z"
   },
   {
    "duration": 6,
    "start_time": "2023-04-21T21:00:46.906Z"
   },
   {
    "duration": 7,
    "start_time": "2023-04-21T21:00:46.913Z"
   },
   {
    "duration": 55,
    "start_time": "2023-04-21T21:00:46.922Z"
   },
   {
    "duration": 327,
    "start_time": "2023-04-21T21:00:46.979Z"
   },
   {
    "duration": 4,
    "start_time": "2023-04-21T21:00:47.308Z"
   },
   {
    "duration": 46,
    "start_time": "2023-04-21T21:00:47.313Z"
   },
   {
    "duration": 39,
    "start_time": "2023-04-21T21:00:47.361Z"
   },
   {
    "duration": 37,
    "start_time": "2023-04-21T21:00:47.404Z"
   },
   {
    "duration": 227,
    "start_time": "2023-04-21T21:00:47.455Z"
   },
   {
    "duration": 6,
    "start_time": "2023-04-21T21:00:47.683Z"
   },
   {
    "duration": 20,
    "start_time": "2023-04-21T21:00:47.691Z"
   },
   {
    "duration": 13,
    "start_time": "2023-04-21T21:00:47.712Z"
   },
   {
    "duration": 64,
    "start_time": "2023-04-21T21:00:47.726Z"
   },
   {
    "duration": 5,
    "start_time": "2023-04-21T21:00:47.792Z"
   },
   {
    "duration": 58,
    "start_time": "2023-04-21T21:00:47.798Z"
   },
   {
    "duration": 5,
    "start_time": "2023-04-21T21:00:47.858Z"
   },
   {
    "duration": 40,
    "start_time": "2023-04-21T21:00:47.865Z"
   },
   {
    "duration": 12,
    "start_time": "2023-04-21T21:00:47.907Z"
   },
   {
    "duration": 40,
    "start_time": "2023-04-21T21:00:47.921Z"
   },
   {
    "duration": 59,
    "start_time": "2023-04-21T21:00:47.963Z"
   },
   {
    "duration": 12,
    "start_time": "2023-04-21T21:00:48.023Z"
   },
   {
    "duration": 30,
    "start_time": "2023-04-21T21:00:48.056Z"
   },
   {
    "duration": 8,
    "start_time": "2023-04-21T21:00:48.088Z"
   },
   {
    "duration": 10,
    "start_time": "2023-04-21T21:00:48.097Z"
   },
   {
    "duration": 81,
    "start_time": "2023-04-21T21:00:48.109Z"
   },
   {
    "duration": 7,
    "start_time": "2023-04-21T21:00:48.192Z"
   },
   {
    "duration": 17,
    "start_time": "2023-04-21T21:00:48.200Z"
   },
   {
    "duration": 11,
    "start_time": "2023-04-21T21:00:48.219Z"
   },
   {
    "duration": 8,
    "start_time": "2023-04-21T21:00:48.231Z"
   },
   {
    "duration": 22,
    "start_time": "2023-04-21T21:00:48.240Z"
   },
   {
    "duration": 12,
    "start_time": "2023-04-21T21:00:48.263Z"
   },
   {
    "duration": 4,
    "start_time": "2023-04-21T21:00:48.277Z"
   },
   {
    "duration": 17,
    "start_time": "2023-04-21T21:00:48.282Z"
   },
   {
    "duration": 56,
    "start_time": "2023-04-21T21:00:48.300Z"
   },
   {
    "duration": 73,
    "start_time": "2023-04-21T21:00:48.358Z"
   },
   {
    "duration": 5,
    "start_time": "2023-04-21T21:00:48.433Z"
   },
   {
    "duration": 24,
    "start_time": "2023-04-21T21:00:48.439Z"
   },
   {
    "duration": 16,
    "start_time": "2023-04-21T21:00:48.465Z"
   },
   {
    "duration": 11,
    "start_time": "2023-04-21T21:00:48.482Z"
   },
   {
    "duration": 10,
    "start_time": "2023-04-21T21:00:48.495Z"
   },
   {
    "duration": 8,
    "start_time": "2023-04-21T21:00:48.506Z"
   },
   {
    "duration": 47,
    "start_time": "2023-04-21T21:00:48.515Z"
   },
   {
    "duration": 15,
    "start_time": "2023-04-21T21:00:48.564Z"
   },
   {
    "duration": 19,
    "start_time": "2023-04-21T21:00:48.581Z"
   },
   {
    "duration": 21,
    "start_time": "2023-04-21T21:00:48.601Z"
   },
   {
    "duration": 12,
    "start_time": "2023-04-21T21:00:48.623Z"
   }
  ],
  "kernelspec": {
   "display_name": "Python 3",
   "language": "python",
   "name": "python3"
  },
  "language_info": {
   "codemirror_mode": {
    "name": "ipython",
    "version": 3
   },
   "file_extension": ".py",
   "mimetype": "text/x-python",
   "name": "python",
   "nbconvert_exporter": "python",
   "pygments_lexer": "ipython3",
   "version": "3.8.5"
  },
  "toc": {
   "base_numbering": 1,
   "nav_menu": {},
   "number_sections": true,
   "sideBar": true,
   "skip_h1_title": true,
   "title_cell": "Table of Contents",
   "title_sidebar": "Contents",
   "toc_cell": false,
   "toc_position": {},
   "toc_section_display": true,
   "toc_window_display": false
  }
 },
 "nbformat": 4,
 "nbformat_minor": 2
}
